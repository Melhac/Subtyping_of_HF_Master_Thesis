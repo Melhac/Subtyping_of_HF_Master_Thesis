{
 "cells": [
  {
   "cell_type": "markdown",
   "metadata": {},
   "source": [
    "# Extract Time Series Data\n",
    "\n",
    "With this notebook the TimeSeries for predefined FIBER Conditions can be extracted. \n",
    "\n"
   ]
  },
  {
   "cell_type": "code",
   "execution_count": null,
   "metadata": {},
   "outputs": [],
   "source": [
    "from typing import Optional\n",
    "import matplotlib.pyplot as plt\n",
    "import pandas as pd\n",
    "import seaborn as sns\n",
    "import venn\n",
    "from fiber import Cohort\n",
    "from fiber.condition import MRNs\n",
    "from fiber.config import OCCURRENCE_INDEX, VERBOSE\n",
    "from fiber.dataframe import (\n",
    "    column_threshold_clip,\n",
    "    create_id_column,\n",
    "    merge_to_base,\n",
    "    time_window_clip\n",
    ")\n",
    "from fiber.plots.distributions import bars\n",
    "from fiberutils.time_series_utils import ssr_transform\n",
    "from fiber.condition import Patient, MRNs\n",
    "from fiber.condition import Diagnosis\n",
    "from fiber.condition import Measurement, Encounter, Drug, TobaccoUse,LabValue, VitalSign, Procedure\n",
    "from fiber.storage import yaml as fiberyaml\n",
    "#from fiberutils.cohort_utils import get_time_series, pivot_time_series\n",
    "import pandas as pd\n",
    "import pyarrow.parquet as pq\n",
    "import numpy as np\n",
    "import os\n",
    "import matplotlib.pyplot as plt\n",
    "from functools import reduce\n",
    "import json\n",
    "import math\n",
    "import inspect\n",
    "import json\n",
    "import sys\n",
    "from pydoc import locate\n",
    "import requests\n",
    "##### REQUIRES THE DATAFRAME FOLDER TO BE NAMED 'Cohorts', WHICH INCLUDES ALL PRECOMPUTED DATAFRAMES #####\n",
    "from typing import Optional\n",
    "\n",
    "import matplotlib.pyplot as plt\n",
    "import pandas as pd\n",
    "import seaborn as sns\n",
    "import venn\n",
    "from fiber import Cohort\n",
    "from fiber.condition import MRNs\n",
    "from fiber.config import OCCURRENCE_INDEX, VERBOSE\n",
    "from fiber.dataframe import (\n",
    "    column_threshold_clip,\n",
    "    create_id_column,\n",
    "    merge_to_base,\n",
    "    time_window_clip\n",
    ")\n",
    "from fiber.plots.distributions import bars\n",
    "\n",
    "from fiberutils.time_series_utils import ssr_transform\n",
    "from fiber.condition import Patient, MRNs\n",
    "from fiber.condition import Diagnosis\n",
    "from fiber.condition import Measurement, Encounter, Drug, TobaccoUse,LabValue, VitalSign, Procedure\n",
    "from fiber.storage import yaml as fiberyaml\n",
    "#from fiberutils.cohort_utils import get_time_series, pivot_time_series\n",
    "import pandas as pd\n",
    "import pyarrow.parquet as pq\n",
    "import numpy as np\n",
    "import os\n",
    "import matplotlib.pyplot as plt\n",
    "from functools import reduce\n",
    "import json\n",
    "import math\n",
    "import inspect\n",
    "import json\n",
    "import sys\n",
    "from pydoc import locate\n",
    "\n",
    "#import request"
   ]
  },
  {
   "cell_type": "code",
   "execution_count": null,
   "metadata": {},
   "outputs": [],
   "source": [
    "#generic function get cohort from mrns\n",
    "def df_to_cohort(df):\n",
    "    #mrns = list(df.index.values)\n",
    "    #mrns = list(map(str, mrns))\n",
    "    p_condition = MRNs(df)\n",
    "    print(MRNs(df))\n",
    "    cohort = Cohort(p_condition)\n",
    "    #print(mrns)\n",
    "    return cohort"
   ]
  },
  {
   "cell_type": "code",
   "execution_count": null,
   "metadata": {},
   "outputs": [],
   "source": [
    "#MRN Data frame : \n",
    "sample = pq.read_table('Cohort/Feature_Extraction/ALL_HF_cohort_unsupervised_only_all_count_all_mean_preprocessed.parquet').to_pandas()\n",
    "sample['medical_record_number']=sample.index\n",
    "# Saving Hf_Onset as age_in_days for PIVOT config necessary and for the function time series for\n",
    "sample = sample[\"HF_Onset_age_in_days\"]\n",
    "sample = sample.to_frame()\n",
    "sample.reset_index(level=0, inplace=True)\n",
    "sample.rename(columns = {\"HF_Onset_age_in_days\": \"age_in_days\"}, inplace = True)\n",
    "#create a small sample\n",
    "#sample = sample.head(10) #to try with small sample\n",
    "sample\n",
    "#convert df to fiber cohort \n",
    "cohort_EF_Baseline = df_to_cohort(sample)\n",
    "cohort_EF_Baseline"
   ]
  },
  {
   "cell_type": "code",
   "execution_count": null,
   "metadata": {},
   "outputs": [],
   "source": [
    "#Functions to get detailed information of the FIBER Conditiond to be able to extract the right data\n",
    "def rename_columns( df,col_ignore):\n",
    "    replacements = {}\n",
    "    for column in df.columns:\n",
    "        replacements[column] = get(column,col_ignore)\n",
    "    return replacements\n",
    "\n",
    "def get(feature,col_ignor):\n",
    "    #context first empty : \n",
    "    context=\"\"\n",
    "    code=\"\"\n",
    "    \n",
    "    # does not support time window information inside feature name yet\n",
    "    if feature.startswith(col_ignor):\n",
    "        return feature.replace('_', ' ').replace('.', '|')\n",
    "\n",
    "    split_name = feature.split('__')\n",
    "    if split_name[1] in [\n",
    "        i[0]\n",
    "        for i in inspect.getmembers(\n",
    "            sys.modules['fiber.condition'],\n",
    "            inspect.isclass\n",
    "        )\n",
    "    ]:\n",
    "        aggregation = split_name[0]\n",
    "        split_name = split_name[1:]\n",
    "    else:\n",
    "        aggregation = \"time series\"\n",
    "        \n",
    "\n",
    "    if len(split_name) == 3:\n",
    "        class_name, context, code = split_name\n",
    "        condition_class = locate(f'fiber.condition.{class_name}')\n",
    "        description = get_description(condition_class, code, context)\n",
    "    else:\n",
    "        class_name, description = split_name\n",
    "        \n",
    "    return f'{class_name} | {code }|{description.capitalize()} ({aggregation}) | {context}' \n",
    "\n",
    "def get_description( condition_class, code, context):\n",
    "    return condition_class(\n",
    "        code=code,\n",
    "        context=context\n",
    "    ).patients_per(\n",
    "        condition_class.description_column\n",
    "    )[\n",
    "        condition_class.description_column.name.lower()\n",
    "    ].iloc[0]\n",
    "#columns that should be ignored for the timeseries extraction\n",
    "col_ignore=('age_in_days', 'gender', 'religion', 'race','medical_record_number','HF_Onset_age_in_days','patient_ethnic_group','deceased_indicator','mother_account_number','address_zip','marital_status_code')\n",
    "col_ignore"
   ]
  },
  {
   "cell_type": "markdown",
   "metadata": {},
   "source": [
    "# Create Feature look up table with human readable names"
   ]
  },
  {
   "cell_type": "code",
   "execution_count": null,
   "metadata": {},
   "outputs": [],
   "source": [
    "col=['original_feature_name','human_readable']\n",
    "feature_look_up=pd.DataFrame(columns=col)\n",
    "feature_look_up"
   ]
  },
  {
   "cell_type": "markdown",
   "metadata": {},
   "source": [
    "### Drug Dictionary"
   ]
  },
  {
   "cell_type": "code",
   "execution_count": null,
   "metadata": {
    "scrolled": true
   },
   "outputs": [],
   "source": [
    "#non drug columns:\n",
    "col_for_dropping=['age_in_days',\n",
    " 'gender',\n",
    " 'religion',\n",
    " 'race',\n",
    " 'medical_record_number',\n",
    " 'patient_ethnic_group',\n",
    " 'deceased_indicator',\n",
    " 'mother_account_number',\n",
    " 'address_zip',\n",
    " 'date_of_birth',\n",
    " 'month_of_birth',\n",
    " 'marital_status_code']\n",
    "# load drug dataframe: \n",
    "#get Medical Features for Timeseries Extraction: \n",
    "df_path='Cohort/Feature_Extraction/Unsupervised_ALL_HF/Drug_after_onset_HF_ALL_mmm_0_2'\n",
    "drug = pq.read_table(df_path).to_pandas()\n",
    "#print(drug)\n",
    "drug=drug.drop(col_for_dropping,axis=1)\n",
    "drug_renamed_column=rename_columns(drug,col_ignore)"
   ]
  },
  {
   "cell_type": "code",
   "execution_count": null,
   "metadata": {},
   "outputs": [],
   "source": [
    "for n in drug_renamed_column.items(): \n",
    "    parts=n[1].split('|')\n",
    "    original_feature_name=n[0]\n",
    "    human_readable=str(parts[2].replace(' (time series) ','')).strip()\n",
    "    feature_look_up=feature_look_up.append({'original_feature_name':original_feature_name,'human_readable':human_readable},ignore_index=True)\n",
    "feature_look_up"
   ]
  },
  {
   "cell_type": "markdown",
   "metadata": {},
   "source": [
    "### Diagnosis Dictionary"
   ]
  },
  {
   "cell_type": "code",
   "execution_count": null,
   "metadata": {
    "scrolled": true
   },
   "outputs": [],
   "source": [
    "# load Diagnosis dataframe: \n",
    "#get Medical Features for Timeseries Extraction: \n",
    "df_path='Cohort/Feature_Extraction/Unsupervised_ALL_HF/Diagnosis_after_onset_HF_ALL_mmm_0_2_cleaned'\n",
    "diagnosis = pq.read_table(df_path).to_pandas()\n",
    "diagnosis=diagnosis.drop(col_for_dropping,axis=1)\n",
    "#create diagnosis dictionary\n",
    "diagnosis_renamed_column=rename_columns(diagnosis,col_ignore)\n"
   ]
  },
  {
   "cell_type": "code",
   "execution_count": null,
   "metadata": {},
   "outputs": [],
   "source": [
    "for n in diagnosis_renamed_column.items(): \n",
    "    parts=n[1].split('|')\n",
    "    original_feature_name=n[0]\n",
    "    human_readable=str(parts[2].replace(' (time series) ','')).strip()\n",
    "    feature_look_up=feature_look_up.append({'original_feature_name':original_feature_name,'human_readable':human_readable},ignore_index=True)\n",
    "feature_look_up"
   ]
  },
  {
   "cell_type": "markdown",
   "metadata": {},
   "source": [
    "### Procedures Dictionary"
   ]
  },
  {
   "cell_type": "code",
   "execution_count": null,
   "metadata": {},
   "outputs": [],
   "source": [
    "# load Procedure dataframe: \n",
    "#get Procedure Features for Timeseries Extraction: \n",
    "df_path='Cohort/Feature_Extraction/Unsupervised_ALL_HF/Procedure_after_onset_HF_ALL_mmm_0_6'\n",
    "procedures = pq.read_table(df_path).to_pandas()\n",
    "procedures=procedures.drop(col_for_dropping,axis=1)\n",
    "procedures_renamed_column=rename_columns(procedures,col_ignore)"
   ]
  },
  {
   "cell_type": "code",
   "execution_count": null,
   "metadata": {},
   "outputs": [],
   "source": [
    "for n in procedures_renamed_column.items(): \n",
    "    parts=n[1].split('|')\n",
    "    original_feature_name=n[0]\n",
    "    human_readable=str(parts[2].replace(' (time series) ','')).strip()\n",
    "    feature_look_up=feature_look_up.append({'original_feature_name':original_feature_name,'human_readable':human_readable},ignore_index=True)\n",
    "feature_look_up"
   ]
  },
  {
   "cell_type": "markdown",
   "metadata": {},
   "source": [
    "### Vital Sign "
   ]
  },
  {
   "cell_type": "code",
   "execution_count": null,
   "metadata": {},
   "outputs": [],
   "source": [
    "col_for_dropping=[]\n",
    "# load Vital Sign  dataframe: \n",
    "#get Vital Sign Features for Timeseries Extraction: \n",
    "df_path='Cohort/Feature_Extraction/Unsupervised_ALL_HF/VitalSign_after_onset_HF_ALL_mmm_0_6_cleaned'\n",
    "vital = pq.read_table(df_path).to_pandas()\n",
    "vital=vital.drop(col_for_dropping,axis=1)\n",
    "#create Vital Signs dictionary\n",
    "vital_renamed_column=rename_columns(vital,col_ignore)"
   ]
  },
  {
   "cell_type": "code",
   "execution_count": null,
   "metadata": {},
   "outputs": [],
   "source": [
    "vital_renamed_column"
   ]
  },
  {
   "cell_type": "code",
   "execution_count": null,
   "metadata": {},
   "outputs": [],
   "source": [
    "for n in vital_renamed_column.items(): \n",
    "    parts=n[1].split('|')\n",
    "    original_feature_name=n[0]\n",
    "    if original_feature_name !='medical_record_number':\n",
    "        human_readable=str(parts[2].replace(' (time series) ','')).strip()\n",
    "        feature_look_up=feature_look_up.append({'original_feature_name':original_feature_name,'human_readable':human_readable},ignore_index=True)\n",
    "feature_look_up"
   ]
  },
  {
   "cell_type": "markdown",
   "metadata": {},
   "source": [
    "### Lab Values "
   ]
  },
  {
   "cell_type": "code",
   "execution_count": null,
   "metadata": {},
   "outputs": [],
   "source": [
    "# load Lab Values dataframe: \n",
    "#get Lab Values Features for Timeseries Extraction: \n",
    "df_path='Cohort/Feature_Extraction/Unsupervised_ALL_HF/LabValue_after_onset_HF_ALL_mmm_0_8_cleaned'\n",
    "lab = pq.read_table(df_path).to_pandas()\n",
    "lab=lab.drop(col_for_dropping,axis=1)\n",
    "#create lab values dictionary\n",
    "lab_renamed_column=rename_columns(lab,col_ignore)"
   ]
  },
  {
   "cell_type": "code",
   "execution_count": null,
   "metadata": {},
   "outputs": [],
   "source": [
    "for n in lab_renamed_column.items(): \n",
    "    parts=n[1].split('|')\n",
    "    original_feature_name=n[0]\n",
    "    if original_feature_name !='medical_record_number':\n",
    "        human_readable=str(parts[2].replace(' (time series) ','')).strip()\n",
    "        feature_look_up=feature_look_up.append({'original_feature_name':original_feature_name,'human_readable':human_readable},ignore_index=True)\n",
    "feature_look_up"
   ]
  },
  {
   "cell_type": "code",
   "execution_count": null,
   "metadata": {},
   "outputs": [],
   "source": [
    "feature_look_up.to_parquet('Cohort/feature_look_up.parquet')"
   ]
  },
  {
   "cell_type": "code",
   "execution_count": null,
   "metadata": {},
   "outputs": [],
   "source": [
    "vital"
   ]
  },
  {
   "cell_type": "markdown",
   "metadata": {},
   "source": [
    "# Inpatient "
   ]
  },
  {
   "cell_type": "code",
   "execution_count": null,
   "metadata": {},
   "outputs": [],
   "source": []
  },
  {
   "cell_type": "code",
   "execution_count": null,
   "metadata": {},
   "outputs": [],
   "source": []
  },
  {
   "cell_type": "code",
   "execution_count": null,
   "metadata": {},
   "outputs": [],
   "source": [
    "#non drug columns:\n",
    "col_for_dropping=['age_in_days',\n",
    " 'gender',\n",
    " 'religion',\n",
    " 'race',\n",
    " 'medical_record_number',\n",
    " 'patient_ethnic_group',\n",
    " 'deceased_indicator',\n",
    " 'mother_account_number',\n",
    " 'address_zip',\n",
    " 'date_of_birth',\n",
    " 'month_of_birth',\n",
    " 'marital_status_code']"
   ]
  },
  {
   "cell_type": "code",
   "execution_count": null,
   "metadata": {},
   "outputs": [],
   "source": [
    "conditions=Encounter(description='%Inpatient%')"
   ]
  },
  {
   "cell_type": "code",
   "execution_count": null,
   "metadata": {},
   "outputs": [],
   "source": [
    "inpatient_time_series=cohort_EF_Baseline.get(conditions)"
   ]
  },
  {
   "cell_type": "code",
   "execution_count": null,
   "metadata": {},
   "outputs": [],
   "source": [
    "inpatient_time_series"
   ]
  },
  {
   "cell_type": "code",
   "execution_count": null,
   "metadata": {},
   "outputs": [],
   "source": [
    "inpatient_time_series.to_parquet('Cohort/Time_Series/Inpatient_Events_raw.parquet')"
   ]
  },
  {
   "cell_type": "markdown",
   "metadata": {},
   "source": [
    "# Ejection Fraction"
   ]
  },
  {
   "cell_type": "code",
   "execution_count": null,
   "metadata": {},
   "outputs": [],
   "source": [
    "#Define ejection fraction condition: \n",
    "conditions=(LabValue('%ejection%'))\n",
    "ej_time_series=cohort_EF_Baseline.time_series_for(\n",
    "        conditions\n",
    "    )"
   ]
  },
  {
   "cell_type": "code",
   "execution_count": null,
   "metadata": {},
   "outputs": [],
   "source": [
    "ej_time_series"
   ]
  },
  {
   "cell_type": "code",
   "execution_count": null,
   "metadata": {},
   "outputs": [],
   "source": [
    "ej_time_series.to_parquet('Cohort/Time_Series/Ejection_Fraction_raw.parquet')"
   ]
  },
  {
   "cell_type": "markdown",
   "metadata": {},
   "source": [
    "# Drugs"
   ]
  },
  {
   "cell_type": "code",
   "execution_count": null,
   "metadata": {},
   "outputs": [],
   "source": [
    "#non drug columns:\n",
    "col_for_dropping=['age_in_days',\n",
    " 'gender',\n",
    " 'religion',\n",
    " 'race',\n",
    " 'medical_record_number',\n",
    " 'patient_ethnic_group',\n",
    " 'deceased_indicator',\n",
    " 'mother_account_number',\n",
    " 'address_zip',\n",
    " 'date_of_birth',\n",
    " 'month_of_birth',\n",
    " 'marital_status_code']"
   ]
  },
  {
   "cell_type": "code",
   "execution_count": null,
   "metadata": {
    "scrolled": true
   },
   "outputs": [],
   "source": [
    "# load drug dataframe: \n",
    "#get Medical Features for Timeseries Extraction: \n",
    "df_path='Cohort/Feature_Extraction/Unsupervised_ALL_HF/Drug_after_onset_HF_ALL_mmm_0_2'\n",
    "drug = pq.read_table(df_path).to_pandas()\n",
    "#print(drug)\n",
    "drug=drug.drop(col_for_dropping,axis=1)\n",
    "drug"
   ]
  },
  {
   "cell_type": "code",
   "execution_count": null,
   "metadata": {
    "scrolled": true
   },
   "outputs": [],
   "source": [
    "#create drug dictionary\n",
    "drug_renamed_column=rename_columns(drug,col_ignore)\n"
   ]
  },
  {
   "cell_type": "code",
   "execution_count": null,
   "metadata": {
    "scrolled": true
   },
   "outputs": [],
   "source": [
    "#get Drug Features for Time series\n",
    "'''structure for drug time series feature: \n",
    "conditions=(Drug(context='TDS',\n",
    "            code='01060-ACETAMINOPHEN TABS',\n",
    "            description='Acetaminophen tabs',\n",
    "            data_columns=['medical_record_number','age_in_days', 'context_name',\n",
    "            'MATERIAL_NAME','GENERIC_NAME','BRAND1','numeric_value'])|)\n",
    "\n",
    "'''\n",
    "for n in drug_renamed_column.items(): \n",
    "    parts=n[1].split('|')\n",
    "    drug_statement='Drug(context=\\''+str(parts[3]).strip()+'\\',code=\\''+str(parts[1]).strip()+'\\',description=\\''+str(parts[2].replace(' (time series) ','')).strip()+'\\',data_columns=[\\'medical_record_number\\',\\'age_in_days\\', \\'context_name\\',\\'MATERIAL_NAME\\',\\'GENERIC_NAME\\',\\'BRAND1\\',\\'numeric_value\\'])|'\n",
    "    #drug_statement='a'+n[1]\n",
    "    print(drug_statement)\n",
    "    #print(parts[3])"
   ]
  },
  {
   "cell_type": "code",
   "execution_count": null,
   "metadata": {},
   "outputs": [],
   "source": [
    "\n",
    "#final Format Drugs Copied from the output above \n",
    "conditions=(Drug(context='COMPURECORD',code='Cefazolin',description='Cefazolin',data_columns=['medical_record_number','age_in_days', 'context_name','MATERIAL_NAME','GENERIC_NAME','BRAND1','numeric_value'])|\n",
    "Drug(context='COMPURECORD',code='Fentanyl',description='Fentanyl',data_columns=['medical_record_number','age_in_days', 'context_name','MATERIAL_NAME','GENERIC_NAME','BRAND1','numeric_value'])|\n",
    "Drug(context='COMPURECORD',code='Midazolam',description='Midazolam',data_columns=['medical_record_number','age_in_days', 'context_name','MATERIAL_NAME','GENERIC_NAME','BRAND1','numeric_value'])|\n",
    "Drug(context='COMPURECORD',code='Propofol',description='Propofol',data_columns=['medical_record_number','age_in_days', 'context_name','MATERIAL_NAME','GENERIC_NAME','BRAND1','numeric_value'])|\n",
    "Drug(context='Cardiac Cath',code='Antiplatelets+Aspirin',description='Aspirin',data_columns=['medical_record_number','age_in_days', 'context_name','MATERIAL_NAME','GENERIC_NAME','BRAND1','numeric_value'])|\n",
    "Drug(context='Cardiac Cath',code='Diuretic+Lasix',description='Lasix',data_columns=['medical_record_number','age_in_days', 'context_name','MATERIAL_NAME','GENERIC_NAME','BRAND1','numeric_value'])|\n",
    "Drug(context='EPIC IMMUNIZATION',code='51',description='Influenza vaccine',data_columns=['medical_record_number','age_in_days', 'context_name','MATERIAL_NAME','GENERIC_NAME','BRAND1','numeric_value'])|\n",
    "Drug(context='EPIC MEDICATION',code='10113',description='Potassium chloride 10 meq/100 ml intravenous piggyback',data_columns=['medical_record_number','age_in_days', 'context_name','MATERIAL_NAME','GENERIC_NAME','BRAND1','numeric_value'])|\n",
    "Drug(context='EPIC MEDICATION',code='10168',description='Potassium chloride er 20 meq tablet,extended release(part/cryst)',data_columns=['medical_record_number','age_in_days', 'context_name','MATERIAL_NAME','GENERIC_NAME','BRAND1','numeric_value'])|\n",
    "Drug(context='EPIC MEDICATION',code='10196',description='Famotidine 20 mg tablet',data_columns=['medical_record_number','age_in_days', 'context_name','MATERIAL_NAME','GENERIC_NAME','BRAND1','numeric_value'])|\n",
    "Drug(context='EPIC MEDICATION',code='10292',description='Magnesium oxide 400 mg tablet',data_columns=['medical_record_number','age_in_days', 'context_name','MATERIAL_NAME','GENERIC_NAME','BRAND1','numeric_value'])|\n",
    "Drug(context='EPIC MEDICATION',code='12097',description='Bisacodyl 10 mg rectal suppository',data_columns=['medical_record_number','age_in_days', 'context_name','MATERIAL_NAME','GENERIC_NAME','BRAND1','numeric_value'])|\n",
    "Drug(context='EPIC MEDICATION',code='12204',description='Pantoprazole 40 mg tablet,delayed release',data_columns=['medical_record_number','age_in_days', 'context_name','MATERIAL_NAME','GENERIC_NAME','BRAND1','numeric_value'])|\n",
    "Drug(context='EPIC MEDICATION',code='12421',description='Ferrous sulfate 325 mg (65 mg iron) tablet',data_columns=['medical_record_number','age_in_days', 'context_name','MATERIAL_NAME','GENERIC_NAME','BRAND1','numeric_value'])|\n",
    "Drug(context='EPIC MEDICATION',code='1311',description='Sennosides 8.6 mg tablet',data_columns=['medical_record_number','age_in_days', 'context_name','MATERIAL_NAME','GENERIC_NAME','BRAND1','numeric_value'])|\n",
    "Drug(context='EPIC MEDICATION',code='13116',description='Lisinopril 10 mg tablet',data_columns=['medical_record_number','age_in_days', 'context_name','MATERIAL_NAME','GENERIC_NAME','BRAND1','numeric_value'])|\n",
    "Drug(context='EPIC MEDICATION',code='13136',description='Insulin regular human 100 unit/ml injection solution',data_columns=['medical_record_number','age_in_days', 'context_name','MATERIAL_NAME','GENERIC_NAME','BRAND1','numeric_value'])|\n",
    "Drug(context='EPIC MEDICATION',code='13455',description='Warfarin 5 mg tablet',data_columns=['medical_record_number','age_in_days', 'context_name','MATERIAL_NAME','GENERIC_NAME','BRAND1','numeric_value'])|\n",
    "Drug(context='EPIC MEDICATION',code='14455',description='Fentanyl (pf) 50 mcg/ml injection solution',data_columns=['medical_record_number','age_in_days', 'context_name','MATERIAL_NAME','GENERIC_NAME','BRAND1','numeric_value'])|\n",
    "Drug(context='EPIC MEDICATION',code='1451',description='Acetaminophen 325 mg tablet',data_columns=['medical_record_number','age_in_days', 'context_name','MATERIAL_NAME','GENERIC_NAME','BRAND1','numeric_value'])|\n",
    "Drug(context='EPIC MEDICATION',code='1454',description='Carvedilol 6.25 mg tablet',data_columns=['medical_record_number','age_in_days', 'context_name','MATERIAL_NAME','GENERIC_NAME','BRAND1','numeric_value'])|\n",
    "Drug(context='EPIC MEDICATION',code='14861',description='Glucagon (human recombinant) 1 mg solution for injection',data_columns=['medical_record_number','age_in_days', 'context_name','MATERIAL_NAME','GENERIC_NAME','BRAND1','numeric_value'])|\n",
    "Drug(context='EPIC MEDICATION',code='14951',description='Docusate sodium 100 mg capsule',data_columns=['medical_record_number','age_in_days', 'context_name','MATERIAL_NAME','GENERIC_NAME','BRAND1','numeric_value'])|\n",
    "Drug(context='EPIC MEDICATION',code='15419',description='Aspirin 81 mg chewable tablet',data_columns=['medical_record_number','age_in_days', 'context_name','MATERIAL_NAME','GENERIC_NAME','BRAND1','numeric_value'])|\n",
    "Drug(context='EPIC MEDICATION',code='16470',description='Lisinopril 5 mg tablet',data_columns=['medical_record_number','age_in_days', 'context_name','MATERIAL_NAME','GENERIC_NAME','BRAND1','numeric_value'])|\n",
    "Drug(context='EPIC MEDICATION',code='16639',description='Furosemide 20 mg tablet',data_columns=['medical_record_number','age_in_days', 'context_name','MATERIAL_NAME','GENERIC_NAME','BRAND1','numeric_value'])|\n",
    "Drug(context='EPIC MEDICATION',code='16822',description='Sodium chloride 0.9 % intravenous solution',data_columns=['medical_record_number','age_in_days', 'context_name','MATERIAL_NAME','GENERIC_NAME','BRAND1','numeric_value'])|\n",
    "Drug(context='EPIC MEDICATION',code='16843',description='Metoprolol succinate er 25 mg tablet,extended release 24 hr',data_columns=['medical_record_number','age_in_days', 'context_name','MATERIAL_NAME','GENERIC_NAME','BRAND1','numeric_value'])|\n",
    "Drug(context='EPIC MEDICATION',code='17270',description='Insulin lispro 100 unit/ml subcutaneous solution',data_columns=['medical_record_number','age_in_days', 'context_name','MATERIAL_NAME','GENERIC_NAME','BRAND1','numeric_value'])|\n",
    "Drug(context='EPIC MEDICATION',code='19073',description='Heparin (porcine) 5,000 unit/ml injection solution',data_columns=['medical_record_number','age_in_days', 'context_name','MATERIAL_NAME','GENERIC_NAME','BRAND1','numeric_value'])|\n",
    "Drug(context='EPIC MEDICATION',code='19767',description='Electrolyte-a intravenous solution',data_columns=['medical_record_number','age_in_days', 'context_name','MATERIAL_NAME','GENERIC_NAME','BRAND1','numeric_value'])|\n",
    "Drug(context='EPIC MEDICATION',code='19813',description='Ipratropium bromide 0.02 % solution for inhalation',data_columns=['medical_record_number','age_in_days', 'context_name','MATERIAL_NAME','GENERIC_NAME','BRAND1','numeric_value'])|\n",
    "Drug(context='EPIC MEDICATION',code='2063',description='Insulin glargine 100 unit/ml subcutaneous solution',data_columns=['medical_record_number','age_in_days', 'context_name','MATERIAL_NAME','GENERIC_NAME','BRAND1','numeric_value'])|\n",
    "Drug(context='EPIC MEDICATION',code='21305',description='Famotidine (pf) 20 mg/50 ml in 0.9 % nacl (iso) intravenous piggyback',data_columns=['medical_record_number','age_in_days', 'context_name','MATERIAL_NAME','GENERIC_NAME','BRAND1','numeric_value'])|\n",
    "Drug(context='EPIC MEDICATION',code='2424',description='Albuterol sulfate 2.5 mg/3 ml (0.083 %) solution for nebulization',data_columns=['medical_record_number','age_in_days', 'context_name','MATERIAL_NAME','GENERIC_NAME','BRAND1','numeric_value'])|\n",
    "Drug(context='EPIC MEDICATION',code='25410',description='Dextrose 50 % in water (d50w) intravenous solution',data_columns=['medical_record_number','age_in_days', 'context_name','MATERIAL_NAME','GENERIC_NAME','BRAND1','numeric_value'])|\n",
    "Drug(context='EPIC MEDICATION',code='25735',description='Morphine 2 mg/ml injection syringe',data_columns=['medical_record_number','age_in_days', 'context_name','MATERIAL_NAME','GENERIC_NAME','BRAND1','numeric_value'])|\n",
    "Drug(context='EPIC MEDICATION',code='2767',description='Polyethylene glycol 3350 17 gram oral powder packet',data_columns=['medical_record_number','age_in_days', 'context_name','MATERIAL_NAME','GENERIC_NAME','BRAND1','numeric_value'])|\n",
    "Drug(context='EPIC MEDICATION',code='31504',description='Metoprolol tartrate 25 mg tablet',data_columns=['medical_record_number','age_in_days', 'context_name','MATERIAL_NAME','GENERIC_NAME','BRAND1','numeric_value'])|\n",
    "Drug(context='EPIC MEDICATION',code='37111',description='Vancomycin 1 gram/200 ml in dextrose 5 % intravenous piggyback',data_columns=['medical_record_number','age_in_days', 'context_name','MATERIAL_NAME','GENERIC_NAME','BRAND1','numeric_value'])|\n",
    "Drug(context='EPIC MEDICATION',code='400001',description='Zz ims template',data_columns=['medical_record_number','age_in_days', 'context_name','MATERIAL_NAME','GENERIC_NAME','BRAND1','numeric_value'])|\n",
    "Drug(context='EPIC MEDICATION',code='400284',description='Sodium chloride 0.9 % iv bolus',data_columns=['medical_record_number','age_in_days', 'context_name','MATERIAL_NAME','GENERIC_NAME','BRAND1','numeric_value'])|\n",
    "Drug(context='EPIC MEDICATION',code='421',description='Furosemide 40 mg tablet',data_columns=['medical_record_number','age_in_days', 'context_name','MATERIAL_NAME','GENERIC_NAME','BRAND1','numeric_value'])|\n",
    "Drug(context='EPIC MEDICATION',code='5171',description='Dextrose 40 % oral gel',data_columns=['medical_record_number','age_in_days', 'context_name','MATERIAL_NAME','GENERIC_NAME','BRAND1','numeric_value'])|\n",
    "Drug(context='EPIC MEDICATION',code='5511',description='Sodium chloride 0.45 % intravenous solution',data_columns=['medical_record_number','age_in_days', 'context_name','MATERIAL_NAME','GENERIC_NAME','BRAND1','numeric_value'])|\n",
    "Drug(context='EPIC MEDICATION',code='65572',description='Heparin (porcine) 25,000 unit/250 ml (100 unit/ml) in dextrose 5 % iv',data_columns=['medical_record_number','age_in_days', 'context_name','MATERIAL_NAME','GENERIC_NAME','BRAND1','numeric_value'])|\n",
    "Drug(context='EPIC MEDICATION',code='689',description='Furosemide 10 mg/ml injection solution',data_columns=['medical_record_number','age_in_days', 'context_name','MATERIAL_NAME','GENERIC_NAME','BRAND1','numeric_value'])|\n",
    "Drug(context='EPIC MEDICATION',code='7045',description='Clopidogrel 75 mg tablet',data_columns=['medical_record_number','age_in_days', 'context_name','MATERIAL_NAME','GENERIC_NAME','BRAND1','numeric_value'])|\n",
    "Drug(context='EPIC MEDICATION',code='7307',description='Amlodipine 5 mg tablet',data_columns=['medical_record_number','age_in_days', 'context_name','MATERIAL_NAME','GENERIC_NAME','BRAND1','numeric_value'])|\n",
    "Drug(context='EPIC MEDICATION',code='74103',description='Ondansetron hcl (pf) 4 mg/2 ml injection solution',data_columns=['medical_record_number','age_in_days', 'context_name','MATERIAL_NAME','GENERIC_NAME','BRAND1','numeric_value'])|\n",
    "Drug(context='EPIC MEDICATION',code='76121',description='Magnesium sulfate 1 gram/50 ml in 0.9 % sodium chloride iv piggyback',data_columns=['medical_record_number','age_in_days', 'context_name','MATERIAL_NAME','GENERIC_NAME','BRAND1','numeric_value'])|\n",
    "Drug(context='EPIC MEDICATION',code='7735',description='Aspirin 81 mg tablet,delayed release',data_columns=['medical_record_number','age_in_days', 'context_name','MATERIAL_NAME','GENERIC_NAME','BRAND1','numeric_value'])|\n",
    "Drug(context='EPIC MEDICATION',code='7769',description='Perflutren lipid microspheres 1.1 mg/ml intravenous suspension',data_columns=['medical_record_number','age_in_days', 'context_name','MATERIAL_NAME','GENERIC_NAME','BRAND1','numeric_value'])|\n",
    "Drug(context='EPIC MEDICATION',code='8098',description='Spironolactone 25 mg tablet',data_columns=['medical_record_number','age_in_days', 'context_name','MATERIAL_NAME','GENERIC_NAME','BRAND1','numeric_value'])|\n",
    "Drug(context='EPIC MEDICATION',code='8267',description='Carvedilol 3.125 mg tablet',data_columns=['medical_record_number','age_in_days', 'context_name','MATERIAL_NAME','GENERIC_NAME','BRAND1','numeric_value'])|\n",
    "Drug(context='EPIC MEDICATION',code='9554',description='Oxycodone-acetaminophen 5 mg-325 mg tablet',data_columns=['medical_record_number','age_in_days', 'context_name','MATERIAL_NAME','GENERIC_NAME','BRAND1','numeric_value'])|\n",
    "Drug(context='EPIC MEDICATION',code='95567',description='Glucagon (human recombinant) 1 mg/ml solution for injection',data_columns=['medical_record_number','age_in_days', 'context_name','MATERIAL_NAME','GENERIC_NAME','BRAND1','numeric_value'])|\n",
    "Drug(context='EPIC MEDICATION',code='9940',description='Potassium chloride 20 meq oral packet',data_columns=['medical_record_number','age_in_days', 'context_name','MATERIAL_NAME','GENERIC_NAME','BRAND1','numeric_value'])|\n",
    "Drug(context='TDS ALLERGY',code='12336-MEDS',description='Meds',data_columns=['medical_record_number','age_in_days', 'context_name','MATERIAL_NAME','GENERIC_NAME','BRAND1','numeric_value'])|\n",
    "Drug(context='TDS',code='01060-ACETAMINOPHEN TABS',description='Acetaminophen tabs',data_columns=['medical_record_number','age_in_days', 'context_name','MATERIAL_NAME','GENERIC_NAME','BRAND1','numeric_value']))"
   ]
  },
  {
   "cell_type": "code",
   "execution_count": null,
   "metadata": {},
   "outputs": [],
   "source": [
    "#extract the time series data\n",
    "drug_time_series=cohort_EF_Baseline.time_series_for(\n",
    "        conditions\n",
    "    )"
   ]
  },
  {
   "cell_type": "code",
   "execution_count": null,
   "metadata": {},
   "outputs": [],
   "source": [
    "# unique values and feature names: \n",
    "drug_time_series['material_name'].unique()"
   ]
  },
  {
   "cell_type": "code",
   "execution_count": null,
   "metadata": {},
   "outputs": [],
   "source": [
    "drug_time_series.to_parquet('Cohort/Time_Series/Drug_02.parquet')"
   ]
  },
  {
   "cell_type": "markdown",
   "metadata": {},
   "source": [
    "# Diagnosis"
   ]
  },
  {
   "cell_type": "code",
   "execution_count": null,
   "metadata": {},
   "outputs": [],
   "source": [
    "#non drug columns:\n",
    "col_for_dropping=['age_in_days',\n",
    " 'gender',\n",
    " 'religion',\n",
    " 'race',\n",
    " 'medical_record_number',\n",
    " 'patient_ethnic_group',\n",
    " 'deceased_indicator',\n",
    " 'mother_account_number',\n",
    " 'address_zip',\n",
    " 'date_of_birth',\n",
    " 'month_of_birth',\n",
    " 'marital_status_code']"
   ]
  },
  {
   "cell_type": "code",
   "execution_count": null,
   "metadata": {},
   "outputs": [],
   "source": [
    "# load Diagnosis dataframe: \n",
    "#get Medical Features for Timeseries Extraction: \n",
    "df_path='Cohort/Feature_Extraction/Unsupervised_ALL_HF/Diagnosis_after_onset_HF_ALL_mmm_0_2_cleaned'\n",
    "diagnosis = pq.read_table(df_path).to_pandas()\n",
    "diagnosis=diagnosis.drop(col_for_dropping,axis=1)\n",
    "diagnosis"
   ]
  },
  {
   "cell_type": "code",
   "execution_count": null,
   "metadata": {
    "scrolled": true
   },
   "outputs": [],
   "source": [
    "#create diagnosis dictionary\n",
    "diagnosis_renamed_column=rename_columns(diagnosis,col_ignore)\n"
   ]
  },
  {
   "cell_type": "code",
   "execution_count": null,
   "metadata": {
    "scrolled": true
   },
   "outputs": [],
   "source": [
    "diagnosis_renamed_column"
   ]
  },
  {
   "cell_type": "code",
   "execution_count": null,
   "metadata": {},
   "outputs": [],
   "source": [
    "#get Drug Features for Time series\n",
    "'''structure for diagnosis time series feature: \n",
    "conditions=(Diagnosis(context='ICD-10',\n",
    "            code='D64.9',\n",
    "            data_columns=['medical_record_number','description','age_in_days', \n",
    "            'context_name', 'context_diagnosis_code', 'numeric_value'])|)\n",
    "\n",
    "'''\n",
    "for n in diagnosis_renamed_column.items(): \n",
    "    parts=n[1].split('|')\n",
    "    diagnosis_statement='Diagnosis(context=\\''+str(parts[3]).strip()+'\\',code=\\''+str(parts[1]).strip()+'\\',description=\\''+str(parts[2].replace(' (time series) ','')).strip()+'\\',data_columns=[\\'medical_record_number\\',\\'age_in_days\\',\\'description\\', \\'context_name\\',\\'context_diagnosis_code\\',\\'numeric_value\\'])|'\n",
    "    #drug_statement='a'+n[1]\n",
    "    print(diagnosis_statement)\n",
    "    #print(parts[3])"
   ]
  },
  {
   "cell_type": "code",
   "execution_count": null,
   "metadata": {},
   "outputs": [],
   "source": [
    "#final Format Diagnosis Copied from the output above \n",
    "conditions=(Diagnosis(context='APRDRG MDC',code='005',description='Circulatory system diseases',data_columns=['medical_record_number','age_in_days','description', 'context_name','context_diagnosis_code','numeric_value'])|\n",
    "Diagnosis(context='ICD-10',code='D64.9',description='Anemia, unspecified',data_columns=['medical_record_number','age_in_days','description', 'context_name','context_diagnosis_code','numeric_value'])|\n",
    "Diagnosis(context='ICD-10',code='E11.9',description='Type 2 diabetes mellitus without complications',data_columns=['medical_record_number','age_in_days','description', 'context_name','context_diagnosis_code','numeric_value'])|\n",
    "Diagnosis(context='ICD-10',code='E78.5',description='Hyperlipidemia, unspecified',data_columns=['medical_record_number','age_in_days','description', 'context_name','context_diagnosis_code','numeric_value'])|\n",
    "Diagnosis(context='ICD-10',code='I10',description='Essential (primary) hypertension',data_columns=['medical_record_number','age_in_days','description', 'context_name','context_diagnosis_code','numeric_value'])|\n",
    "Diagnosis(context='ICD-10',code='I25.10',description='Atherosclerotic heart disease of native coronary artery without angina pectoris',data_columns=['medical_record_number','age_in_days','description', 'context_name','context_diagnosis_code','numeric_value'])|\n",
    "Diagnosis(context='ICD-10',code='I48.91',description='Unspecified atrial fibrillation',data_columns=['medical_record_number','age_in_days','description', 'context_name','context_diagnosis_code','numeric_value'])|\n",
    "Diagnosis(context='ICD-10',code='I50.20',description='Unspecified systolic (congestive) heart failure',data_columns=['medical_record_number','age_in_days','description', 'context_name','context_diagnosis_code','numeric_value'])|\n",
    "Diagnosis(context='ICD-10',code='I50.22',description='Chronic systolic (congestive) heart failure',data_columns=['medical_record_number','age_in_days','description', 'context_name','context_diagnosis_code','numeric_value'])|\n",
    "Diagnosis(context='ICD-10',code='I50.9',description='Heart failure, unspecified',data_columns=['medical_record_number','age_in_days','description', 'context_name','context_diagnosis_code','numeric_value'])|\n",
    "Diagnosis(context='ICD-10',code='N17.9',description='Acute kidney failure, unspecified',data_columns=['medical_record_number','age_in_days','description', 'context_name','context_diagnosis_code','numeric_value'])|\n",
    "Diagnosis(context='ICD-10',code='R06.02',description='Shortness of breath',data_columns=['medical_record_number','age_in_days','description', 'context_name','context_diagnosis_code','numeric_value'])|\n",
    "Diagnosis(context='ICD-10',code='R07.9',description='Chest pain, unspecified',data_columns=['medical_record_number','age_in_days','description', 'context_name','context_diagnosis_code','numeric_value'])|\n",
    "Diagnosis(context='ICD-10',code='R69',description='Illness, unspecified',data_columns=['medical_record_number','age_in_days','description', 'context_name','context_diagnosis_code','numeric_value'])|\n",
    "Diagnosis(context='ICD-10',code='Z23',description='Encounter for immunization',data_columns=['medical_record_number','age_in_days','description', 'context_name','context_diagnosis_code','numeric_value'])|\n",
    "Diagnosis(context='ICD-9',code='250.00',description='Diabetes mellitus without mention of complication type ii or unspecified type not stated as uncontrolled',data_columns=['medical_record_number','age_in_days','description', 'context_name','context_diagnosis_code','numeric_value'])|\n",
    "Diagnosis(context='ICD-9',code='272.0',description='Pure hypercholesterolemia',data_columns=['medical_record_number','age_in_days','description', 'context_name','context_diagnosis_code','numeric_value'])|\n",
    "Diagnosis(context='ICD-9',code='272.4',description='Other and unspecified hyperlipidemia',data_columns=['medical_record_number','age_in_days','description', 'context_name','context_diagnosis_code','numeric_value'])|\n",
    "Diagnosis(context='ICD-9',code='285.9',description='Anemia unspecified',data_columns=['medical_record_number','age_in_days','description', 'context_name','context_diagnosis_code','numeric_value'])|\n",
    "Diagnosis(context='ICD-9',code='401.9',description='Unspecified essential hypertension',data_columns=['medical_record_number','age_in_days','description', 'context_name','context_diagnosis_code','numeric_value'])|\n",
    "Diagnosis(context='ICD-9',code='403.90',description='Hypertensive chronic kidney disease unspecified with chronic kidney disease stage i through stage iv or unspecified',data_columns=['medical_record_number','age_in_days','description', 'context_name','context_diagnosis_code','numeric_value'])|\n",
    "Diagnosis(context='ICD-9',code='414.00',description='Coronary atherosclerosis of unspecified type of vessel native or graft',data_columns=['medical_record_number','age_in_days','description', 'context_name','context_diagnosis_code','numeric_value'])|\n",
    "Diagnosis(context='ICD-9',code='414.01',description='Coronary atherosclerosis of native coronary artery',data_columns=['medical_record_number','age_in_days','description', 'context_name','context_diagnosis_code','numeric_value'])|\n",
    "Diagnosis(context='ICD-9',code='416.8',description='Other chronic pulmonary heart diseases',data_columns=['medical_record_number','age_in_days','description', 'context_name','context_diagnosis_code','numeric_value'])|\n",
    "Diagnosis(context='ICD-9',code='424.0',description='Mitral valve disorders',data_columns=['medical_record_number','age_in_days','description', 'context_name','context_diagnosis_code','numeric_value'])|\n",
    "Diagnosis(context='ICD-9',code='425.4',description='Other primary cardiomyopathies',data_columns=['medical_record_number','age_in_days','description', 'context_name','context_diagnosis_code','numeric_value'])|\n",
    "Diagnosis(context='ICD-9',code='427.31',description='Atrial fibrillation',data_columns=['medical_record_number','age_in_days','description', 'context_name','context_diagnosis_code','numeric_value'])|\n",
    "Diagnosis(context='ICD-9',code='428.0',description='Congestive heart failure unspecified',data_columns=['medical_record_number','age_in_days','description', 'context_name','context_diagnosis_code','numeric_value'])|\n",
    "Diagnosis(context='ICD-9',code='428.20',description='Unspecified systolic heart failure',data_columns=['medical_record_number','age_in_days','description', 'context_name','context_diagnosis_code','numeric_value'])|\n",
    "Diagnosis(context='ICD-9',code='428.22',description='Chronic systolic heart failure',data_columns=['medical_record_number','age_in_days','description', 'context_name','context_diagnosis_code','numeric_value'])|\n",
    "Diagnosis(context='ICD-9',code='486',description='Pneumonia organism unspecified',data_columns=['medical_record_number','age_in_days','description', 'context_name','context_diagnosis_code','numeric_value'])|\n",
    "Diagnosis(context='ICD-9',code='584.9',description='Acute kidney failure unspecified',data_columns=['medical_record_number','age_in_days','description', 'context_name','context_diagnosis_code','numeric_value'])|\n",
    "Diagnosis(context='ICD-9',code='585.9',description='Chronic kidney disease unspecified',data_columns=['medical_record_number','age_in_days','description', 'context_name','context_diagnosis_code','numeric_value'])|\n",
    "Diagnosis(context='ICD-9',code='780.79',description='Other malaise and fatigue',data_columns=['medical_record_number','age_in_days','description', 'context_name','context_diagnosis_code','numeric_value'])|\n",
    "Diagnosis(context='ICD-9',code='786.05',description='Shortness of breath',data_columns=['medical_record_number','age_in_days','description', 'context_name','context_diagnosis_code','numeric_value'])|\n",
    "Diagnosis(context='ICD-9',code='786.50',description='Unspecified chest pain',data_columns=['medical_record_number','age_in_days','description', 'context_name','context_diagnosis_code','numeric_value'])|\n",
    "Diagnosis(context='ICD-9',code='I10',description='Not available',data_columns=['medical_record_number','age_in_days','description', 'context_name','context_diagnosis_code','numeric_value'])|\n",
    "Diagnosis(context='ICD-9',code='V04.81',description='Need for prophylactic vaccination and inoculation against influenza',data_columns=['medical_record_number','age_in_days','description', 'context_name','context_diagnosis_code','numeric_value'])|\n",
    "Diagnosis(context='ICD-9',code='V14',description='Personal history of allergy to medicinal agents',data_columns=['medical_record_number','age_in_days','description', 'context_name','context_diagnosis_code','numeric_value'])|\n",
    "Diagnosis(context='ICD-9',code='V15.82',description='Personal history of tobacco use',data_columns=['medical_record_number','age_in_days','description', 'context_name','context_diagnosis_code','numeric_value'])|\n",
    "Diagnosis(context='IMO',code='10026',description='Shortness of breath',data_columns=['medical_record_number','age_in_days','description', 'context_name','context_diagnosis_code','numeric_value'])|\n",
    "Diagnosis(context='IMO',code='113033',description='Chf (congestive heart failure)',data_columns=['medical_record_number','age_in_days','description', 'context_name','context_diagnosis_code','numeric_value'])|\n",
    "Diagnosis(context='IMO',code='114039',description='Hyperlipidemia',data_columns=['medical_record_number','age_in_days','description', 'context_name','context_diagnosis_code','numeric_value'])|\n",
    "Diagnosis(context='IMO',code='144791',description='Essential hypertension',data_columns=['medical_record_number','age_in_days','description', 'context_name','context_diagnosis_code','numeric_value'])|\n",
    "Diagnosis(context='IMO',code='154288',description='Htn (hypertension)',data_columns=['medical_record_number','age_in_days','description', 'context_name','context_diagnosis_code','numeric_value'])|\n",
    "Diagnosis(context='IMO',code='154321',description='Cad (coronary artery disease)',data_columns=['medical_record_number','age_in_days','description', 'context_name','context_diagnosis_code','numeric_value'])|\n",
    "Diagnosis(context='IMO',code='158530',description='Hypertension',data_columns=['medical_record_number','age_in_days','description', 'context_name','context_diagnosis_code','numeric_value'])|\n",
    "Diagnosis(context='IMO',code='163845',description='Essential (primary) hypertension',data_columns=['medical_record_number','age_in_days','description', 'context_name','context_diagnosis_code','numeric_value'])|\n",
    "Diagnosis(context='IMO',code='5107',description='Atrial fibrillation',data_columns=['medical_record_number','age_in_days','description', 'context_name','context_diagnosis_code','numeric_value'])|\n",
    "Diagnosis(context='IMO',code='94485',description='Diabetes mellitus',data_columns=['medical_record_number','age_in_days','description', 'context_name','context_diagnosis_code','numeric_value']))"
   ]
  },
  {
   "cell_type": "code",
   "execution_count": null,
   "metadata": {},
   "outputs": [],
   "source": [
    "#extract the time series data\n",
    "diagnosis_time_series=cohort_EF_Baseline.time_series_for(\n",
    "        conditions\n",
    "    )"
   ]
  },
  {
   "cell_type": "code",
   "execution_count": null,
   "metadata": {},
   "outputs": [],
   "source": [
    "diagnosis_time_series"
   ]
  },
  {
   "cell_type": "code",
   "execution_count": null,
   "metadata": {},
   "outputs": [],
   "source": [
    "# unique values and feature names: \n",
    "diagnosis_time_series['description'].unique()"
   ]
  },
  {
   "cell_type": "code",
   "execution_count": null,
   "metadata": {},
   "outputs": [],
   "source": [
    "diagnosis_time_series.to_parquet('Cohort/Time_Series/Diagnosis_02.parquet')"
   ]
  },
  {
   "cell_type": "markdown",
   "metadata": {},
   "source": [
    "# Procedures"
   ]
  },
  {
   "cell_type": "code",
   "execution_count": null,
   "metadata": {},
   "outputs": [],
   "source": [
    "#non Procedure columns:\n",
    "col_for_dropping=['age_in_days',\n",
    " 'gender',\n",
    " 'religion',\n",
    " 'race',\n",
    " 'medical_record_number',\n",
    " 'patient_ethnic_group',\n",
    " 'deceased_indicator',\n",
    " 'mother_account_number',\n",
    " 'address_zip',\n",
    " 'date_of_birth',\n",
    " 'month_of_birth',\n",
    " 'marital_status_code']"
   ]
  },
  {
   "cell_type": "code",
   "execution_count": null,
   "metadata": {
    "scrolled": true
   },
   "outputs": [],
   "source": [
    "# load Procedure dataframe: \n",
    "#get Procedure Features for Timeseries Extraction: \n",
    "df_path='Cohort/Feature_Extraction/Unsupervised_ALL_HF/Procedure_after_onset_HF_ALL_mmm_0_6'\n",
    "procedures = pq.read_table(df_path).to_pandas()\n",
    "procedures=procedures.drop(col_for_dropping,axis=1)\n",
    "procedures"
   ]
  },
  {
   "cell_type": "code",
   "execution_count": null,
   "metadata": {},
   "outputs": [],
   "source": [
    "#create procedure dictionary\n",
    "procedures_renamed_column=rename_columns(procedures,col_ignore)\n"
   ]
  },
  {
   "cell_type": "code",
   "execution_count": null,
   "metadata": {},
   "outputs": [],
   "source": [
    "procedures_renamed_column"
   ]
  },
  {
   "cell_type": "code",
   "execution_count": null,
   "metadata": {},
   "outputs": [],
   "source": [
    "#get Drug Features for Time series\n",
    "'''structure for diagnosis time series feature: \n",
    "conditions=(Diagnosis(context='ICD-10',\n",
    "            code='D64.9',\n",
    "            data_columns=['medical_record_number','description','age_in_days', \n",
    "            'context_name', 'context_diagnosis_code', 'numeric_value'])|)\n",
    "\n",
    "'''\n",
    "for n in procedures_renamed_column.items(): \n",
    "    parts=n[1].split('|')\n",
    "    procedures_statement='Procedure(context=\\''+str(parts[3]).strip()+'\\',code=\\''+str(parts[1]).strip()+'\\',description=\\''+str(parts[2].replace(' (time series) ','')).strip()+'\\',data_columns=[\\'medical_record_number\\',\\'age_in_days\\', \\'context_name\\',\\'PROCEDURE_DESCRIPTION\\',\\'numeric_value\\'])|'\n",
    "    #drug_statement='a'+n[1]\n",
    "    print(procedures_statement)\n",
    "    #print(parts[3])"
   ]
  },
  {
   "cell_type": "code",
   "execution_count": null,
   "metadata": {},
   "outputs": [],
   "source": [
    "#Final Procedure Format, copied from above \n",
    "conditions=(Procedure(context='CAREFUSION LAB',code='AMY',description='Hemoglobin a1c',data_columns=['medical_record_number','age_in_days', 'context_name','PROCEDURE_DESCRIPTION','numeric_value'])|\n",
    "Procedure(context='CAREFUSION LAB',code='BMP',description='Basic metabolic panel',data_columns=['medical_record_number','age_in_days', 'context_name','PROCEDURE_DESCRIPTION','numeric_value'])|\n",
    "Procedure(context='CAREFUSION LAB',code='C&P',description='Cbc+platelet',data_columns=['medical_record_number','age_in_days', 'context_name','PROCEDURE_DESCRIPTION','numeric_value'])|\n",
    "Procedure(context='CAREFUSION LAB',code='CMP',description='Comprehensive metabolic panel',data_columns=['medical_record_number','age_in_days', 'context_name','PROCEDURE_DESCRIPTION','numeric_value'])|\n",
    "Procedure(context='CAREFUSION LAB',code='CPD',description='Cbc+plt+diff',data_columns=['medical_record_number','age_in_days', 'context_name','PROCEDURE_DESCRIPTION','numeric_value'])|\n",
    "Procedure(context='CAREFUSION LAB',code='CTP',description='Cbc+platelet',data_columns=['medical_record_number','age_in_days', 'context_name','PROCEDURE_DESCRIPTION','numeric_value'])|\n",
    "Procedure(context='CAREFUSION LAB',code='PO4',description='Phosphorus-blood',data_columns=['medical_record_number','age_in_days', 'context_name','PROCEDURE_DESCRIPTION','numeric_value'])|\n",
    "Procedure(context='CAREFUSION LAB',code='PRO',description='Prothrombin time',data_columns=['medical_record_number','age_in_days', 'context_name','PROCEDURE_DESCRIPTION','numeric_value'])|\n",
    "Procedure(context='CAREFUSION LAB',code='PT',description='Prothrombin time',data_columns=['medical_record_number','age_in_days', 'context_name','PROCEDURE_DESCRIPTION','numeric_value'])|\n",
    "Procedure(context='CAREFUSION LAB',code='PTPTT',description='Pt and aptt',data_columns=['medical_record_number','age_in_days', 'context_name','PROCEDURE_DESCRIPTION','numeric_value'])|\n",
    "Procedure(context='CAREFUSION LAB',code='TROI',description='Troponin i',data_columns=['medical_record_number','age_in_days', 'context_name','PROCEDURE_DESCRIPTION','numeric_value'])|\n",
    "Procedure(context='CAREFUSION LAB',code='TS-G',description='Type and screen',data_columns=['medical_record_number','age_in_days', 'context_name','PROCEDURE_DESCRIPTION','numeric_value'])|\n",
    "Procedure(context='CAREFUSION LAB',code='UCHEM',description='Urinalysis, routine',data_columns=['medical_record_number','age_in_days', 'context_name','PROCEDURE_DESCRIPTION','numeric_value'])|\n",
    "Procedure(context='CPT-4',code='71010',description='Radiologic examination, chest; single view, frontal',data_columns=['medical_record_number','age_in_days', 'context_name','PROCEDURE_DESCRIPTION','numeric_value'])|\n",
    "Procedure(context='CPT-4',code='71020',description='Radiologic examination, chest, 2 views, frontal and lateral;',data_columns=['medical_record_number','age_in_days', 'context_name','PROCEDURE_DESCRIPTION','numeric_value'])|\n",
    "Procedure(context='CPT-4',code='80048',description='Basic metabolic panel (calcium, total) this panel must include the following: calcium, total (82310), carbon dioxide (82374), chloride (82435), creatinine (82565), glucose (82947), potassium (84132), sodium (84295), urea nitrogen (bun) (84520)',data_columns=['medical_record_number','age_in_days', 'context_name','PROCEDURE_DESCRIPTION','numeric_value'])|\n",
    "Procedure(context='CPT-4',code='80053',description='Comprehensive metabolic panel this panel must include the following: albumin (82040), bilirubin, total (82247), calcium, total (82310), carbon dioxide (bicarbonate) (82374), chloride (82435), creatinine (82565), glucose (82947), phosphatase, alkaline (84075), potassium (84132), protein, total (84155), sodium (84295), transferase, alanine amino (alt) (sgpt) (84460), transferase, aspartate amino (ast) (sgot) (84450), urea nitrogen (bun) (84520)',data_columns=['medical_record_number','age_in_days', 'context_name','PROCEDURE_DESCRIPTION','numeric_value'])|\n",
    "Procedure(context='CPT-4',code='81003',description='Urinalysis, by dip stick or tablet reagent for bilirubin, glucose, hemoglobin, ketones, leukocytes, nitrite, ph, protein, specific gravity, urobilinogen, any number of these constituents; automated, without microscopy',data_columns=['medical_record_number','age_in_days', 'context_name','PROCEDURE_DESCRIPTION','numeric_value'])|\n",
    "Procedure(context='CPT-4',code='83735',description='Magnesium',data_columns=['medical_record_number','age_in_days', 'context_name','PROCEDURE_DESCRIPTION','numeric_value'])|\n",
    "Procedure(context='CPT-4',code='84100',description='Phosphorus inorganic (phosphate);',data_columns=['medical_record_number','age_in_days', 'context_name','PROCEDURE_DESCRIPTION','numeric_value'])|\n",
    "Procedure(context='CPT-4',code='84484',description='Troponin, quantitative',data_columns=['medical_record_number','age_in_days', 'context_name','PROCEDURE_DESCRIPTION','numeric_value'])|\n",
    "Procedure(context='CPT-4',code='85025',description='Blood count; complete (cbc), automated (hgb, hct, rbc, wbc and platelet count) and automated differential wbc count',data_columns=['medical_record_number','age_in_days', 'context_name','PROCEDURE_DESCRIPTION','numeric_value'])|\n",
    "Procedure(context='CPT-4',code='85027',description='Blood count; complete (cbc), automated (hgb, hct, rbc, wbc and platelet count)',data_columns=['medical_record_number','age_in_days', 'context_name','PROCEDURE_DESCRIPTION','numeric_value'])|\n",
    "Procedure(context='CPT-4',code='85610',description='Prothrombin time;',data_columns=['medical_record_number','age_in_days', 'context_name','PROCEDURE_DESCRIPTION','numeric_value'])|\n",
    "Procedure(context='CPT-4',code='85730',description='Thromboplastin time, partial (ptt); plasma or whole blood',data_columns=['medical_record_number','age_in_days', 'context_name','PROCEDURE_DESCRIPTION','numeric_value'])|\n",
    "Procedure(context='CPT-4',code='93000',description='Electrocardiogram, routine ecg with at least 12 leads; with interpretation and report',data_columns=['medical_record_number','age_in_days', 'context_name','PROCEDURE_DESCRIPTION','numeric_value'])|\n",
    "Procedure(context='EKG',code='93000-ELECTROCARDIOGRAM, COMPLETE',description='Electrocardiogram, complete',data_columns=['medical_record_number','age_in_days', 'context_name','PROCEDURE_DESCRIPTION','numeric_value'])|\n",
    "Procedure(context='EPIC CPT-4',code='100516',description='Type and screen',data_columns=['medical_record_number','age_in_days', 'context_name','PROCEDURE_DESCRIPTION','numeric_value'])|\n",
    "Procedure(context='EPIC',code='(RESP)',description='Respirations',data_columns=['medical_record_number','age_in_days', 'context_name','PROCEDURE_DESCRIPTION','numeric_value'])|\n",
    "Procedure(context='EPIC',code='(T-O)',description='Temperature, oral',data_columns=['medical_record_number','age_in_days', 'context_name','PROCEDURE_DESCRIPTION','numeric_value'])|\n",
    "Procedure(context='EPIC',code='(T-T)',description='Temperature, tympanic',data_columns=['medical_record_number','age_in_days', 'context_name','PROCEDURE_DESCRIPTION','numeric_value'])|\n",
    "Procedure(context='EPIC',code='119049',description='Type and screen',data_columns=['medical_record_number','age_in_days', 'context_name','PROCEDURE_DESCRIPTION','numeric_value'])|\n",
    "Procedure(context='EPIC',code='6029',description='Basic metabolic panel',data_columns=['medical_record_number','age_in_days', 'context_name','PROCEDURE_DESCRIPTION','numeric_value'])|\n",
    "Procedure(context='EPIC',code='6032',description='Comprehensive metabolic panel',data_columns=['medical_record_number','age_in_days', 'context_name','PROCEDURE_DESCRIPTION','numeric_value'])|\n",
    "Procedure(context='EPIC',code='6104',description='Urinalysis, routine',data_columns=['medical_record_number','age_in_days', 'context_name','PROCEDURE_DESCRIPTION','numeric_value'])|\n",
    "Procedure(context='EPIC',code='64302',description='Pt and aptt',data_columns=['medical_record_number','age_in_days', 'context_name','PROCEDURE_DESCRIPTION','numeric_value'])|\n",
    "Procedure(context='EPIC',code='6432',description='Phosphorus-blood',data_columns=['medical_record_number','age_in_days', 'context_name','PROCEDURE_DESCRIPTION','numeric_value'])|\n",
    "Procedure(context='EPIC',code='64914',description='X-ray chest 1 view portable',data_columns=['medical_record_number','age_in_days', 'context_name','PROCEDURE_DESCRIPTION','numeric_value'])|\n",
    "Procedure(context='EPIC',code='64924',description='X-ray chest pa and lateral only',data_columns=['medical_record_number','age_in_days', 'context_name','PROCEDURE_DESCRIPTION','numeric_value'])|\n",
    "Procedure(context='EPIC',code='6509',description='Troponin i',data_columns=['medical_record_number','age_in_days', 'context_name','PROCEDURE_DESCRIPTION','numeric_value'])|\n",
    "Procedure(context='EPIC',code='6550',description='Cbc+plt+diff',data_columns=['medical_record_number','age_in_days', 'context_name','PROCEDURE_DESCRIPTION','numeric_value'])|\n",
    "Procedure(context='EPIC',code='6551',description='Cbc+platelet',data_columns=['medical_record_number','age_in_days', 'context_name','PROCEDURE_DESCRIPTION','numeric_value'])|\n",
    "Procedure(context='EPIC',code='6624',description='Prothrombin time',data_columns=['medical_record_number','age_in_days', 'context_name','PROCEDURE_DESCRIPTION','numeric_value'])|\n",
    "Procedure(context='EPIC',code='7509',description='Electrocardiogram, complete',data_columns=['medical_record_number','age_in_days', 'context_name','PROCEDURE_DESCRIPTION','numeric_value'])|\n",
    "Procedure(context='EPIC',code='BP SITE',description='Bp site',data_columns=['medical_record_number','age_in_days', 'context_name','PROCEDURE_DESCRIPTION','numeric_value'])|\n",
    "Procedure(context='EPIC',code='DBP',description='Diastolic blood pressure',data_columns=['medical_record_number','age_in_days', 'context_name','PROCEDURE_DESCRIPTION','numeric_value'])|\n",
    "Procedure(context='EPIC',code='HEIGHT',description='Height',data_columns=['medical_record_number','age_in_days', 'context_name','PROCEDURE_DESCRIPTION','numeric_value'])|\n",
    "Procedure(context='EPIC',code='PAIN SCALE',description='Pain scale',data_columns=['medical_record_number','age_in_days', 'context_name','PROCEDURE_DESCRIPTION','numeric_value'])|\n",
    "Procedure(context='EPIC',code='PULSE',description='Pulse',data_columns=['medical_record_number','age_in_days', 'context_name','PROCEDURE_DESCRIPTION','numeric_value'])|\n",
    "Procedure(context='EPIC',code='PULSE OXIMETRY',description='O2 saturation',data_columns=['medical_record_number','age_in_days', 'context_name','PROCEDURE_DESCRIPTION','numeric_value'])|\n",
    "Procedure(context='EPIC',code='R APACHE TEMPERATURE',description='R apache temperature',data_columns=['medical_record_number','age_in_days', 'context_name','PROCEDURE_DESCRIPTION','numeric_value'])|\n",
    "Procedure(context='EPIC',code='R IP PAIN SCALE ADULT',description='R ip pain scale adult',data_columns=['medical_record_number','age_in_days', 'context_name','PROCEDURE_DESCRIPTION','numeric_value'])|\n",
    "Procedure(context='EPIC',code='SBP',description='Systolic blood pressure',data_columns=['medical_record_number','age_in_days', 'context_name','PROCEDURE_DESCRIPTION','numeric_value'])|\n",
    "Procedure(context='EPIC',code='TEMPERATURE',description='Temperature',data_columns=['medical_record_number','age_in_days', 'context_name','PROCEDURE_DESCRIPTION','numeric_value'])|\n",
    "Procedure(context='EPIC',code='WEIGHT',description='Weight',data_columns=['medical_record_number','age_in_days', 'context_name','PROCEDURE_DESCRIPTION','numeric_value'])\n",
    ")"
   ]
  },
  {
   "cell_type": "code",
   "execution_count": null,
   "metadata": {},
   "outputs": [],
   "source": [
    "#extract the time series data\n",
    "procedures_time_series=cohort_EF_Baseline.time_series_for(\n",
    "        conditions\n",
    "    )"
   ]
  },
  {
   "cell_type": "code",
   "execution_count": null,
   "metadata": {},
   "outputs": [],
   "source": [
    "procedures_time_series"
   ]
  },
  {
   "cell_type": "code",
   "execution_count": null,
   "metadata": {},
   "outputs": [],
   "source": [
    "procedures_time_series['procedure_description'].unique()"
   ]
  },
  {
   "cell_type": "code",
   "execution_count": null,
   "metadata": {},
   "outputs": [],
   "source": [
    "procedures_time_series.to_parquet('Cohort/Time_Series/Procedures_06.parquet')"
   ]
  },
  {
   "cell_type": "markdown",
   "metadata": {},
   "source": [
    "# Vital Signs "
   ]
  },
  {
   "cell_type": "code",
   "execution_count": null,
   "metadata": {},
   "outputs": [],
   "source": [
    "#non vital signs  columns:\n",
    "col_for_dropping=[\n",
    " 'medical_record_number',\n",
    "    'median__VitalSign__EPIC__(RESP)',\n",
    "'median__VitalSign__EPIC__(T-O)',\n",
    "'median__VitalSign__EPIC__(T-T)',\n",
    "'median__VitalSign__EPIC__DBP',\n",
    "'median__VitalSign__EPIC__PULSE',\n",
    "'median__VitalSign__EPIC__PULSE OXIMETRY',\n",
    "'median__VitalSign__EPIC__SBP',\n",
    "'median__VitalSign__EPIC__TEMPERATURE',\n",
    "'min__VitalSign__EPIC__(RESP)',\n",
    "'min__VitalSign__EPIC__(T-O)',\n",
    "'min__VitalSign__EPIC__(T-T)',\n",
    "'min__VitalSign__EPIC__DBP',\n",
    "'min__VitalSign__EPIC__PULSE',\n",
    "'min__VitalSign__EPIC__PULSE OXIMETRY',\n",
    "'min__VitalSign__EPIC__SBP',\n",
    "'min__VitalSign__EPIC__TEMPERATURE'\n",
    " ]"
   ]
  },
  {
   "cell_type": "code",
   "execution_count": null,
   "metadata": {
    "scrolled": true
   },
   "outputs": [],
   "source": [
    "# load Vital Sign  dataframe: \n",
    "#get Vital Sign Features for Timeseries Extraction: \n",
    "df_path='Cohort/Feature_Extraction/Unsupervised_ALL_HF/VitalSign_after_onset_HF_ALL_mmm_0_6_cleaned'\n",
    "vital = pq.read_table(df_path).to_pandas()\n",
    "vital=vital.drop(col_for_dropping,axis=1)\n",
    "vital"
   ]
  },
  {
   "cell_type": "code",
   "execution_count": null,
   "metadata": {},
   "outputs": [],
   "source": [
    "further_col_drop=[]\n",
    "for c in vital.columns: \n",
    "    if ('max' not in c) : \n",
    "        print(c)\n",
    "        further_col_drop.append(c)\n",
    "further_col_drop"
   ]
  },
  {
   "cell_type": "code",
   "execution_count": null,
   "metadata": {},
   "outputs": [],
   "source": [
    "#create Vital Signs dictionary\n",
    "vital_renamed_column=rename_columns(vital,col_ignore)\n"
   ]
  },
  {
   "cell_type": "code",
   "execution_count": null,
   "metadata": {},
   "outputs": [],
   "source": [
    "vital_renamed_column"
   ]
  },
  {
   "cell_type": "code",
   "execution_count": null,
   "metadata": {},
   "outputs": [],
   "source": [
    "#get Vital Signs Features for Time series\n",
    "'''structure for diagnosis time series feature: \n",
    "conditions=(Diagnosis(context='ICD-10',\n",
    "            code='D64.9',\n",
    "            data_columns=['medical_record_number','description','age_in_days', \n",
    "            'context_name', 'context_diagnosis_code', 'numeric_value'])|)\n",
    "\n",
    "'''\n",
    "for n in vital_renamed_column.items(): \n",
    "    parts=n[1].split('|')\n",
    "    vital_statement='VitalSign(context=\\''+str(parts[3]).strip()+'\\',code=\\''+str(parts[1]).strip()+'\\',description=\\''+str(parts[2].replace(' (max) ','')).strip()+'\\')|'\n",
    "    #drug_statement='a'+n[1]\n",
    "    print(vital_statement)\n",
    "    #print(parts[3])"
   ]
  },
  {
   "cell_type": "code",
   "execution_count": null,
   "metadata": {},
   "outputs": [],
   "source": [
    "#Final Vital Signs Format copied from above\n",
    "conditions=(\n",
    "VitalSign(context='EPIC',code='(RESP)',description='Respirations')|\n",
    "VitalSign(context='EPIC',code='(T-O)',description='Temperature, oral')|\n",
    "VitalSign(context='EPIC',code='(T-T)',description='Temperature, tympanic')|\n",
    "VitalSign(context='EPIC',code='DBP',description='Diastolic blood pressure')|\n",
    "VitalSign(context='EPIC',code='PULSE',description='Pulse')|\n",
    "VitalSign(context='EPIC',code='PULSE OXIMETRY',description='O2 saturation')|\n",
    "VitalSign(context='EPIC',code='SBP',description='Systolic blood pressure')|\n",
    "VitalSign(context='EPIC',code='TEMPERATURE',description='Temperature') )"
   ]
  },
  {
   "cell_type": "code",
   "execution_count": null,
   "metadata": {},
   "outputs": [],
   "source": [
    "#extract the time series data\n",
    "vital_time_series=cohort_EF_Baseline.time_series_for(\n",
    "        conditions\n",
    "    )"
   ]
  },
  {
   "cell_type": "code",
   "execution_count": null,
   "metadata": {},
   "outputs": [],
   "source": [
    "vital_time_series"
   ]
  },
  {
   "cell_type": "code",
   "execution_count": null,
   "metadata": {},
   "outputs": [],
   "source": [
    "# unique values and feature names: \n",
    "vital_time_series['context_procedure_code'].unique()"
   ]
  },
  {
   "cell_type": "code",
   "execution_count": null,
   "metadata": {},
   "outputs": [],
   "source": [
    "vital_time_series.loc[vital_time_series['medical_record_number']=='1000133708']"
   ]
  },
  {
   "cell_type": "code",
   "execution_count": null,
   "metadata": {},
   "outputs": [],
   "source": [
    "vital_time_series.to_parquet('Cohort/Time_Series/VitalSign_06.parquet')"
   ]
  },
  {
   "cell_type": "markdown",
   "metadata": {},
   "source": [
    "# LabValues"
   ]
  },
  {
   "cell_type": "code",
   "execution_count": null,
   "metadata": {},
   "outputs": [],
   "source": [
    "#non LabValues columns:\n",
    "col_for_dropping=[\n",
    " 'median__LabValue__ALBUMIN, BLD',\n",
    " 'median__LabValue__ALK PHOSPHATASE, BLD',\n",
    " 'median__LabValue__ALT(SGPT)',\n",
    " 'median__LabValue__APTT',\n",
    " 'median__LabValue__AST (SGOT)',\n",
    " 'median__LabValue__ATRIAL RATE',\n",
    " 'median__LabValue__BASOPHIL %',\n",
    " 'median__LabValue__BILIRUBIN TOTAL',\n",
    " 'median__LabValue__CALCIUM, BLD',\n",
    " 'median__LabValue__CARBON DIOXIDE-BLD',\n",
    " 'median__LabValue__CHLORIDE-BLD',\n",
    " 'median__LabValue__CREATININE-SERUM',\n",
    " 'median__LabValue__EOSINOPHIL #',\n",
    " 'median__LabValue__EOSINOPHIL %',\n",
    " 'median__LabValue__GLUCOSE',\n",
    " 'median__LabValue__HEMATOCRIT',\n",
    " 'median__LabValue__HEMOGLOBIN',\n",
    " 'median__LabValue__INR',\n",
    " 'median__LabValue__LYMPHOCYTE #',\n",
    " 'median__LabValue__LYMPHOCYTE %',\n",
    " 'median__LabValue__MAGNESIUM-BLD',\n",
    " 'median__LabValue__MEAN CORP. HGB',\n",
    " 'median__LabValue__MEAN CORP. HGB CONC.',\n",
    " 'median__LabValue__MEAN CORP. VOLUME',\n",
    " 'median__LabValue__MEAN PLT VOLUME',\n",
    " 'median__LabValue__MONOCYTE #',\n",
    " 'median__LabValue__MONOCYTE %',\n",
    " 'median__LabValue__NEUTROPHIL #',\n",
    " 'median__LabValue__NEUTROPHIL %',\n",
    " 'median__LabValue__P AXIS',\n",
    " 'median__LabValue__P-R INTERVAL',\n",
    " 'median__LabValue__PLATELET',\n",
    " 'median__LabValue__POTASSIUMBLD',\n",
    " 'median__LabValue__PRO TIME',\n",
    " 'median__LabValue__PROTEIN TOTAL-BLD',\n",
    " 'median__LabValue__QRS DURATION',\n",
    " 'median__LabValue__QT',\n",
    " 'median__LabValue__QTC',\n",
    " 'median__LabValue__R AXIS',\n",
    " 'median__LabValue__RBC BLOOD CELL',\n",
    " 'median__LabValue__RED DISTRIB. WIDTH',\n",
    " 'median__LabValue__SODIUM-BLD',\n",
    " 'median__LabValue__T AXIS',\n",
    " 'median__LabValue__UREA NITROGEN-BLD',\n",
    " 'median__LabValue__VENTRICULAR RATE',\n",
    " 'median__LabValue__WHITE BLOOD CELL',\n",
    " 'min__LabValue__ALBUMIN, BLD',\n",
    " 'min__LabValue__ALK PHOSPHATASE, BLD',\n",
    " 'min__LabValue__ALT(SGPT)',\n",
    " 'min__LabValue__APTT',\n",
    " 'min__LabValue__AST (SGOT)',\n",
    " 'min__LabValue__ATRIAL RATE',\n",
    " 'min__LabValue__BILIRUBIN TOTAL',\n",
    " 'min__LabValue__CALCIUM, BLD',\n",
    " 'min__LabValue__CARBON DIOXIDE-BLD',\n",
    " 'min__LabValue__CHLORIDE-BLD',\n",
    " 'min__LabValue__CREATININE-SERUM',\n",
    " 'min__LabValue__GLUCOSE',\n",
    " 'min__LabValue__HEMATOCRIT',\n",
    " 'min__LabValue__HEMOGLOBIN',\n",
    " 'min__LabValue__INR',\n",
    " 'min__LabValue__LYMPHOCYTE #',\n",
    " 'min__LabValue__LYMPHOCYTE %',\n",
    " 'min__LabValue__MAGNESIUM-BLD',\n",
    " 'min__LabValue__MEAN CORP. HGB',\n",
    " 'min__LabValue__MEAN CORP. HGB CONC.',\n",
    " 'min__LabValue__MEAN CORP. VOLUME',\n",
    " 'min__LabValue__MEAN PLT VOLUME',\n",
    " 'min__LabValue__MONOCYTE #',\n",
    " 'min__LabValue__MONOCYTE %',\n",
    " 'min__LabValue__NEUTROPHIL #',\n",
    " 'min__LabValue__NEUTROPHIL %',\n",
    " 'min__LabValue__P AXIS',\n",
    " 'min__LabValue__P-R INTERVAL',\n",
    " 'min__LabValue__PLATELET',\n",
    " 'min__LabValue__POTASSIUMBLD',\n",
    " 'min__LabValue__PRO TIME',\n",
    " 'min__LabValue__PROTEIN TOTAL-BLD',\n",
    " 'min__LabValue__QRS DURATION',\n",
    " 'min__LabValue__QT',\n",
    " 'min__LabValue__QTC',\n",
    " 'min__LabValue__R AXIS',\n",
    " 'min__LabValue__RBC BLOOD CELL',\n",
    " 'min__LabValue__RED DISTRIB. WIDTH',\n",
    " 'min__LabValue__SODIUM-BLD',\n",
    " 'min__LabValue__T AXIS',\n",
    " 'min__LabValue__UREA NITROGEN-BLD',\n",
    " 'min__LabValue__VENTRICULAR RATE',\n",
    " 'min__LabValue__WHITE BLOOD CELL',\n",
    " 'medical_record_number'\n",
    " ]"
   ]
  },
  {
   "cell_type": "code",
   "execution_count": null,
   "metadata": {
    "scrolled": true
   },
   "outputs": [],
   "source": [
    "# load Lab Values dataframe: \n",
    "#get Lab Values Features for Timeseries Extraction: \n",
    "df_path='Cohort/Feature_Extraction/Unsupervised_ALL_HF/LabValue_after_onset_HF_ALL_mmm_0_8_cleaned'\n",
    "lab = pq.read_table(df_path).to_pandas()\n",
    "lab=lab.drop(col_for_dropping,axis=1)\n",
    "lab"
   ]
  },
  {
   "cell_type": "code",
   "execution_count": null,
   "metadata": {},
   "outputs": [],
   "source": [
    "further_col_drop=[]\n",
    "for c in lab.columns: \n",
    "    if ('max' not in c) : \n",
    "        print(c)\n",
    "        further_col_drop.append(c)\n",
    "further_col_drop"
   ]
  },
  {
   "cell_type": "code",
   "execution_count": null,
   "metadata": {},
   "outputs": [],
   "source": [
    "#create lab values dictionary\n",
    "lab_renamed_column=rename_columns(lab,col_ignore)\n"
   ]
  },
  {
   "cell_type": "code",
   "execution_count": null,
   "metadata": {},
   "outputs": [],
   "source": [
    "lab_renamed_column"
   ]
  },
  {
   "cell_type": "code",
   "execution_count": null,
   "metadata": {},
   "outputs": [],
   "source": [
    "#get lab Values Features for Time series\n",
    "'''structure for diagnosis time series feature: \n",
    "conditions=(Diagnosis(context='ICD-10',\n",
    "            code='D64.9',\n",
    "            data_columns=['medical_record_number','description','age_in_days', \n",
    "            'context_name', 'context_diagnosis_code', 'numeric_value'])|)\n",
    "\n",
    "'''\n",
    "for n in lab_renamed_column.items(): \n",
    "    parts=n[1].split('|')\n",
    "    lab_statement='LabValue(\\''+str(parts[2].replace(' (max) ','')).strip()+'\\')|'\n",
    "    #drug_statement='a'+n[1]\n",
    "    print(lab_statement)\n",
    "    #print(parts[3])"
   ]
  },
  {
   "cell_type": "code",
   "execution_count": null,
   "metadata": {},
   "outputs": [],
   "source": [
    "#Final Format for LabValues Copied from output above\n",
    "conditions=(LabValue('Albumin, bld')|\n",
    "LabValue('Alk phosphatase, bld')|\n",
    "LabValue('Alt(sgpt)')|\n",
    "LabValue('Aptt')|\n",
    "LabValue('Ast (sgot)')|\n",
    "LabValue('Atrial rate')|\n",
    "LabValue('Basophil #')|\n",
    "LabValue('Basophil %')|\n",
    "LabValue('Bilirubin total')|\n",
    "LabValue('Calcium, bld')|\n",
    "LabValue('Carbon dioxide-bld')|\n",
    "LabValue('Chloride-bld')|\n",
    "LabValue('Creatinine-serum')|\n",
    "LabValue('Eosinophil #')|\n",
    "LabValue('Eosinophil %')|\n",
    "LabValue('Glucose')|\n",
    "LabValue('Hematocrit')|\n",
    "LabValue('Hemoglobin')|\n",
    "LabValue('Inr')|\n",
    "LabValue('Lymphocyte #')|\n",
    "LabValue('Lymphocyte %')|\n",
    "LabValue('Magnesium-bld')|\n",
    "LabValue('Mean corp. hgb')|\n",
    "LabValue('Mean corp. hgb conc.')|\n",
    "LabValue('Mean corp. volume')|\n",
    "LabValue('Mean plt volume')|\n",
    "LabValue('Monocyte #')|\n",
    "LabValue('Monocyte %')|\n",
    "LabValue('Neutrophil #')|\n",
    "LabValue('Neutrophil %')|\n",
    "LabValue('P axis')|\n",
    "LabValue('P-r interval')|\n",
    "LabValue('Platelet')|\n",
    "LabValue('Potassiumbld')|\n",
    "LabValue('Pro time')|\n",
    "LabValue('Protein total-bld')|\n",
    "LabValue('Qrs duration')|\n",
    "LabValue('Qt')|\n",
    "LabValue('Qtc')|\n",
    "LabValue('R axis')|\n",
    "LabValue('Rbc blood cell')|\n",
    "LabValue('Red distrib. width')|\n",
    "LabValue('Sodium-bld')|\n",
    "LabValue('T axis')|\n",
    "LabValue('Urea nitrogen-bld')|\n",
    "LabValue('Ventricular rate')|\n",
    "LabValue('White blood cell'))"
   ]
  },
  {
   "cell_type": "code",
   "execution_count": null,
   "metadata": {},
   "outputs": [],
   "source": [
    "#conditions=(LabValue('White blood cell'))"
   ]
  },
  {
   "cell_type": "code",
   "execution_count": null,
   "metadata": {},
   "outputs": [],
   "source": [
    "#extract the time series data\n",
    "lab_time_series=cohort_EF_Baseline.time_series_for(\n",
    "        conditions\n",
    "    )"
   ]
  },
  {
   "cell_type": "code",
   "execution_count": null,
   "metadata": {},
   "outputs": [],
   "source": [
    "lab_time_series"
   ]
  },
  {
   "cell_type": "code",
   "execution_count": null,
   "metadata": {
    "scrolled": true
   },
   "outputs": [],
   "source": [
    "for n in lab_time_series['test_name'].unique(): \n",
    "    print(n)"
   ]
  },
  {
   "cell_type": "code",
   "execution_count": null,
   "metadata": {},
   "outputs": [],
   "source": [
    "lab_time_series.to_parquet('Cohort/Time_Series/LabValues_08.parquet')"
   ]
  },
  {
   "cell_type": "code",
   "execution_count": null,
   "metadata": {
    "scrolled": false
   },
   "outputs": [],
   "source": [
    "# unique values and feature names: \n",
    "t=lab_time_series['test_name'].unique()\n",
    "for n in t : \n",
    "    print(n)"
   ]
  },
  {
   "cell_type": "markdown",
   "metadata": {},
   "source": [
    "# Snips"
   ]
  },
  {
   "cell_type": "code",
   "execution_count": null,
   "metadata": {},
   "outputs": [],
   "source": []
  },
  {
   "cell_type": "code",
   "execution_count": null,
   "metadata": {},
   "outputs": [],
   "source": [
    "import math\n",
    "import os\n",
    "import sys\n",
    "\n",
    "import fiber\n",
    "import numpy as np\n",
    "import pandas as pd\n",
    "import pyarrow.parquet as pq\n",
    "\n",
    "# from fiber import fiber\n",
    "from fiber.cohort import Cohort\n",
    "from fiber.condition import (\n",
    "    Diagnosis,\n",
    "    Drug,\n",
    "    Encounter,\n",
    "    LabValue,\n",
    "    Measurement,\n",
    "    MRNs,\n",
    "    Patient,\n",
    "    Procedure,\n",
    "    TobaccoUse,\n",
    "    VitalSign,\n",
    ")\n",
    "from fiber.storage import yaml as fiberyaml\n",
    "from fiber.utils import Timer\n",
    "from fiberutils import cohort_utils\n",
    "\n",
    "\n",
    "from typing import Optional\n",
    "import matplotlib.pyplot as plt\n",
    "import pandas as pd\n",
    "import seaborn as sns\n",
    "import venn\n",
    "from fiber import Cohort\n",
    "from fiber.condition import MRNs\n",
    "from fiber.config import OCCURRENCE_INDEX, VERBOSE\n",
    "from fiber.dataframe import (\n",
    "    column_threshold_clip,\n",
    "    create_id_column,\n",
    "    merge_to_base,\n",
    "    time_window_clip\n",
    ")\n",
    "from fiber.plots.distributions import bars\n",
    "from fiberutils.time_series_utils import ssr_transform\n",
    "from fiber.condition import Patient, MRNs\n",
    "from fiber.condition import Diagnosis\n",
    "from fiber.condition import Measurement, Encounter, Drug, TobaccoUse,LabValue, VitalSign, Procedure\n",
    "from fiber.storage import yaml as fiberyaml\n",
    "#from fiberutils.cohort_utils import get_time_series, pivot_time_series\n",
    "import pandas as pd\n",
    "import pyarrow.parquet as pq\n",
    "import numpy as np\n",
    "import os\n",
    "import matplotlib.pyplot as plt\n",
    "from functools import reduce\n",
    "import json\n",
    "import math\n",
    "import inspect\n",
    "import json\n",
    "import sys\n",
    "from pydoc import locate\n",
    "import requests"
   ]
  },
  {
   "cell_type": "code",
   "execution_count": null,
   "metadata": {},
   "outputs": [],
   "source": [
    "#read dataframe\n",
    "mrn_table = pq.read_table(\n",
    "    \"Cohort/Feature_Extraction/ALL_HF_cohort_unsupervised_only_after_onset_HF_ALL_all_any_all_mean_small_cleaned.parquet\").to_pandas()\n",
    "mrn_table.reset_index(level=0, inplace=True)\n",
    "mrn = mrn_table[[\"medical_record_number\", \"HF_Onset_age_in_days\"]]\n",
    "# mrn_cond = MRNs(mrns=(mrn))\n",
    "# cohort = Cohort(mrn_cond)\n",
    "mrn=mrn.head(10000)\n",
    "mrn"
   ]
  }
 ],
 "metadata": {
  "kernelspec": {
   "display_name": "Python 3",
   "language": "python",
   "name": "python3"
  },
  "language_info": {
   "codemirror_mode": {
    "name": "ipython",
    "version": 3
   },
   "file_extension": ".py",
   "mimetype": "text/x-python",
   "name": "python",
   "nbconvert_exporter": "python",
   "pygments_lexer": "ipython3",
   "version": "3.7.4"
  }
 },
 "nbformat": 4,
 "nbformat_minor": 2
}
