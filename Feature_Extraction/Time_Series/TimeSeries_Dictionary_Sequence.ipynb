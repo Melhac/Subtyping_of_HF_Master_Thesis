{
 "cells": [
  {
   "cell_type": "markdown",
   "metadata": {},
   "source": [
    "# Time Series Dictionary Sequence\n",
    "This Notebook is creating a Dictionary for the different concepts and is adding the new \"terms\" to the data frame. Additionaly are the sequences per patient and per patient per day created."
   ]
  },
  {
   "cell_type": "code",
   "execution_count": null,
   "metadata": {},
   "outputs": [],
   "source": [
    "import os\n",
    "import pyarrow.parquet as pq\n",
    "import numpy as np\n",
    "import pandas as pd\n",
    "import pickle\n",
    "from sklearn.utils import shuffle\n",
    "import os\n",
    "import csv\n",
    "#import spacy\n",
    "import multiprocessing\n",
    "import time\n",
    "from gensim.models import Word2Vec\n",
    "from gensim.models import FastText\n",
    "import pandas as pd\n",
    "import numpy as np\n",
    "import pyarrow.parquet as pq"
   ]
  },
  {
   "cell_type": "code",
   "execution_count": null,
   "metadata": {},
   "outputs": [],
   "source": [
    "#load timeseries data and shuffle it, so that the order of events on the same day is random\n",
    "timeseries_data = pq.read_table('Cohort/Time_Series/all_time_series_woProcedures.parquet').to_pandas() # raw dataframe\n",
    "#timeseries_data=timeseries_data.head(3000)\n",
    "timeseries_data=shuffle(timeseries_data)"
   ]
  },
  {
   "cell_type": "code",
   "execution_count": null,
   "metadata": {},
   "outputs": [],
   "source": [
    "timeseries_data"
   ]
  },
  {
   "cell_type": "code",
   "execution_count": null,
   "metadata": {
    "scrolled": true
   },
   "outputs": [],
   "source": [
    "#sorting the dataframe again by mrn and time_delta_in_days\n",
    "timeseries_data=timeseries_data.sort_values(by=['medical_record_number', 'time_delta_in_days'])"
   ]
  },
  {
   "cell_type": "code",
   "execution_count": null,
   "metadata": {},
   "outputs": [],
   "source": [
    "timeseries_data"
   ]
  },
  {
   "cell_type": "code",
   "execution_count": null,
   "metadata": {},
   "outputs": [],
   "source": [
    "#select the timeframe that should be considered for the time series \n",
    "timeseries_data = timeseries_data.drop(timeseries_data[(timeseries_data['time_delta_in_days'] < (-730))].index)"
   ]
  },
  {
   "cell_type": "code",
   "execution_count": null,
   "metadata": {},
   "outputs": [],
   "source": [
    "timeseries_data"
   ]
  },
  {
   "cell_type": "code",
   "execution_count": null,
   "metadata": {},
   "outputs": [],
   "source": [
    "#get unique events/concepts and create empty dictionary\n",
    "unique_values = timeseries_data.event.unique()\n",
    "unique_concepts_dictionary ={}\n",
    "len(unique_values)"
   ]
  },
  {
   "cell_type": "code",
   "execution_count": null,
   "metadata": {},
   "outputs": [],
   "source": [
    "for i,val in enumerate(unique_values):\n",
    "    unique_concepts_dictionary[val]= i"
   ]
  },
  {
   "cell_type": "code",
   "execution_count": null,
   "metadata": {},
   "outputs": [],
   "source": [
    "unique_concepts_dictionary"
   ]
  },
  {
   "cell_type": "code",
   "execution_count": null,
   "metadata": {},
   "outputs": [],
   "source": [
    "#generate a df dictionary \n",
    "df = pd.DataFrame(list(unique_concepts_dictionary.items()),columns = ['Term','term_id'])\n",
    "df"
   ]
  },
  {
   "cell_type": "code",
   "execution_count": null,
   "metadata": {},
   "outputs": [],
   "source": [
    "#save the dictionary \n",
    "df.to_parquet('Cohort/Time_Series/all_time_series_woProcedures_dictionary.parquet')"
   ]
  },
  {
   "cell_type": "code",
   "execution_count": null,
   "metadata": {},
   "outputs": [],
   "source": [
    "#create a column for the Term ID \n",
    "timeseries_data['unique_concept']=''"
   ]
  },
  {
   "cell_type": "code",
   "execution_count": null,
   "metadata": {},
   "outputs": [],
   "source": [
    "#add the term to the events \n",
    "for key in unique_concepts_dictionary:\n",
    "    print('Current key:',key)\n",
    "    print('*'*100)\n",
    "    timeseries_data['unique_concept'] = np.where(timeseries_data['event'] == key, unique_concepts_dictionary[key] , timeseries_data['unique_concept'])\n",
    "    print(timeseries_data[timeseries_data['event']==key].head())"
   ]
  },
  {
   "cell_type": "code",
   "execution_count": null,
   "metadata": {},
   "outputs": [],
   "source": [
    "timeseries_data"
   ]
  },
  {
   "cell_type": "code",
   "execution_count": null,
   "metadata": {},
   "outputs": [],
   "source": [
    "#save the dataframe\n",
    "timeseries_data.to_parquet('Cohort/Time_Series/all_time_series_woProcedures_HFonset_wVocabular.parquet')\n",
    "#timeseries_data=timeseries_data.head(10)\n",
    "timeseries_data"
   ]
  },
  {
   "cell_type": "code",
   "execution_count": null,
   "metadata": {},
   "outputs": [],
   "source": [
    "#read the dataframe\n",
    "timeseries_data = pq.read_table('Cohort/Time_Series/all_time_series_woProcedures_HFonset_wVocabular.parquet').to_pandas()\n",
    "#timeseries_data=timeseries_data.head(100)\n",
    "timeseries_data"
   ]
  },
  {
   "cell_type": "markdown",
   "metadata": {},
   "source": [
    "# Remove MRN which do not have any Lab Values"
   ]
  },
  {
   "cell_type": "code",
   "execution_count": null,
   "metadata": {},
   "outputs": [],
   "source": [
    "#mrn without labvalues: \n",
    "mrn_without_lab=pq.read_table('Cohort/Feature_Extraction/Unsupervised_ALL_HF/LabValue_after_onset_HF_ALL_mmm_0_8_missing_values').to_pandas()"
   ]
  },
  {
   "cell_type": "code",
   "execution_count": null,
   "metadata": {},
   "outputs": [],
   "source": [
    "mrn_list=mrn_without_lab['medical_record_number'].to_list()\n",
    "len(mrn_list)"
   ]
  },
  {
   "cell_type": "code",
   "execution_count": null,
   "metadata": {},
   "outputs": [],
   "source": [
    "timeseries_data = timeseries_data[~timeseries_data['medical_record_number'].isin(mrn_list)]\n",
    "timeseries_data"
   ]
  },
  {
   "cell_type": "markdown",
   "metadata": {},
   "source": [
    "# Timeseries per Patient "
   ]
  },
  {
   "cell_type": "code",
   "execution_count": null,
   "metadata": {},
   "outputs": [],
   "source": [
    "#buid dataframe timeseries data per patient \n",
    "timeseries_data_per_patient = timeseries_data[['medical_record_number','unique_concept']].groupby(['medical_record_number']).aggregate(lambda x: list(x)).reset_index()\n",
    "timeseries_data_per_patient"
   ]
  },
  {
   "cell_type": "code",
   "execution_count": null,
   "metadata": {},
   "outputs": [],
   "source": [
    "timeseries_data_per_patient.to_parquet('Cohort/Time_Series/all_time_series_woProcedures_timeseries_data_per_patient.parquet')"
   ]
  },
  {
   "cell_type": "code",
   "execution_count": null,
   "metadata": {},
   "outputs": [],
   "source": [
    "# plot sequence length of the patient: \n",
    "seqlength=[]\n",
    "for index, row in timeseries_data_per_patient.iterrows(): \n",
    "    seqlength.append(len(row['unique_concept']))\n",
    "seqlength"
   ]
  },
  {
   "cell_type": "code",
   "execution_count": null,
   "metadata": {},
   "outputs": [],
   "source": [
    "import matplotlib.pyplot as plt\n",
    "import statistics \n",
    "\n",
    "plt.hist(seqlength, bins =1000)\n",
    "plt.show()"
   ]
  },
  {
   "cell_type": "code",
   "execution_count": null,
   "metadata": {},
   "outputs": [],
   "source": [
    "statistics.mean(seqlength)"
   ]
  },
  {
   "cell_type": "code",
   "execution_count": null,
   "metadata": {},
   "outputs": [],
   "source": [
    "#number of patient which have less than x events\n",
    "sum(i < 100 for i in seqlength)"
   ]
  },
  {
   "cell_type": "markdown",
   "metadata": {},
   "source": [
    "# Time Series per Patient per Day "
   ]
  },
  {
   "cell_type": "code",
   "execution_count": null,
   "metadata": {},
   "outputs": [],
   "source": [
    "timeseries_data_per_patient_per_day = timeseries_data[['medical_record_number','time_delta_in_days','unique_concept']].groupby(['medical_record_number','time_delta_in_days']).aggregate(lambda x: list(x)).reset_index()\n",
    "timeseries_data_per_patient_per_day"
   ]
  },
  {
   "cell_type": "code",
   "execution_count": null,
   "metadata": {},
   "outputs": [],
   "source": [
    "timeseries_data_per_patient_per_day.to_parquet('Cohort/Time_Series/all_time_series_woProcedures_timeseries_data_per_patient_per_day.parquet')"
   ]
  },
  {
   "cell_type": "code",
   "execution_count": null,
   "metadata": {},
   "outputs": [],
   "source": [
    "days_per_patient=timeseries_data_per_patient_per_day['medical_record_number'].value_counts()"
   ]
  },
  {
   "cell_type": "code",
   "execution_count": null,
   "metadata": {},
   "outputs": [],
   "source": [
    "days_per_patient"
   ]
  },
  {
   "cell_type": "code",
   "execution_count": null,
   "metadata": {},
   "outputs": [],
   "source": [
    "plt.hist(days_per_patient, bins =1000)\n",
    "plt.show()"
   ]
  },
  {
   "cell_type": "code",
   "execution_count": null,
   "metadata": {},
   "outputs": [],
   "source": [
    "statistics.median(days_per_patient)"
   ]
  },
  {
   "cell_type": "code",
   "execution_count": null,
   "metadata": {},
   "outputs": [],
   "source": [
    "#number of patient which have less than x days\n",
    "sum(i < 11 for i in days_per_patient)"
   ]
  },
  {
   "cell_type": "code",
   "execution_count": null,
   "metadata": {},
   "outputs": [],
   "source": []
  }
 ],
 "metadata": {
  "kernelspec": {
   "display_name": "Python 3",
   "language": "python",
   "name": "python3"
  },
  "language_info": {
   "codemirror_mode": {
    "name": "ipython",
    "version": 3
   },
   "file_extension": ".py",
   "mimetype": "text/x-python",
   "name": "python",
   "nbconvert_exporter": "python",
   "pygments_lexer": "ipython3",
   "version": "3.7.4"
  }
 },
 "nbformat": 4,
 "nbformat_minor": 2
}
