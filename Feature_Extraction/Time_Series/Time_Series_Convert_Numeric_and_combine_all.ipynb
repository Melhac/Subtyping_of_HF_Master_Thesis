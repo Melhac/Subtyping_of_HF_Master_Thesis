{
 "cells": [
  {
   "cell_type": "markdown",
   "metadata": {},
   "source": [
    "# Time Series Convert Numeric and combine all\n",
    "This Notebook is dividing the numerical values of one feature in high and low values. At the end all dimension (Vitalsigns Diagnosis etc.) are combined."
   ]
  },
  {
   "cell_type": "code",
   "execution_count": null,
   "metadata": {},
   "outputs": [],
   "source": [
    "import os\n",
    "import time\n",
    "\n",
    "import pyarrow.parquet as pq\n",
    "import pandas as pd\n",
    "\n"
   ]
  },
  {
   "cell_type": "markdown",
   "metadata": {},
   "source": [
    "# Vital Sign"
   ]
  },
  {
   "cell_type": "code",
   "execution_count": null,
   "metadata": {},
   "outputs": [],
   "source": [
    "#defining the data paths\n",
    "data_path = \"Cohort/Time_Series/VitalSign_06.parquet\"\n",
    "target_path = \"Cohort/Time_Series/VitalSign_06_quantile.parquet\"\n",
    "df = pq.read_table(data_path).to_pandas()"
   ]
  },
  {
   "cell_type": "code",
   "execution_count": null,
   "metadata": {},
   "outputs": [],
   "source": [
    "#iterating over the Vital signs data frame and converting the numerical values\n",
    "#df=df.head(100)\n",
    "#df\n",
    "unique_descriptions =list(df.context_procedure_code.unique())\n",
    "#unique_descriptions\n",
    "description_dict ={}\n",
    "\n",
    "df[\"high_low\"] = \"\"\n",
    "\n",
    "description_dict = df.groupby(by='context_procedure_code')['numeric_value'].quantile([0.25,0.5,0.75]).to_dict()\n",
    "description_dict\n",
    "df.groupby(by=\"context_procedure_code\")[\"numeric_value\"].quantile([0.25, 0.5, 0.75]).head(100)\n",
    "\n",
    "\n",
    "for key in description_dict:\n",
    "    print(f'Key:{key} value{description_dict[key]}')\n",
    "    #print(key[0])\n",
    "    print('*'*100)\n",
    "    high_cond=(df['context_procedure_code'] == key[0]) & (df['numeric_value']> description_dict[key])\n",
    "    low_cond= (df['context_procedure_code'] == key[0]) & (df['numeric_value']<= description_dict[key])\n",
    "    df['high_low'][high_cond] = key[0]+'_High'\n",
    "    df['high_low'][low_cond] = key[0]+'_Low'\n",
    "    print(df[df['context_procedure_code'] == key[0]]['high_low'].head(20))\n",
    "    #break\n",
    "print(df.head())\n",
    "df\n",
    "df.to_parquet(target_path)\n"
   ]
  },
  {
   "cell_type": "markdown",
   "metadata": {},
   "source": [
    "# Lab Values"
   ]
  },
  {
   "cell_type": "code",
   "execution_count": null,
   "metadata": {},
   "outputs": [],
   "source": [
    "#defining the data paths\n",
    "data_path = \"Cohort/Time_Series/LabValues_08.parquet\"\n",
    "target_path = \"Cohort/Time_Series/LabValues_08_quantile.parquet\"\n",
    "df = pq.read_table(data_path).to_pandas()"
   ]
  },
  {
   "cell_type": "code",
   "execution_count": null,
   "metadata": {},
   "outputs": [],
   "source": [
    "#df=df.head(100)\n",
    "#df"
   ]
  },
  {
   "cell_type": "code",
   "execution_count": null,
   "metadata": {},
   "outputs": [],
   "source": [
    "#iterating over the LabValues data frame and converting the numerical values\n",
    "#df=df.head(10)\n",
    "#df\n",
    "unique_descriptions =list(df.test_name.unique())\n",
    "#unique_descriptions\n",
    "description_dict ={}\n",
    "\n",
    "df[\"high_low\"] = \"\"\n",
    "\n",
    "description_dict = df.groupby(by='test_name')['numeric_value'].quantile([0.25,0.5,0.75]).to_dict()\n",
    "description_dict\n",
    "df.groupby(by=\"test_name\")[\"numeric_value\"].quantile([0.25, 0.5, 0.75]).head(10)\n",
    "\n",
    "\n",
    "for key in description_dict:\n",
    "    print(f'Key:{key} value{description_dict[key]}')\n",
    "    #print(key[0])\n",
    "    print('*'*100)\n",
    "    high_cond=(df['test_name'] == key[0]) & (df['numeric_value']> description_dict[key])\n",
    "    low_cond= (df['test_name'] == key[0]) & (df['numeric_value']<= description_dict[key])\n",
    "    df['high_low'][high_cond] = key[0]+'_High'\n",
    "    df['high_low'][low_cond] = key[0]+'_Low'\n",
    "    print(df[df['test_name'] == key[0]]['high_low'].head(20))\n",
    "    #break\n",
    "print(df.head())\n",
    "df\n",
    "df.to_parquet(target_path)"
   ]
  },
  {
   "cell_type": "code",
   "execution_count": null,
   "metadata": {},
   "outputs": [],
   "source": [
    "df"
   ]
  },
  {
   "cell_type": "markdown",
   "metadata": {},
   "source": [
    "# Combine different Dimension \n",
    "MRN, Age in days, time detla high_low and other features as Event:\n"
   ]
  },
  {
   "cell_type": "code",
   "execution_count": null,
   "metadata": {},
   "outputs": [],
   "source": [
    "#load lab values and drop NaN entries\n",
    "df_lab_origin=pq.read_table('Cohort/Time_Series/LabValues_08_quantile.parquet').to_pandas()\n",
    "df_lab=df_lab_origin[['medical_record_number','age_in_days','time_delta_in_days','high_low' ]]\n",
    "df_lab=df_lab.rename(columns={\"high_low\": \"event\"})\n",
    "df_lab=df_lab.dropna()\n",
    "df_lab\n"
   ]
  },
  {
   "cell_type": "code",
   "execution_count": null,
   "metadata": {},
   "outputs": [],
   "source": [
    "#load Vital Sign and drop NaN entries\n",
    "df_vital_origin=pq.read_table('Cohort/Time_Series/VitalSign_06_quantile.parquet').to_pandas()\n",
    "df_vital=df_vital_origin[['medical_record_number','age_in_days','time_delta_in_days','high_low' ]]\n",
    "df_vital=df_vital.rename(columns={\"high_low\": \"event\"})\n",
    "df_vital=df_lab.dropna()\n",
    "df_vital"
   ]
  },
  {
   "cell_type": "code",
   "execution_count": null,
   "metadata": {},
   "outputs": [],
   "source": [
    "#load diagnosiss and drop NaN entries\n",
    "df_diagnosis_origin=pq.read_table('Cohort/Time_Series/Diagnosis_02.parquet').to_pandas()\n",
    "df_diagnosis=df_diagnosis_origin[['medical_record_number','age_in_days','time_delta_in_days','context_diagnosis_code' ]]\n",
    "df_diagnosis=df_diagnosis.rename(columns={\"context_diagnosis_code\": \"event\"})\n",
    "df_diagnosis=df_diagnosis.dropna()\n",
    "df_diagnosis"
   ]
  },
  {
   "cell_type": "code",
   "execution_count": null,
   "metadata": {},
   "outputs": [],
   "source": [
    "#load Drug and drop NaN entries\n",
    "df_drug_origin=pq.read_table('Cohort/Time_Series/Drug_02.parquet').to_pandas()\n",
    "df_drug=df_drug_origin[['medical_record_number','age_in_days','time_delta_in_days','material_name' ]]\n",
    "df_drug=df_drug.rename(columns={\"material_name\": \"event\"})\n",
    "df_drug=df_drug.dropna()\n",
    "df_drug"
   ]
  },
  {
   "cell_type": "code",
   "execution_count": null,
   "metadata": {},
   "outputs": [],
   "source": [
    "#load procedures and drop NaN entries\n",
    "df_procedures_origin=pq.read_table('Cohort/Time_Series/Procedures_06.parquet').to_pandas()\n",
    "df_procedures=df_procedures_origin[['medical_record_number','age_in_days','time_delta_in_days','procedure_description' ]]\n",
    "df_procedures=df_procedures.rename(columns={\"procedure_description\": \"event\"})\n",
    "df_procedures=df_procedures.dropna()\n",
    "df_procedures"
   ]
  },
  {
   "cell_type": "code",
   "execution_count": null,
   "metadata": {},
   "outputs": [],
   "source": [
    "#combining all frames\n",
    "frames=[df_lab,df_vital,df_diagnosis,df_drug,df_procedures]\n",
    "all_time_series= pd.concat(frames)\n",
    "all_time_series.to_parquet('Cohort/Time_Series/all_time_series_medium.parquet')"
   ]
  },
  {
   "cell_type": "code",
   "execution_count": null,
   "metadata": {},
   "outputs": [],
   "source": [
    "all_time_series"
   ]
  },
  {
   "cell_type": "code",
   "execution_count": null,
   "metadata": {},
   "outputs": [],
   "source": []
  }
 ],
 "metadata": {
  "kernelspec": {
   "display_name": "Python 3",
   "language": "python",
   "name": "python3"
  },
  "language_info": {
   "codemirror_mode": {
    "name": "ipython",
    "version": 3
   },
   "file_extension": ".py",
   "mimetype": "text/x-python",
   "name": "python",
   "nbconvert_exporter": "python",
   "pygments_lexer": "ipython3",
   "version": "3.7.4"
  }
 },
 "nbformat": 4,
 "nbformat_minor": 2
}
