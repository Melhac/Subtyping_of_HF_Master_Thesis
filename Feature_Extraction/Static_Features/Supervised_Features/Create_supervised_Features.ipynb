{
 "cells": [
  {
   "attachments": {},
   "cell_type": "markdown",
   "metadata": {},
   "source": [
    "# Create supervised Features \n",
    "This notebook can be used to convert Excel Sheets, which contain Diagnosis or medication Features, to FIBER Conditions. \n",
    "### Format of ICD Codes in different Sheets with the title of the feature: \n",
    "Code Type\tCode\n",
    "ICD-9\t\"290 \t\"\n",
    "\n",
    "Output: \n",
    "- Conditions.txt (FIBER Diagnosis Condition)\n",
    "- Condition_overview.txt for naming of the features\n",
    "- Open_parquet_files.txt for merging the different features later \n",
    "### Format Medication Feature in different Sheets with the title of the feature: \n",
    "Medications\n",
    "Loop Diuretics\n",
    "\n",
    "Output: \n",
    "- Medication_Conditions.txt (FIBER Medication Condition)\n",
    "- Medication_Condition_overview.txt for naming of the features\n",
    "- Medication_Open_parquet_files.txt for merging the different features later "
   ]
  },
  {
   "cell_type": "code",
   "execution_count": 1,
   "metadata": {},
   "outputs": [],
   "source": [
    "import pandas as pd"
   ]
  },
  {
   "cell_type": "markdown",
   "metadata": {},
   "source": [
    "## Diagnosis "
   ]
  },
  {
   "cell_type": "code",
   "execution_count": 17,
   "metadata": {},
   "outputs": [],
   "source": [
    "sheets_dict = pd.read_excel('Supervised_ICD.xlsx', sheetname=None)\n",
    "df_Features_Raw=[]\n",
    "for name,sheet in sheets_dict.items():\n",
    "    sheet\n",
    "    df = pd.DataFrame(data=sheet)\n",
    "    \n",
    "    conditions_overview= open(\"Conditions_Overview.txt\",\"a+\")\n",
    "    conditions_overview.write(\"[condition_\"+name+\",\\\"\"+name+\"\\\"],\\n\")\n",
    "    \n",
    "    conditions_call_file= open(\"Open_parquet_files.txt\",'a+')\n",
    "    conditions_call_file.write(\"df_forMerge.append(pq.read_table(\\'Cohort/Feature_Extraction/Supervised_ALL_HF/\"+name+\"\\').to_pandas()) \\n\")\n",
    "    conditions= open(\"Conditions.txt\",\"a+\")\n",
    "    conditions.write(\"condition_\"+name+\"=( \\n\")\n",
    "    x=0\n",
    "    for index,row in df.iterrows(): \n",
    "        if x==0:\n",
    "            conditions.write(\"Diagnosis( \\\"\"+str(row['Code']).strip()+\"%\\\", \\\"\"+str(row['Code Type']).strip()+\"\\\")\")\n",
    "            x=x+1\n",
    "        else: \n",
    "            conditions.write(\"\\n|Diagnosis( \\\"\"+str(row['Code']).strip()+\"%\\\", \\\"\"+str(row['Code Type']).strip()+\"\\\")\")\n",
    "    conditions.write(\") \\n\")\n",
    "            "
   ]
  },
  {
   "cell_type": "markdown",
   "metadata": {},
   "source": [
    "## Medication "
   ]
  },
  {
   "cell_type": "code",
   "execution_count": 22,
   "metadata": {},
   "outputs": [
    {
     "name": "stdout",
     "output_type": "stream",
     "text": [
      "   Medications\n",
      "0   Azilsartan\n",
      "1  Candesartan\n",
      "2   Eprosartan\n",
      "3   Irbesartan\n",
      "4     Losartan\n",
      "5   Olmesartan\n",
      "6  Telmisartan\n",
      "7    Valsartan\n",
      "    Medications\n",
      "0    Acebutolol\n",
      "1      Atenolol\n",
      "2    Bisoprolol\n",
      "3   Metoprolol \n",
      "4      Nadolol \n",
      "5    Nebivolol \n",
      "6  Propranolol \n",
      "  Medications\n",
      "0    Entresto\n",
      "                   Medications\n",
      "0               Loop Diuretics\n",
      "1           Thiazide diuretics\n",
      "2  Potassium sparing diuretics\n",
      "3                   Bumetanide\n",
      "4           Ethacrynate sodium\n",
      "5              Ethacrynic acid\n",
      "6                   Furosemide\n",
      "7                   Furosemide\n",
      "8                   Furosemide\n",
      "9                    Torsemide\n",
      "              Medications\n",
      "0    Isosorbide dinitrate\n",
      "1  Isosorbide mononitrate\n",
      "      Medications\n",
      "0  Spironolactone\n",
      "1      Eplerenone\n",
      "                   Medications\n",
      "0               Loop Diuretics\n",
      "1           Thiazide diuretics\n",
      "2  Potassium sparing diuretics\n"
     ]
    }
   ],
   "source": [
    "sheets_dict = pd.read_excel('medication.xlsx', sheetname=None)\n",
    "df_Features_Raw=[]\n",
    "for name,sheet in sheets_dict.items():\n",
    "    sheet\n",
    "    df = pd.DataFrame(data=sheet)\n",
    "    print(df)\n",
    "    conditions_overview= open(\"Medication_Conditions_Overview.txt\",\"a+\")\n",
    "    conditions_overview.write(\"[condition_\"+name+\",\\\"\"+name+\"\\\"],\\n\")\n",
    "    \n",
    "    conditions_call_file= open(\"Medication_Open_parquet_files.txt\",'a+')\n",
    "    conditions_call_file.write(\"df_forMerge.append(pq.read_table(\\'Cohort/Feature_Extraction/Supervised_ALL_HF/\"+name+\"\\').to_pandas()) \\n\")\n",
    "    conditions= open(\"Medication_Conditions.txt\",\"a+\")\n",
    "    conditions.write(\"condition_\"+name+\"=( \\n\")\n",
    "    x=0\n",
    "    for index,row in df.iterrows(): \n",
    "        if x==0:\n",
    "            conditions.write(\"Drug( \\\"%\"+str(row['Medications']).strip()+\"%\\\")\")\n",
    "            x=x+1\n",
    "        else: \n",
    "            conditions.write(\"\\n|Drug( \\\"%\"+str(row['Medications']).strip()+\"%\\\")\")\n",
    "    conditions.write(\") \\n\")"
   ]
  },
  {
   "cell_type": "code",
   "execution_count": null,
   "metadata": {},
   "outputs": [],
   "source": [
    "df_forMerge=[]\n",
    "df_forMerge.append(pq.read_table('Cohort/Feature_Extraction/Unsupervised_ALL_HF/HF_ALL_Vital_Sign_Mean').to_pandas())"
   ]
  },
  {
   "cell_type": "code",
   "execution_count": null,
   "metadata": {},
   "outputs": [],
   "source": [
    "conditions_overview.write(\"df_forMerge.append(pq.read_table(\\'Cohort/Feature_Extraction/Supervised_ALL_HF/\"+name+\"\\').to_pandas())\")\n",
    "    "
   ]
  }
 ],
 "metadata": {
  "kernelspec": {
   "display_name": "Python 3",
   "language": "python",
   "name": "python3"
  },
  "language_info": {
   "codemirror_mode": {
    "name": "ipython",
    "version": 3
   },
   "file_extension": ".py",
   "mimetype": "text/x-python",
   "name": "python",
   "nbconvert_exporter": "python",
   "pygments_lexer": "ipython3",
   "version": "3.7.4"
  }
 },
 "nbformat": 4,
 "nbformat_minor": 2
}
