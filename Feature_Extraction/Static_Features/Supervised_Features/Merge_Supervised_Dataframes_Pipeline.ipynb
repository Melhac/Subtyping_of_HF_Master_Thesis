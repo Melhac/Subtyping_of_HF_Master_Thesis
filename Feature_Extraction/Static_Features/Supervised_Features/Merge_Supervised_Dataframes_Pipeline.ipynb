{
 "cells": [
  {
   "cell_type": "markdown",
   "metadata": {},
   "source": [
    "# Merge and Data Preperation\n",
    "This Notebook is Merging  different Dataframes containing features of patients together.\n",
    "    "
   ]
  },
  {
   "cell_type": "code",
   "execution_count": null,
   "metadata": {},
   "outputs": [],
   "source": [
    "##### REQUIRES THE DATAFRAME FOLDER TO BE NAMED 'Cohorts', WHICH INCLUDES ALL PRECOMPUTED DATAFRAMES #####\n",
    "import fiber\n",
    "from fiber.cohort import Cohort\n",
    "from fiber.condition import Patient, MRNs\n",
    "from fiber.condition import Diagnosis\n",
    "from fiber.condition import Measurement, Encounter, Drug, TobaccoUse,LabValue\n",
    "from fiber.storage import yaml as fiberyaml\n",
    "import pandas as pd\n",
    "import pyarrow.parquet as pq\n",
    "import numpy as np\n",
    "import os\n",
    "import matplotlib.pyplot as plt\n",
    "from functools import reduce\n",
    "import json\n",
    "from sklearn.compose import ColumnTransformer\n",
    "from sklearn.preprocessing import StandardScaler\n",
    "from sklearn.impute import SimpleImputer\n",
    "import category_encoders as ce\n"
   ]
  },
  {
   "cell_type": "code",
   "execution_count": null,
   "metadata": {},
   "outputs": [],
   "source": [
    "#load data with baseline characteristics\n",
    "Case_EF_ICD = pq.read_table('Cohort/Phenotyping/ALL_Matches_1yr_HF_EF_ICD_Notes_Cohort.parquet').to_pandas()\n",
    "Case_EF_ICD=Case_EF_ICD.set_index('MRN', inplace=False)\n",
    "Case_ICD = pq.read_table('Cohort/Phenotyping/ALL_Matches_1yr_HF_ICD_Notes_Cohort.parquet').to_pandas()\n",
    "Case_ICD=Case_ICD.set_index('MRN', inplace=False)\n",
    "Case_all= pd.concat([Case_EF_ICD, Case_ICD], ignore_index=False, sort =False)\n",
    "Case_all.index = Case_all.index.map(str)\n",
    "#load all dataframes that should be merged to the cohort and add them to the array: \n",
    "df_forMerge=[]\n",
    "df_forMerge.append(pq.read_table('Cohort/Feature_Extraction/Unsupervised_ALL_HF/HF_ALL_Drugs_Count').to_pandas()) \n",
    "df_forMerge.append(pq.read_table('Cohort/Feature_Extraction/Supervised_ALL_HF/vascular_cognitive_impairment.parquet').to_pandas()) \n",
    "df_forMerge.append(pq.read_table('Cohort/Feature_Extraction/Supervised_ALL_HF/acute_myocardial_infarction.parquet').to_pandas()) \n",
    "df_forMerge.append(pq.read_table('Cohort/Feature_Extraction/Supervised_ALL_HF/anemia.parquet').to_pandas()) \n",
    "df_forMerge.append(pq.read_table('Cohort/Feature_Extraction/Supervised_ALL_HF/angina.parquet').to_pandas()) \n",
    "df_forMerge.append(pq.read_table('Cohort/Feature_Extraction/Supervised_ALL_HF/atrial_flutter_fibrillation.parquet').to_pandas()) \n",
    "df_forMerge.append(pq.read_table('Cohort/Feature_Extraction/Supervised_ALL_HF/cardiomyopathy.parquet').to_pandas()) \n",
    "df_forMerge.append(pq.read_table('Cohort/Feature_Extraction/Supervised_ALL_HF/chronic_kidney_disease.parquet').to_pandas()) \n",
    "df_forMerge.append(pq.read_table('Cohort/Feature_Extraction/Supervised_ALL_HF/COPD.parquet').to_pandas()) \n",
    "df_forMerge.append(pq.read_table('Cohort/Feature_Extraction/Supervised_ALL_HF/coronary_artery_disease.parquet').to_pandas()) \n",
    "df_forMerge.append(pq.read_table('Cohort/Feature_Extraction/Supervised_ALL_HF/depression.parquet').to_pandas()) \n",
    "df_forMerge.append(pq.read_table('Cohort/Feature_Extraction/Supervised_ALL_HF/diabetes_mellitus_type_I.parquet').to_pandas()) \n",
    "df_forMerge.append(pq.read_table('Cohort/Feature_Extraction/Supervised_ALL_HF/diabetes_mellitus_type_II.parquet').to_pandas()) \n",
    "df_forMerge.append(pq.read_table('Cohort/Feature_Extraction/Supervised_ALL_HF/diabetic_nephropathy.parquet').to_pandas()) \n",
    "df_forMerge.append(pq.read_table('Cohort/Feature_Extraction/Supervised_ALL_HF/dyspnea.parquet').to_pandas()) \n",
    "df_forMerge.append(pq.read_table('Cohort/Feature_Extraction/Supervised_ALL_HF/dysrhythmias.parquet').to_pandas()) \n",
    "df_forMerge.append(pq.read_table('Cohort/Feature_Extraction/Supervised_ALL_HF/edema.parquet').to_pandas()) \n",
    "df_forMerge.append(pq.read_table('Cohort/Feature_Extraction/Supervised_ALL_HF/hyperkalemia.parquet').to_pandas()) \n",
    "df_forMerge.append(pq.read_table('Cohort/Feature_Extraction/Supervised_ALL_HF/hyperlipidemia.parquet').to_pandas()) \n",
    "df_forMerge.append(pq.read_table('Cohort/Feature_Extraction/Supervised_ALL_HF/hypertension.parquet').to_pandas()) \n",
    "df_forMerge.append(pq.read_table('Cohort/Feature_Extraction/Supervised_ALL_HF/obesity.parquet').to_pandas()) \n",
    "df_forMerge.append(pq.read_table('Cohort/Feature_Extraction/Supervised_ALL_HF/peripheral_artery_disease.parquet').to_pandas()) \n",
    "df_forMerge.append(pq.read_table('Cohort/Feature_Extraction/Supervised_ALL_HF/pulmonary_hypertension.parquet').to_pandas()) \n",
    "df_forMerge.append(pq.read_table('Cohort/Feature_Extraction/Supervised_ALL_HF/rheumatic_heart_disease.parquet').to_pandas()) \n",
    "df_forMerge.append(pq.read_table('Cohort/Feature_Extraction/Supervised_ALL_HF/sleep_apnea.parquet').to_pandas()) \n",
    "df_forMerge.append(pq.read_table('Cohort/Feature_Extraction/Supervised_ALL_HF/stroke_broad.parquet').to_pandas()) \n",
    "df_forMerge.append(pq.read_table('Cohort/Feature_Extraction/Supervised_ALL_HF/stroke_hemorrhagic.parquet').to_pandas()) \n",
    "df_forMerge.append(pq.read_table('Cohort/Feature_Extraction/Supervised_ALL_HF/stroke_ischemic.parquet').to_pandas()) \n",
    "df_forMerge.append(pq.read_table('Cohort/Feature_Extraction/Supervised_ALL_HF/transient_ischemic_attack.parquet').to_pandas()) \n",
    "df_forMerge.append(pq.read_table('Cohort/Feature_Extraction/Supervised_ALL_HF/valve_disorder.parquet').to_pandas()) \n",
    "\n",
    "#df_forMerge.append(pq.read_table('Cohort/Feature_Extraction/Supervised_ALL_HF/oral_diuretics.parquet').to_pandas()) \n",
    "df_forMerge.append(pq.read_table('Cohort/Feature_Extraction/Supervised_ALL_HF/angiotensin_receptor_blockers.parquet').to_pandas()) \n",
    "df_forMerge.append(pq.read_table('Cohort/Feature_Extraction/Supervised_ALL_HF/beta_blockers.parquet').to_pandas()) \n",
    "df_forMerge.append(pq.read_table('Cohort/Feature_Extraction/Supervised_ALL_HF/entresto.parquet').to_pandas()) \n",
    "df_forMerge.append(pq.read_table('Cohort/Feature_Extraction/Supervised_ALL_HF/IV_diuretics.parquet').to_pandas()) \n",
    "df_forMerge.append(pq.read_table('Cohort/Feature_Extraction/Supervised_ALL_HF/long_acting_nitrates.parquet').to_pandas()) \n",
    "df_forMerge.append(pq.read_table('Cohort/Feature_Extraction/Supervised_ALL_HF/mineralocorticoid_receptor_anta.parquet').to_pandas()) \n",
    "\n",
    "df_forMerge\n"
   ]
  },
  {
   "cell_type": "code",
   "execution_count": null,
   "metadata": {},
   "outputs": [],
   "source": [
    "col_for_dropping=[\"age_in_days_icd\",\"Note_ID\",\"age_in_days_term\",\"Term\",\"HF_Onset_age_in_days\",\"HF_Onset_Type\"]"
   ]
  },
  {
   "cell_type": "code",
   "execution_count": null,
   "metadata": {},
   "outputs": [],
   "source": [
    "col_patient_information=['age_in_days',\n",
    "'date_of_birth',\n",
    "'month_of_birth',\n",
    "'gender',\n",
    "'religion',\n",
    "'race',\n",
    "'patient_ethnic_group',\n",
    "'deceased_indicator',\n",
    "'mother_account_number',\n",
    "'address_zip',\n",
    "'marital_status_code','medical_record_number']"
   ]
  },
  {
   "cell_type": "code",
   "execution_count": null,
   "metadata": {},
   "outputs": [],
   "source": [
    "def merge_dataframes(df_master, df_list, col_for_dropping,col_patient_information, final_name):\n",
    "    df_patient_information=df_list[0]\n",
    "    df_patient_information=df_patient_information[col_patient_information]\n",
    "    df_master=df_master.merge(df_patient_information, left_on='MRN',right_on='medical_record_number',how='inner')\n",
    "    df_master=df_master.set_index('medical_record_number', inplace=False)\n",
    "    for x in range(len(df_list)-1):\n",
    "        x=x+1\n",
    "        print(x)\n",
    "        df_merge=df_list[x].drop(col_for_dropping,axis=1)\n",
    "        #df_merge=dataCuration(df_merge,df_list[x][1])\n",
    "        df_master.index = df_master.index.map(int)\n",
    "        #df_master=df_master.astype({'medical_record_number': 'int64'})\n",
    "        df_master = df_master.merge(df_merge, right_on=\"medical_record_number\", left_index=True, how=\"inner\")\n",
    "        df_master=df_master.set_index('medical_record_number', inplace=False)\n",
    "    df_master=df_master.drop(['Note_ID','age_in_days_icd','age_in_days_x','HF_Onset_Type','age_in_days_y','date_of_birth','month_of_birth','Term'],axis=1)   \n",
    "    #saving the dataframe and a sample: \n",
    "    df_master.to_parquet('Cohort/Feature_Extraction/'+final_name+'.parquet')\n",
    "    sample=df_master.head(1000)\n",
    "    sample.to_parquet('Cohort/Feature_Extraction/Sample_'+final_name+'.parquet')\n",
    "    return(df_master)\n",
    "        \n"
   ]
  },
  {
   "cell_type": "code",
   "execution_count": null,
   "metadata": {},
   "outputs": [],
   "source": [
    "df=merge_dataframes(Case_all, df_forMerge, col_for_dropping,col_patient_information, 'ALL_HF_cohort_supervised_only_ever_diag_drug')"
   ]
  },
  {
   "cell_type": "code",
   "execution_count": null,
   "metadata": {
    "scrolled": true
   },
   "outputs": [],
   "source": [
    "df"
   ]
  },
  {
   "cell_type": "code",
   "execution_count": null,
   "metadata": {},
   "outputs": [],
   "source": [
    "df_supervised_merge= pq.read_table('Cohort/Feature_Extraction/ALL_HF_cohort_supervised_only_ever_diag_drug.parquet').to_pandas()\n",
    "df_supervised_merge=df_supervised_merge.drop([\n",
    "'gender',\n",
    "'religion',\n",
    "'race',\n",
    "'patient_ethnic_group',\n",
    "'deceased_indicator',\n",
    "'mother_account_number',\n",
    "'address_zip',\n",
    "'marital_status_code','HF_Onset_age_in_days'],axis=1)\n",
    "df_supervised_merge\n",
    "#df_supervised_merge=df_supervised_merge.replace(1, 'yes')\n",
    "#df_supervised_merge=df_supervised_merge.replace(0,'no')\n",
    "#df_supervised_merge=df_supervised_merge.fillna('no')\n",
    "df_supervised_merge.to_parquet('Cohort/Feature_Extraction/ALL_HF_cohort_supervised_only_ever_diag_drugFORMerge.parquet')"
   ]
  },
  {
   "cell_type": "code",
   "execution_count": null,
   "metadata": {},
   "outputs": [],
   "source": [
    "df_supervised_merge= pq.read_table('Cohort/Feature_Extraction/ALL_HF_cohort_supervised_only_ever_diag_drugFORMerge.parquet').to_pandas()\n",
    "df_supervised_merge\n"
   ]
  },
  {
   "cell_type": "code",
   "execution_count": null,
   "metadata": {},
   "outputs": [],
   "source": [
    "\n",
    "df_supervised_merge=df_supervised_merge.replace(1, 'yes')\n",
    "df_supervised_merge=df_supervised_merge.replace(0, 'no')\n",
    "df_supervised_merge.to_parquet('Cohort/Feature_Extraction/Supervised_True_false.parquet')"
   ]
  },
  {
   "cell_type": "code",
   "execution_count": null,
   "metadata": {},
   "outputs": [],
   "source": [
    "df_supervised_merge"
   ]
  },
  {
   "cell_type": "markdown",
   "metadata": {},
   "source": [
    "# Remove MRN which do not have any Lab Values "
   ]
  },
  {
   "cell_type": "code",
   "execution_count": null,
   "metadata": {},
   "outputs": [],
   "source": [
    "#load supervised for clustering\n",
    "clustering=pq.read_table('Cohort/Feature_Extraction/ALL_HF_cohort_supervised_only_ever_diag_drug.parquet').to_pandas()\n",
    "clustering.index=clustering.index.map(str)\n",
    "#load supervised for merge\n",
    "merge=pq.read_table('Cohort/Feature_Extraction/ALL_HF_cohort_supervised_only_ever_diag_drugFORMerge.parquet').to_pandas()\n",
    "merge.index=merge.index.map(str)\n",
    "#mrn without labvalues: \n",
    "mrn_without_lab=pq.read_table('Cohort/Feature_Extraction/Unsupervised_ALL_HF/LabValue_after_onset_HF_ALL_mmm_0_8_missing_values').to_pandas()"
   ]
  },
  {
   "cell_type": "code",
   "execution_count": null,
   "metadata": {},
   "outputs": [],
   "source": [
    "mrn_list=mrn_without_lab['medical_record_number'].to_list()\n",
    "len(mrn_list)"
   ]
  },
  {
   "cell_type": "code",
   "execution_count": null,
   "metadata": {},
   "outputs": [],
   "source": [
    "clustering"
   ]
  },
  {
   "cell_type": "code",
   "execution_count": null,
   "metadata": {},
   "outputs": [],
   "source": [
    "clustering_wLab=clustering.drop(mrn_list, inplace=False)\n",
    "clustering_wLab\n",
    "clustering_wLab.to_parquet('Cohort/Feature_Extraction/ALL_HF_cohort_supervised_only_ever_diag_drug_wLab.parquet')"
   ]
  },
  {
   "cell_type": "code",
   "execution_count": null,
   "metadata": {},
   "outputs": [],
   "source": [
    "\n",
    "merge_wLab=merge.drop(mrn_list, inplace=False)\n",
    "merge_wLab\n",
    "merge_wLab.to_parquet('Cohort/Feature_Extraction/ALL_HF_cohort_supervised_only_ever_diag_drugFORMerge_wLab.parquet')"
   ]
  },
  {
   "cell_type": "code",
   "execution_count": null,
   "metadata": {},
   "outputs": [],
   "source": [
    "merge_wLab"
   ]
  },
  {
   "cell_type": "code",
   "execution_count": null,
   "metadata": {},
   "outputs": [],
   "source": []
  }
 ],
 "metadata": {
  "kernelspec": {
   "display_name": "Python 3",
   "language": "python",
   "name": "python3"
  },
  "language_info": {
   "codemirror_mode": {
    "name": "ipython",
    "version": 3
   },
   "file_extension": ".py",
   "mimetype": "text/x-python",
   "name": "python",
   "nbconvert_exporter": "python",
   "pygments_lexer": "ipython3",
   "version": "3.7.4"
  }
 },
 "nbformat": 4,
 "nbformat_minor": 2
}
