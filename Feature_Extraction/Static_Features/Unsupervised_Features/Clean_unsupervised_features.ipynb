{
 "cells": [
  {
   "cell_type": "markdown",
   "metadata": {},
   "source": [
    "# Clean unsupervised features\n",
    "This Notebook can be used to clean the unsupervised extracted features.For numerical features(Lab and Vital Sign) It is dropping features were a certain threshold of patients do not have this features and is replacing outlier values with NaN so that they can be later imputed Furthermore are measures for the same type of test out of different Systems like IBEX or EPIC are dropped.\n",
    "\n",
    "For Categorical Features(Medication Diagnosis and procedures) the user can choose which further features should be dropped, by entering the feature name. "
   ]
  },
  {
   "cell_type": "code",
   "execution_count": 1,
   "metadata": {},
   "outputs": [
    {
     "name": "stdout",
     "output_type": "stream",
     "text": [
      "DB Password: ········\n"
     ]
    }
   ],
   "source": [
    "##### REQUIRES THE DATAFRAME FOLDER TO BE NAMED 'Cohorts', WHICH INCLUDES ALL PRECOMPUTED DATAFRAMES #####\n",
    "import fiber\n",
    "from fiber.cohort import Cohort\n",
    "from fiber.condition import Patient, MRNs\n",
    "from fiber.condition import Diagnosis\n",
    "from fiber.condition import Measurement, Encounter, Drug, TobaccoUse,LabValue\n",
    "from fiber.storage import yaml as fiberyaml\n",
    "import pandas as pd\n",
    "import pyarrow.parquet as pq\n",
    "import numpy as np\n",
    "import os\n",
    "import matplotlib.pyplot as plt\n",
    "from functools import reduce\n",
    "import json\n",
    "from sklearn.compose import ColumnTransformer\n",
    "from sklearn.preprocessing import StandardScaler\n",
    "from sklearn.impute import SimpleImputer\n",
    "import category_encoders as ce"
   ]
  },
  {
   "cell_type": "markdown",
   "metadata": {},
   "source": [
    "# Quantile function "
   ]
  },
  {
   "cell_type": "code",
   "execution_count": null,
   "metadata": {},
   "outputs": [],
   "source": [
    "#dropping numeric values if over 50% of the patients have nan values \n",
    "# replacing outliers with NaN values so that they can be imputed afterwards\n",
    "def cleanNumFeatures(df,featurename): \n",
    "    feature=featurename\n",
    "    initial_nan=df[feature].isna().sum()\n",
    "    if initial_nan>12000:\n",
    "        return False \n",
    "    print(initial_nan)\n",
    "    test=df \n",
    "    test=test[feature].dropna()\n",
    "    upper_quantile=np.quantile(test.values,0.995,axis=0)\n",
    "    lower_quantile=np.quantile(test.values,0.005,axis=0)\n",
    "    df.loc[df[feature]>=upper_quantile,[feature]]=np.nan\n",
    "    df.loc[df[feature]<=lower_quantile,[feature]]=np.nan\n",
    "    if df[feature].isna().sum()>=18000: \n",
    "        return False\n",
    "    return True"
   ]
  },
  {
   "cell_type": "code",
   "execution_count": null,
   "metadata": {},
   "outputs": [],
   "source": [
    "col_for_dropping=['age_in_days',\n",
    "'date_of_birth',\n",
    "'month_of_birth',\n",
    "'gender',\n",
    "'religion',\n",
    "'race',\n",
    "'patient_ethnic_group',\n",
    "'deceased_indicator',\n",
    "'mother_account_number',\n",
    "'address_zip',\n",
    "'marital_status_code']"
   ]
  },
  {
   "cell_type": "markdown",
   "metadata": {},
   "source": [
    "# Lab Values"
   ]
  },
  {
   "cell_type": "code",
   "execution_count": null,
   "metadata": {},
   "outputs": [],
   "source": [
    "lab_df=pq.read_table('Cohort/Feature_Extraction/Unsupervised_ALL_HF/LabValue_after_onset_HF_ALL_mmm_0_8').to_pandas()\n",
    "#drop mrns  which will be later added again\n",
    "further_col_drop=[]\n",
    "mrn=pd.DataFrame()\n",
    "mrn['medical_record_number']=lab_df['medical_record_number']\n",
    "lab_df=lab_df.drop('medical_record_number',axis=1)\n",
    "lab_df=lab_df.drop(col_for_dropping,axis=1)\n",
    "lab_df\n",
    "col_names=lab_df.columns\n",
    "for c in col_names: \n",
    "    print(c)\n",
    "    keep_column=cleanNumFeatures(lab_df,c)\n",
    "    if keep_column==False:\n",
    "        #lab_df=lab_df.drop(c,axis=1)\n",
    "        further_col_drop.append(c)\n",
    "        print('drop')\n",
    "    #print(lab_df)\n",
    "lab_df=lab_df.drop(further_col_drop,axis=1)\n",
    "lab_df['medical_record_number']=mrn['medical_record_number']"
   ]
  },
  {
   "cell_type": "code",
   "execution_count": null,
   "metadata": {
    "scrolled": true
   },
   "outputs": [],
   "source": [
    "lab_df"
   ]
  },
  {
   "cell_type": "code",
   "execution_count": null,
   "metadata": {},
   "outputs": [],
   "source": [
    "lab_df.to_parquet('Cohort/Feature_Extraction/Unsupervised_ALL_HF/LabValue_after_onset_HF_ALL_mmm_0_8_cleaned')"
   ]
  },
  {
   "cell_type": "code",
   "execution_count": null,
   "metadata": {},
   "outputs": [],
   "source": []
  },
  {
   "cell_type": "markdown",
   "metadata": {},
   "source": [
    "## Check for NaNs in row "
   ]
  },
  {
   "cell_type": "code",
   "execution_count": null,
   "metadata": {
    "scrolled": true
   },
   "outputs": [],
   "source": [
    "lab_df_clean=pq.read_table('Cohort/Feature_Extraction/Unsupervised_ALL_HF/LabValue_after_onset_HF_ALL_mmm_0_8_cleaned').to_pandas()\n",
    "lab_df_clean"
   ]
  },
  {
   "cell_type": "code",
   "execution_count": null,
   "metadata": {},
   "outputs": [],
   "source": [
    "d=lab_df_clean.isnull().sum(axis=1)"
   ]
  },
  {
   "cell_type": "code",
   "execution_count": null,
   "metadata": {},
   "outputs": [],
   "source": [
    "import matplotlib.pyplot as plt\n",
    "plt.hist(x=d, bins=137, color='#0504aa',alpha=0.7, rwidth=0.85)"
   ]
  },
  {
   "cell_type": "markdown",
   "metadata": {},
   "source": [
    "# Exclude Patient with no Lab Values"
   ]
  },
  {
   "cell_type": "code",
   "execution_count": null,
   "metadata": {},
   "outputs": [],
   "source": [
    "lab_df_clean['count_missing']=d\n",
    "lab_df_clean"
   ]
  },
  {
   "cell_type": "code",
   "execution_count": null,
   "metadata": {},
   "outputs": [],
   "source": [
    "lab_df_missing=lab_df_clean.loc[lab_df_clean['count_missing']>=136]\n",
    "lab_df_missing.to_parquet('Cohort/Feature_Extraction/Unsupervised_ALL_HF/LabValue_after_onset_HF_ALL_mmm_0_8_missing_values')"
   ]
  },
  {
   "cell_type": "markdown",
   "metadata": {},
   "source": [
    "# Vital Signs "
   ]
  },
  {
   "cell_type": "code",
   "execution_count": null,
   "metadata": {},
   "outputs": [],
   "source": [
    "vital_df=pq.read_table('Cohort/Feature_Extraction/Unsupervised_ALL_HF/VitalSign_after_onset_HF_ALL_mmm_0_6').to_pandas()\n",
    "#drop mrns  which will be later added again\n",
    "further_col_drop=[]\n",
    "mrn=pd.DataFrame()\n",
    "mrn['medical_record_number']=vital_df['medical_record_number']\n",
    "vital_df=vital_df.drop('medical_record_number',axis=1)\n",
    "vital_df=vital_df.drop(col_for_dropping,axis=1)\n",
    "vital_df\n",
    "col_names=vital_df.columns\n",
    "for c in col_names: \n",
    "    print(c)\n",
    "    keep_column=cleanNumFeatures(vital_df,c)\n",
    "    if keep_column==False:\n",
    "        #lab_df=lab_df.drop(c,axis=1)\n",
    "        further_col_drop.append(c)\n",
    "        print('drop')\n",
    "    #print(lab_df)\n",
    "vital_df=vital_df.drop(further_col_drop,axis=1)\n",
    "vital_df['medical_record_number']=mrn['medical_record_number']"
   ]
  },
  {
   "cell_type": "code",
   "execution_count": null,
   "metadata": {
    "scrolled": true
   },
   "outputs": [],
   "source": [
    "vital_df"
   ]
  },
  {
   "cell_type": "code",
   "execution_count": null,
   "metadata": {},
   "outputs": [],
   "source": [
    "#keep only the EPIC values since all values out of the different values are the same\n",
    "further_col_drop=['max__VitalSign__IBEX__(RESP)',\n",
    " 'max__VitalSign__IBEX__(T-O)',\n",
    " 'max__VitalSign__IBEX__(T-T)',\n",
    " 'max__VitalSign__IBEX__DBP',\n",
    " 'max__VitalSign__IBEX__PULSE',\n",
    " 'max__VitalSign__IBEX__PULSE OXIMETRY',\n",
    " 'max__VitalSign__IBEX__SBP',\n",
    " 'max__VitalSign__IBEX__TEMPERATURE',\n",
    " 'max__VitalSign__TDS__(RESP)',\n",
    " 'max__VitalSign__TDS__(T-O)',\n",
    " 'max__VitalSign__TDS__(T-T)',\n",
    " 'max__VitalSign__TDS__DBP',\n",
    " 'max__VitalSign__TDS__SBP',\n",
    " 'median__VitalSign__IBEX__(RESP)',\n",
    " 'median__VitalSign__IBEX__(T-O)',\n",
    " 'median__VitalSign__IBEX__(T-T)',\n",
    " 'median__VitalSign__IBEX__DBP',\n",
    " 'median__VitalSign__IBEX__PULSE',\n",
    " 'median__VitalSign__IBEX__PULSE OXIMETRY',\n",
    " 'median__VitalSign__IBEX__SBP',\n",
    " 'median__VitalSign__IBEX__TEMPERATURE',\n",
    " 'median__VitalSign__TDS__(RESP)',\n",
    " 'median__VitalSign__TDS__(T-O)',\n",
    " 'median__VitalSign__TDS__(T-T)',\n",
    " 'median__VitalSign__TDS__DBP',\n",
    " 'median__VitalSign__TDS__SBP',\n",
    " 'min__VitalSign__IBEX__(RESP)',\n",
    " 'min__VitalSign__IBEX__(T-O)',\n",
    " 'min__VitalSign__IBEX__(T-T)',\n",
    " 'min__VitalSign__IBEX__DBP',\n",
    " 'min__VitalSign__IBEX__PULSE',\n",
    " 'min__VitalSign__IBEX__PULSE OXIMETRY',\n",
    " 'min__VitalSign__IBEX__SBP',\n",
    " 'min__VitalSign__IBEX__TEMPERATURE',\n",
    " 'min__VitalSign__TDS__(RESP)',\n",
    " 'min__VitalSign__TDS__(T-O)',\n",
    " 'min__VitalSign__TDS__(T-T)',\n",
    " 'min__VitalSign__TDS__DBP',\n",
    " 'min__VitalSign__TDS__SBP']"
   ]
  },
  {
   "cell_type": "code",
   "execution_count": null,
   "metadata": {},
   "outputs": [],
   "source": [
    "vital_df=vital_df.drop(further_col_drop,axis=1)"
   ]
  },
  {
   "cell_type": "code",
   "execution_count": null,
   "metadata": {},
   "outputs": [],
   "source": [
    "vital_df.to_parquet('Cohort/Feature_Extraction/Unsupervised_ALL_HF/VitalSign_after_onset_HF_ALL_mmm_0_6_cleaned')"
   ]
  },
  {
   "cell_type": "code",
   "execution_count": null,
   "metadata": {
    "scrolled": true
   },
   "outputs": [],
   "source": [
    "vital_df=pq.read_table('Cohort/Feature_Extraction/Unsupervised_ALL_HF/VitalSign_after_onset_HF_ALL_mmm_0_6_cleaned').to_pandas()\n",
    "vital_df"
   ]
  },
  {
   "cell_type": "markdown",
   "metadata": {},
   "source": [
    "# Check for NaNs in row: \n"
   ]
  },
  {
   "cell_type": "code",
   "execution_count": null,
   "metadata": {
    "scrolled": true
   },
   "outputs": [],
   "source": [
    "vital_df_clean=pq.read_table('Cohort/Feature_Extraction/Unsupervised_ALL_HF//VitalSign_after_onset_HF_ALL_mmm_0_6_cleaned').to_pandas()\n",
    "vital_df_clean"
   ]
  },
  {
   "cell_type": "code",
   "execution_count": null,
   "metadata": {},
   "outputs": [],
   "source": [
    "d=vital_df_clean.isnull().sum(axis=1)\n",
    "plt.hist(x=d, bins=25, color='#0504aa',alpha=0.7, rwidth=0.85)"
   ]
  },
  {
   "cell_type": "code",
   "execution_count": null,
   "metadata": {
    "scrolled": true
   },
   "outputs": [],
   "source": [
    "d"
   ]
  },
  {
   "cell_type": "markdown",
   "metadata": {},
   "source": [
    "# get missing values for Vital and Lab together: \n"
   ]
  },
  {
   "cell_type": "code",
   "execution_count": null,
   "metadata": {
    "scrolled": true
   },
   "outputs": [],
   "source": [
    "#vital_df_clean\n",
    "#lab_df_clean\n",
    "df_vital_lab_clean=vital_df_clean.merge(lab_df_clean, left_on='medical_record_number',right_on='medical_record_number',how='inner')\n",
    "df_vital_lab_clean"
   ]
  },
  {
   "cell_type": "code",
   "execution_count": null,
   "metadata": {},
   "outputs": [],
   "source": [
    "d=df_vital_lab_clean.isnull().sum(axis=1)\n",
    "plt.hist(x=d, bins=162, color='#0504aa',alpha=0.7, rwidth=0.85)"
   ]
  },
  {
   "cell_type": "code",
   "execution_count": null,
   "metadata": {},
   "outputs": [],
   "source": [
    "np.count_nonzero(d>=136)"
   ]
  },
  {
   "cell_type": "markdown",
   "metadata": {},
   "source": [
    "# Procedure"
   ]
  },
  {
   "cell_type": "code",
   "execution_count": null,
   "metadata": {},
   "outputs": [],
   "source": [
    "proc_df=pq.read_table('Cohort/Feature_Extraction/Unsupervised_ALL_HF/Procedure_after_onset_HF_ALL_mmm_0_8').to_pandas()"
   ]
  },
  {
   "cell_type": "code",
   "execution_count": null,
   "metadata": {},
   "outputs": [],
   "source": [
    "proc_df"
   ]
  },
  {
   "cell_type": "code",
   "execution_count": null,
   "metadata": {
    "scrolled": true
   },
   "outputs": [],
   "source": [
    "further_col_drop=[]\n",
    "for c in proc_df.columns: \n",
    "    if ('EPIC' not in c) : \n",
    "        print(c)\n",
    "        further_col_drop.append(c)\n",
    "further_col_drop"
   ]
  },
  {
   "cell_type": "code",
   "execution_count": null,
   "metadata": {},
   "outputs": [],
   "source": [
    "further_col_drop=[\n",
    "'age_in_days',\n",
    " 'date_of_birth',\n",
    " 'month_of_birth',\n",
    " 'gender',\n",
    " 'religion',\n",
    " 'race',\n",
    " 'patient_ethnic_group',\n",
    " 'deceased_indicator',\n",
    " 'mother_account_number',\n",
    " 'address_zip',\n",
    " 'marital_status_code',\n",
    " 'Procedure__IBEX__(RESP)',\n",
    " 'Procedure__IBEX__(T-O)',\n",
    " 'Procedure__IBEX__(T-T)',\n",
    " 'Procedure__IBEX__DBP',\n",
    " 'Procedure__IBEX__PULSE',\n",
    " 'Procedure__IBEX__PULSE OXIMETRY',\n",
    " 'Procedure__IBEX__SBP',\n",
    " 'Procedure__IBEX__WEIGHT',\n",
    " 'Procedure__SYSTEM__MSDW_NOT APPLICABLE',\n",
    " 'Procedure__SYSTEM__MSDW_UNKNOWN',\n",
    " 'Procedure__TDS__(RESP)',\n",
    " 'Procedure__TDS__(T-O)',\n",
    " 'Procedure__TDS__(T-T)',\n",
    " 'Procedure__TDS__DBP',\n",
    " 'Procedure__TDS__HEIGHT',\n",
    " 'Procedure__TDS__SBP',\n",
    " 'Procedure__TDS__WEIGHT']"
   ]
  },
  {
   "cell_type": "code",
   "execution_count": null,
   "metadata": {},
   "outputs": [],
   "source": [
    "proc_df=proc_df.drop(further_col_drop,axis=1)"
   ]
  },
  {
   "cell_type": "code",
   "execution_count": null,
   "metadata": {
    "scrolled": true
   },
   "outputs": [],
   "source": [
    "proc_df"
   ]
  },
  {
   "cell_type": "code",
   "execution_count": null,
   "metadata": {},
   "outputs": [],
   "source": [
    "#4__93000: Electrocardiogram, routine ecg with at least 12 leads; with interpretation and report (time series) \n",
    "#Procedure__EPIC__7509: Electrocardiogram, complete (time series) \n",
    "#Procedure__MUSE ID__93000 :Electrocardiogram, complete (time series) | MUSE ID"
   ]
  },
  {
   "cell_type": "code",
   "execution_count": null,
   "metadata": {},
   "outputs": [],
   "source": [
    "proc_df.to_parquet('Cohort/Feature_Extraction/Unsupervised_ALL_HF/Procedure_after_onset_HF_ALL_mmm_0_8_cleaned')"
   ]
  },
  {
   "cell_type": "markdown",
   "metadata": {},
   "source": [
    "# Diagnosis"
   ]
  },
  {
   "cell_type": "code",
   "execution_count": null,
   "metadata": {},
   "outputs": [],
   "source": [
    "diag_df=pq.read_table('Cohort/Feature_Extraction/Unsupervised_ALL_HF/Diagnosis_after_onset_HF_ALL_mmm_0_2').to_pandas()"
   ]
  },
  {
   "cell_type": "code",
   "execution_count": null,
   "metadata": {},
   "outputs": [],
   "source": [
    "diag_df"
   ]
  },
  {
   "cell_type": "code",
   "execution_count": null,
   "metadata": {},
   "outputs": [],
   "source": [
    "for c in diag_df.columns: \n",
    "    print(c)"
   ]
  },
  {
   "cell_type": "code",
   "execution_count": null,
   "metadata": {},
   "outputs": [],
   "source": [
    "further_col_drop=[\n",
    "'Diagnosis__EPIC__COORDINATION OF CARE',\n",
    "'Diagnosis__EPIC__ERRONEOUS ENCOUNTER-DISREGARD',\n",
    "'Diagnosis__EPIC__ESTABLISHED PATIENT',\n",
    "'Diagnosis__EPIC__FOLLOW UP',\n",
    "'Diagnosis__EPIC__FOLLOW-UP',\n",
    "'Diagnosis__EPIC__MEDICATION REFILL',\n",
    "'Diagnosis__EPIC__NEW PATIENT',\n",
    "'Diagnosis__EPIC__PROCEDURE ONLY',\n",
    "'Diagnosis__EPIC__REFILL REQUEST',\n",
    "'Diagnosis__EPIC__SHORTNESS OF BREATH',\n",
    "'Diagnosis__EPIC__SPEAK WITH PROVIDER',\n",
    "'Diagnosis__EPIC__TEST RESULTS',\n",
    "'Diagnosis__SYSTEM__MSDW_NOT APPLICABLE',\n",
    "'Diagnosis__SYSTEM__MSDW_UNKNOWN']"
   ]
  },
  {
   "cell_type": "code",
   "execution_count": null,
   "metadata": {},
   "outputs": [],
   "source": [
    "further_col_drop"
   ]
  },
  {
   "cell_type": "code",
   "execution_count": null,
   "metadata": {},
   "outputs": [],
   "source": [
    "diag_df=diag_df.drop(further_col_drop,axis=1)"
   ]
  },
  {
   "cell_type": "code",
   "execution_count": null,
   "metadata": {},
   "outputs": [],
   "source": [
    "diag_df"
   ]
  },
  {
   "cell_type": "code",
   "execution_count": null,
   "metadata": {},
   "outputs": [],
   "source": [
    "diag_df.to_parquet('Cohort/Feature_Extraction/Unsupervised_ALL_HF/Diagnosis_after_onset_HF_ALL_mmm_0_2_cleaned')"
   ]
  },
  {
   "cell_type": "code",
   "execution_count": null,
   "metadata": {},
   "outputs": [],
   "source": [
    "diag_df=pq.read_table('Cohort/Feature_Extraction/Unsupervised_ALL_HF/Diagnosis_after_onset_HF_ALL_mmm_0_4_cleaned').to_pandas()\n",
    "diag_df"
   ]
  },
  {
   "cell_type": "markdown",
   "metadata": {},
   "source": [
    "# Drug"
   ]
  },
  {
   "cell_type": "code",
   "execution_count": null,
   "metadata": {},
   "outputs": [],
   "source": [
    "drug_df=pq.read_table('Cohort/Feature_Extraction/Unsupervised_ALL_HF/Drug_after_onset_HF_ALL_mmm_0_2').to_pandas()"
   ]
  },
  {
   "cell_type": "code",
   "execution_count": null,
   "metadata": {},
   "outputs": [],
   "source": [
    "drug_df"
   ]
  },
  {
   "cell_type": "code",
   "execution_count": null,
   "metadata": {},
   "outputs": [],
   "source": [
    "for c in drug_df.columns: \n",
    "    print(c)"
   ]
  },
  {
   "cell_type": "code",
   "execution_count": null,
   "metadata": {},
   "outputs": [],
   "source": []
  }
 ],
 "metadata": {
  "kernelspec": {
   "display_name": "Python 3",
   "language": "python",
   "name": "python3"
  },
  "language_info": {
   "codemirror_mode": {
    "name": "ipython",
    "version": 3
   },
   "file_extension": ".py",
   "mimetype": "text/x-python",
   "name": "python",
   "nbconvert_exporter": "python",
   "pygments_lexer": "ipython3",
   "version": "3.7.4"
  }
 },
 "nbformat": 4,
 "nbformat_minor": 2
}
