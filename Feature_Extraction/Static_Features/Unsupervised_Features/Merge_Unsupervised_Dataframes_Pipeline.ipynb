{
 "cells": [
  {
   "cell_type": "markdown",
   "metadata": {},
   "source": [
    "# Merge and Data Preperation\n",
    "This Notebook is Merging the different Dimensions and applies data preparation Methods. \n",
    "\n",
    "The User can choose between replacing all NaN Values with Zeros or doing simple Imputation \n",
    "    "
   ]
  },
  {
   "cell_type": "code",
   "execution_count": null,
   "metadata": {},
   "outputs": [],
   "source": [
    "##### REQUIRES THE DATAFRAME FOLDER TO BE NAMED 'Cohorts', WHICH INCLUDES ALL PRECOMPUTED DATAFRAMES #####\n",
    "import fiber\n",
    "from fiber.cohort import Cohort\n",
    "from fiber.condition import Patient, MRNs\n",
    "from fiber.condition import Diagnosis\n",
    "from fiber.condition import Measurement, Encounter, Drug, TobaccoUse,LabValue\n",
    "from fiber.storage import yaml as fiberyaml\n",
    "import pandas as pd\n",
    "import pyarrow.parquet as pq\n",
    "import numpy as np\n",
    "import os\n",
    "import matplotlib.pyplot as plt\n",
    "from functools import reduce\n",
    "import json\n",
    "from sklearn.compose import ColumnTransformer\n",
    "from sklearn.preprocessing import StandardScaler\n",
    "from sklearn.impute import SimpleImputer\n",
    "import category_encoders as ce\n"
   ]
  },
  {
   "cell_type": "code",
   "execution_count": null,
   "metadata": {},
   "outputs": [],
   "source": [
    "#load data with baseline characteristics\n",
    "Case_EF_ICD = pq.read_table('Cohort/Phenotyping/ALL_Matches_1yr_HF_EF_ICD_Notes_Cohort.parquet').to_pandas()\n",
    "Case_EF_ICD=Case_EF_ICD.set_index('MRN', inplace=False)\n",
    "Case_ICD = pq.read_table('Cohort/Phenotyping/ALL_Matches_1yr_HF_ICD_Notes_Cohort.parquet').to_pandas()\n",
    "Case_ICD=Case_ICD.set_index('MRN', inplace=False)\n",
    "Case_all= pd.concat([Case_EF_ICD, Case_ICD], ignore_index=False, sort =False)\n",
    "Case_all.index = Case_all.index.map(str)\n",
    "#load all dataframes that should be merged to the cohort and add them to the array: \n",
    "df_forMerge=[]\n",
    "\n",
    "r=((pq.read_table('Cohort/Feature_Extraction/Unsupervised_ALL_HF/Drug_after_onset_HF_ALL_mmm_0_4').to_pandas()),'')\n",
    "df_forMerge.append(r)\n",
    "r=((pq.read_table('Cohort/Feature_Extraction/Unsupervised_ALL_HF/Diagnosis_after_onset_HF_ALL_mmm_0_4_cleaned').to_pandas()),'')\n",
    "df_forMerge.append(r)\n",
    "#r=((pq.read_table('Cohort/Feature_Extraction/Unsupervised_ALL_HF/Procedure_after_onset_HF_ALL_mmm_0_8_cleaned').to_pandas()),'')\n",
    "#df_forMerge.append(r)\n",
    "\n",
    "\n",
    "r=((pq.read_table('Cohort/Feature_Extraction/Unsupervised_ALL_HF/VitalSign_after_onset_HF_ALL_mmm_0_6_cleaned').to_pandas()),'Imputation')\n",
    "df_forMerge.append(r)\n",
    "r=((pq.read_table('Cohort/Feature_Extraction/Unsupervised_ALL_HF/LabValue_after_onset_HF_ALL_mmm_0_8_cleaned').to_pandas()),'Imputation')\n",
    "df_forMerge.append(r)\n"
   ]
  },
  {
   "cell_type": "code",
   "execution_count": null,
   "metadata": {},
   "outputs": [],
   "source": [
    "test=pq.read_table('Cohort/Feature_Extraction/Unsupervised_ALL_HF/Diagnosis_after_onset_HF_ALL_mmm_0_2').to_pandas()\n",
    "test"
   ]
  },
  {
   "cell_type": "code",
   "execution_count": null,
   "metadata": {},
   "outputs": [],
   "source": [
    "for x in range(len(df_forMerge)):\n",
    "    t=df_forMerge[x][0]\n",
    "    print(t)\n",
    "    #t.shape()"
   ]
  },
  {
   "cell_type": "code",
   "execution_count": null,
   "metadata": {},
   "outputs": [],
   "source": [
    "col_for_dropping=['age_in_days',\n",
    "'date_of_birth',\n",
    "'month_of_birth',\n",
    "'gender',\n",
    "'religion',\n",
    "'race',\n",
    "'patient_ethnic_group',\n",
    "'deceased_indicator',\n",
    "'mother_account_number',\n",
    "'address_zip',\n",
    "'marital_status_code']"
   ]
  },
  {
   "cell_type": "code",
   "execution_count": null,
   "metadata": {},
   "outputs": [],
   "source": [
    "col_patient_information=['age_in_days',\n",
    "'date_of_birth',\n",
    "'month_of_birth',\n",
    "'gender',\n",
    "'religion',\n",
    "'race',\n",
    "'patient_ethnic_group',\n",
    "'deceased_indicator',\n",
    "'mother_account_number',\n",
    "'address_zip',\n",
    "'marital_status_code','medical_record_number']"
   ]
  },
  {
   "cell_type": "code",
   "execution_count": null,
   "metadata": {},
   "outputs": [],
   "source": [
    "def dataCuration(df,method): \n",
    "    if method=='NaNToZero':\n",
    "        #fill the nans with 0\n",
    "        df=df.fillna(0)\n",
    "        \n",
    "    if method=='Imputation':\n",
    "        #drop mrns  which will be later added again\n",
    "        mrn=pd.DataFrame()\n",
    "        mrn['medical_record_number']=df['medical_record_number']\n",
    "        df=df.drop('medical_record_number',axis=1)\n",
    "        \n",
    "        #apply StandardScaler\n",
    "        numerical_cols = [c for c in df.columns if df[c].dtype in [np.float, np.int] ]\n",
    "        ctransformer = ColumnTransformer([\n",
    "            ('num', SimpleImputer(), numerical_cols)])\n",
    "            #('num', SimpleImputer(), df.columns)])\n",
    "        transformed_df =ctransformer.fit_transform(df)\n",
    "        #print(numerical_cols)\n",
    "        #print(transformed_df.shape)\n",
    "        df=pd.DataFrame(transformed_df[0:,0:],columns=df.columns)\n",
    "        #print(len(mrn))\n",
    "        #print(len(df))\n",
    "        df['medical_record_number']=mrn['medical_record_number']   \n",
    "    else: \n",
    "        df=df\n",
    "        \n",
    "    return df "
   ]
  },
  {
   "cell_type": "code",
   "execution_count": null,
   "metadata": {},
   "outputs": [],
   "source": [
    "def merge_dataframes(df_master, df_list, col_for_dropping,col_patient_information, final_name):\n",
    "    df_patient_information=df_list[0][0]\n",
    "    df_patient_information=df_patient_information[col_patient_information]\n",
    "    df_master=df_master.merge(df_patient_information, left_on='MRN',right_on='medical_record_number',how='inner')\n",
    "    df_master=df_master.set_index('medical_record_number', inplace=False)\n",
    "    for x in range(len(df_list)):\n",
    "        print(x)\n",
    "        try:\n",
    "            df_merge=df_list[x][0].drop(col_for_dropping,axis=1)\n",
    "        except: \n",
    "            df_merge=df_list[x][0]\n",
    "        df_merge=dataCuration(df_merge,df_list[x][1])\n",
    "        df_master = df_master.merge(df_merge, right_on=\"medical_record_number\", left_index=True, how=\"inner\")\n",
    "        df_master=df_master.set_index('medical_record_number', inplace=False)\n",
    "    df_master=df_master.drop(['Note_ID','age_in_days_icd','age_in_days_x','HF_Onset_Type','age_in_days_y','date_of_birth','month_of_birth','Term'],axis=1)   \n",
    "    #saving the dataframe and a sample: \n",
    "    df_master.to_parquet('Cohort/Feature_Extraction/'+final_name+'.parquet')\n",
    "    sample=df_master.head(1000)\n",
    "    sample.to_parquet('Cohort/Feature_Extraction/Sample_'+final_name+'.parquet')\n",
    "    return(df_master)\n",
    "        \n"
   ]
  },
  {
   "cell_type": "code",
   "execution_count": null,
   "metadata": {},
   "outputs": [],
   "source": [
    "df=merge_dataframes(Case_all, df_forMerge, col_for_dropping,col_patient_information, 'ALL_HF_cohort_unsupervised_only_after_onset_HF_ALL_all_any_all_mean_medium_cleaned2')"
   ]
  },
  {
   "cell_type": "code",
   "execution_count": null,
   "metadata": {},
   "outputs": [],
   "source": [
    "#Merge with supervised features : \n",
    "df_unsupervised=pq.read_table('Cohort/Feature_Extraction/ALL_HF_cohort_unsupervised_only_after_onset_HF_ALL_all_any_all_mean_medium_cleaned.parquet').to_pandas()\n",
    "df_unsupervised\n",
    "df_supervised_merge= pq.read_table('Cohort/Feature_Extraction/Supervised_True_false.parquet').to_pandas()\n",
    "\n",
    "df_unsupervised.index = df_unsupervised.index.map(str)\n",
    "df_supervised_merge.index = df_supervised_merge.index.map(str)\n",
    "df_unsupervised=pd.merge(df_unsupervised, df_supervised_merge, left_on='medical_record_number', right_on='medical_record_number')\n",
    "df_unsupervised"
   ]
  },
  {
   "cell_type": "code",
   "execution_count": null,
   "metadata": {},
   "outputs": [],
   "source": [
    "df_unsupervised.to_parquet('Cohort/Feature_Extraction/ALL_HF_cohort_unsupervised_only_after_onset_HF_ALL_all_any_all_mean_medium_cleaned_wSupervised.parquet')"
   ]
  },
  {
   "cell_type": "code",
   "execution_count": null,
   "metadata": {
    "scrolled": true
   },
   "outputs": [],
   "source": [
    "df"
   ]
  },
  {
   "cell_type": "code",
   "execution_count": null,
   "metadata": {},
   "outputs": [],
   "source": [
    "#load vital signs\n",
    "df_vital_sign = pq.read_table('Cohort/Feature_Extraction/Unsupervised_ALL_HF/HF_ALL_Vital_Sign_Mean').to_pandas()\n",
    "df_vital_sign"
   ]
  },
  {
   "cell_type": "code",
   "execution_count": null,
   "metadata": {},
   "outputs": [],
   "source": [
    "df_forMerge[4]"
   ]
  },
  {
   "cell_type": "code",
   "execution_count": null,
   "metadata": {},
   "outputs": [],
   "source": [
    "r=((pq.read_table('Cohort/Feature_Extraction/Unsupervised_ALL_HF/LabValue_after_onset_HF_ALL_mmm_0_6').to_pandas()))\n",
    "print(r.shape)\n",
    "r=(pq.read_table('Cohort/Feature_Extraction/Unsupervised_ALL_HF/VitalSign_after_onset_HF_ALL_mmm_0_6').to_pandas())\n",
    "print(r.shape)\n",
    "r=((pq.read_table('Cohort/Feature_Extraction/Unsupervised_ALL_HF/Diagnosis_after_onset_HF_ALL_mmm_0_4').to_pandas()))\n",
    "print(r.shape)\n",
    "r=((pq.read_table('Cohort/Feature_Extraction/Unsupervised_ALL_HF/Procedures_after_onset_HF_ALL_mmm_0_4').to_pandas()))\n",
    "print(r.shape)\n",
    "r=((pq.read_table('Cohort/Feature_Extraction/Unsupervised_ALL_HF/Drug_after_onset_HF_ALL_mmm_0_4').to_pandas()))\n",
    "print(r.shape)"
   ]
  },
  {
   "cell_type": "markdown",
   "metadata": {},
   "source": [
    "# Remove MRN which do not have any Lab Values "
   ]
  },
  {
   "cell_type": "code",
   "execution_count": null,
   "metadata": {},
   "outputs": [],
   "source": [
    "#load small \n",
    "small=pq.read_table('Cohort/Feature_Extraction/ALL_HF_cohort_unsupervised_only_after_onset_HF_ALL_all_any_all_mean_small_cleaned.parquet').to_pandas()\n",
    "\n",
    "#load medium dataset\n",
    "medium=pq.read_table('Cohort/Feature_Extraction/ALL_HF_cohort_unsupervised_only_after_onset_HF_ALL_all_any_all_mean_medium_cleaned.parquet').to_pandas()\n",
    "\n",
    "#mrn without labvalues: \n",
    "mrn_without_lab=pq.read_table('Cohort/Feature_Extraction/Unsupervised_ALL_HF/LabValue_after_onset_HF_ALL_mmm_0_8_missing_values').to_pandas()"
   ]
  },
  {
   "cell_type": "code",
   "execution_count": null,
   "metadata": {},
   "outputs": [],
   "source": [
    "mrn_list=mrn_without_lab['medical_record_number'].to_list()\n",
    "len(mrn_list)"
   ]
  },
  {
   "cell_type": "code",
   "execution_count": null,
   "metadata": {},
   "outputs": [],
   "source": [
    "small_wLab=small.drop(mrn_list, inplace=False)\n",
    "small_wLab\n",
    "small_wLab.to_parquet('Cohort/Feature_Extraction/ALL_HF_cohort_unsupervised_only_after_onset_HF_ALL_all_any_all_mean_small_cleaned_wLab.parquet')"
   ]
  },
  {
   "cell_type": "code",
   "execution_count": null,
   "metadata": {},
   "outputs": [],
   "source": [
    "medium_wLab=medium.drop(mrn_list, inplace=False)\n",
    "medium_wLab\n",
    "medium_wLab.to_parquet('Cohort/Feature_Extraction/ALL_HF_cohort_unsupervised_only_after_onset_HF_ALL_all_any_all_mean_medium_cleaned_wLab.parquet')"
   ]
  },
  {
   "cell_type": "code",
   "execution_count": null,
   "metadata": {},
   "outputs": [],
   "source": []
  },
  {
   "cell_type": "code",
   "execution_count": null,
   "metadata": {},
   "outputs": [],
   "source": []
  }
 ],
 "metadata": {
  "kernelspec": {
   "display_name": "Python 3",
   "language": "python",
   "name": "python3"
  },
  "language_info": {
   "codemirror_mode": {
    "name": "ipython",
    "version": 3
   },
   "file_extension": ".py",
   "mimetype": "text/x-python",
   "name": "python",
   "nbconvert_exporter": "python",
   "pygments_lexer": "ipython3",
   "version": "3.7.4"
  }
 },
 "nbformat": 4,
 "nbformat_minor": 2
}
