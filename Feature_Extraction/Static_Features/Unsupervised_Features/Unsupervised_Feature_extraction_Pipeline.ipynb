{
 "cells": [
  {
   "cell_type": "markdown",
   "metadata": {},
   "source": [
    "# Unsupervised Features extraction Pipeline \n",
    "This Notebook is extraction features for a specific cohort for different dimensions like Diagnosis or Medications.\n",
    "The User can adapt the: \n",
    "- Threshold(How many Patients should have this condition)\n",
    "- window(the timeframe that should be considered)\n",
    "- aggfunc (any --> yes or no ; count --> occurence of the concept; numericvalue getting min median and max )"
   ]
  },
  {
   "cell_type": "code",
   "execution_count": null,
   "metadata": {},
   "outputs": [],
   "source": [
    "import fiber\n",
    "from fiber.cohort import Cohort\n",
    "from fiber.condition import Patient, MRNs\n",
    "from fiber.condition import Diagnosis\n",
    "from fiber.condition import Measurement, Encounter, Drug, TobaccoUse, VitalSign, LabValue, Procedure\n",
    "from fiber.storage import yaml as fiberyaml\n",
    "import pandas as pd\n",
    "import pyarrow.parquet as pq\n",
    "import numpy as np\n",
    "import os\n",
    "from functools import reduce \n",
    "from fiber.utils import Timer\n",
    "import math"
   ]
  },
  {
   "cell_type": "code",
   "execution_count": null,
   "metadata": {},
   "outputs": [],
   "source": [
    "# Unsupervised Feature extraction - PIVOT config#"
   ]
  },
  {
   "cell_type": "code",
   "execution_count": null,
   "metadata": {},
   "outputs": [],
   "source": [
    "# CONFIG Diagnosis\n",
    "DEFAULT_PIVOT_CONFIG = { Diagnosis(): {\n",
    "'window':(-730, +math.inf), 'pivot_table_kwargs': {\n",
    "'columns': ['description'],\n",
    "'aggfunc': {'description': 'any'} }, 'threshold': 0.9\n",
    "    }\n",
    "} "
   ]
  },
  {
   "cell_type": "code",
   "execution_count": null,
   "metadata": {},
   "outputs": [],
   "source": [
    "DEFAULT_PIVOT_CONFIG = { Procedure(): {\n",
    "'window':(-730, +math.inf), 'pivot_table_kwargs': {\n",
    "'columns': ['description'],\n",
    "'aggfunc': {'description' : 'any'} }, 'threshold': 0.6\n",
    "    }\n",
    "}"
   ]
  },
  {
   "cell_type": "code",
   "execution_count": null,
   "metadata": {},
   "outputs": [],
   "source": [
    "# CONFIG Drugs\n",
    "DEFAULT_PIVOT_CONFIG = { Drug(): {\n",
    "'window':(-730, +math.inf),'pivot_table_kwargs': {\n",
    "'columns': ['description'],\n",
    "'aggfunc': {'description': 'any' }}, 'threshold': 0.2\n",
    "    }\n",
    "} "
   ]
  },
  {
   "cell_type": "code",
   "execution_count": null,
   "metadata": {},
   "outputs": [],
   "source": [
    "# CONFIG VitalSigns\n",
    "DEFAULT_PIVOT_CONFIG = { VitalSign(): {\n",
    "'window':(-730, +math.inf),'pivot_table_kwargs': {\n",
    "'columns': ['description'],\n",
    "'aggfunc': {'numeric_value': ['min', 'median', 'max']}},'threshold': 0.8\n",
    "    }\n",
    "} "
   ]
  },
  {
   "cell_type": "code",
   "execution_count": null,
   "metadata": {},
   "outputs": [],
   "source": [
    "# CONFIG LabValue\n",
    "DEFAULT_PIVOT_CONFIG = { LabValue(): {\n",
    "'window':(-730, +math.inf), 'pivot_table_kwargs': {\n",
    "'columns': ['description'],\n",
    "'aggfunc': {'numeric_value': ['min', 'median', 'max']} }, 'threshold': 0.8\n",
    "    }\n",
    "} "
   ]
  },
  {
   "cell_type": "code",
   "execution_count": null,
   "metadata": {},
   "outputs": [],
   "source": [
    "# Reading cohort as dataframe\n",
    "Case_EF_ICD = pq.read_table('Cohort/Phenotyping/ALL_Matches_1yr_HF_EF_ICD_Notes_Cohort.parquet').to_pandas()\n",
    "Case_EF_ICD=Case_EF_ICD.set_index('MRN', inplace=False)\n",
    "Case_ICD = pq.read_table('Cohort/Phenotyping/ALL_Matches_1yr_HF_ICD_Notes_Cohort.parquet').to_pandas()\n",
    "Case_ICD=Case_ICD.set_index('MRN', inplace=False)"
   ]
  },
  {
   "cell_type": "code",
   "execution_count": null,
   "metadata": {},
   "outputs": [],
   "source": [
    "Case_all= pd.concat([Case_EF_ICD, Case_ICD], ignore_index=False, sort =False)"
   ]
  },
  {
   "cell_type": "code",
   "execution_count": null,
   "metadata": {
    "scrolled": true
   },
   "outputs": [],
   "source": [
    "Case_all"
   ]
  },
  {
   "cell_type": "code",
   "execution_count": null,
   "metadata": {},
   "outputs": [],
   "source": [
    "# Saving HF_Onset as age_in_days for PIVOT config necessary\n",
    "Case = Case_all[\"HF_Onset_age_in_days\"]\n",
    "Case = Case.to_frame()\n",
    "Case.reset_index(level=0, inplace=True)\n",
    "Case.rename(columns = {\"HF_Onset_age_in_days\": \"age_in_days\"}, inplace = True)\n",
    "Case.rename(columns = {\"MRN\": \"medical_record_number\"}, inplace = True)"
   ]
  },
  {
   "cell_type": "code",
   "execution_count": null,
   "metadata": {
    "scrolled": true
   },
   "outputs": [],
   "source": [
    "#case = Case.sample(50) #to try with small sample\n",
    "Case"
   ]
  },
  {
   "cell_type": "code",
   "execution_count": null,
   "metadata": {},
   "outputs": [],
   "source": []
  },
  {
   "cell_type": "code",
   "execution_count": null,
   "metadata": {
    "scrolled": false
   },
   "outputs": [],
   "source": [
    "# running through entire cohort in batches and saving each batch as parquet\n",
    "#5000 ?\n",
    "#for limit in range (0, len(Case), 5000):\n",
    "print(\"Begin of iteration: \" )\n",
    "\n",
    "#    temp = Case[limit:(limit+5000)]\n",
    "p_condition = MRNs(Case) #how to create cohort from dataframe\n",
    "cohort = Cohort(p_condition)\n",
    "result = cohort.get_pivoted_features(pivot_config=DEFAULT_PIVOT_CONFIG)\n",
    "#result.to_parquet('Cohort/Feature_Extraction/Unsupervised_ALL_HF/VitalSign_after_onset_HF_ALL_mmm_0_6' + str(limit))\n",
    "#result.to_parquet('Cohort/Feature_Extraction/Unsupervised_ALL_HF/Procedure_after_onset_HF_ALL_mmm_0_6')"
   ]
  },
  {
   "cell_type": "code",
   "execution_count": null,
   "metadata": {},
   "outputs": [],
   "source": [
    "#checkig output of pipeline \n",
    "test= pq.read_table('Cohort/Feature_Extraction/Unsupervised_ALL_HF/Procedure_after_onset_HF_ALL_mmm_0_6').to_pandas()"
   ]
  },
  {
   "cell_type": "code",
   "execution_count": null,
   "metadata": {},
   "outputs": [],
   "source": [
    "for n in test.columns: \n",
    "    print(n)"
   ]
  },
  {
   "cell_type": "code",
   "execution_count": null,
   "metadata": {
    "scrolled": true
   },
   "outputs": [],
   "source": [
    "#default 12 col\n",
    "#Drugs:67\n",
    "#vital:60\n",
    "#Diagnosis: 74\n",
    "#Procedures: 391\n",
    "#LabValues 621\n",
    "result"
   ]
  },
  {
   "cell_type": "code",
   "execution_count": null,
   "metadata": {},
   "outputs": [],
   "source": []
  }
 ],
 "metadata": {
  "kernelspec": {
   "display_name": "Python 3",
   "language": "python",
   "name": "python3"
  },
  "language_info": {
   "codemirror_mode": {
    "name": "ipython",
    "version": 3
   },
   "file_extension": ".py",
   "mimetype": "text/x-python",
   "name": "python",
   "nbconvert_exporter": "python",
   "pygments_lexer": "ipython3",
   "version": "3.7.4"
  }
 },
 "nbformat": 4,
 "nbformat_minor": 2
}
