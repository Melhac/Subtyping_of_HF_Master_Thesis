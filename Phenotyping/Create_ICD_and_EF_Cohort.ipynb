{
 "cells": [
  {
   "cell_type": "code",
   "execution_count": null,
   "metadata": {},
   "outputs": [],
   "source": [
    "##### REQUIRES THE DATAFRAME FOLDER TO BE NAMED 'Cohorts', WHICH INCLUDES ALL PRECOMPUTED DATAFRAMES #####\n",
    "import fiber\n",
    "from fiber.cohort import Cohort\n",
    "from fiber.condition import Patient, MRNs\n",
    "from fiber.condition import Diagnosis\n",
    "from fiber.condition import Measurement, Encounter, Drug, LabValue, Procedure, VitalSign \n",
    "from fiber.storage import yaml as fiberyaml\n",
    "import pandas as pd\n",
    "import pyarrow.parquet as pq\n",
    "import numpy as np\n",
    "import os\n",
    "from functools import reduce "
   ]
  },
  {
   "cell_type": "markdown",
   "metadata": {},
   "source": [
    "# Define ICD Codes for Heart Failure\n",
    "We are currently using the suggesteg ICD Codes by the phenotyping algorithm from PheKB"
   ]
  },
  {
   "cell_type": "code",
   "execution_count": null,
   "metadata": {},
   "outputs": [],
   "source": [
    "conditions =  (Diagnosis(\"I50%\", \"ICD-10\")|\n",
    "              Diagnosis (\"428%\",\"ICD-9\"))"
   ]
  },
  {
   "cell_type": "markdown",
   "metadata": {},
   "source": [
    "# Get ICD HF Cohort"
   ]
  },
  {
   "cell_type": "code",
   "execution_count": null,
   "metadata": {},
   "outputs": [],
   "source": [
    "HF_cohort=Cohort(conditions)"
   ]
  },
  {
   "cell_type": "code",
   "execution_count": null,
   "metadata": {
    "scrolled": true
   },
   "outputs": [],
   "source": [
    "HF_cohort=HF_cohort.get(conditions)"
   ]
  },
  {
   "cell_type": "code",
   "execution_count": null,
   "metadata": {
    "scrolled": true
   },
   "outputs": [],
   "source": [
    "#sort entries by MRN and age in days to get the first diagnosis per patient\n",
    "HF_cohort= HF_cohort.sort_values(['medical_record_number','age_in_days'], ascending=[True,True])\n",
    "HF_cohort"
   ]
  },
  {
   "cell_type": "code",
   "execution_count": null,
   "metadata": {},
   "outputs": [],
   "source": [
    "#Save Cohort with all encounters, that inlcude the defind ICD Codes\n",
    "HF_cohort.to_parquet('ALL_HF_ICD_Cohort.parquet')"
   ]
  },
  {
   "cell_type": "code",
   "execution_count": null,
   "metadata": {},
   "outputs": [],
   "source": [
    "#get unique MRN \n",
    "HF_cohort=HF_cohort.loc[~HF_cohort[\"medical_record_number\"].duplicated(keep='first')]\n"
   ]
  },
  {
   "cell_type": "code",
   "execution_count": null,
   "metadata": {
    "scrolled": true
   },
   "outputs": [],
   "source": [
    "HF_cohort"
   ]
  },
  {
   "cell_type": "code",
   "execution_count": null,
   "metadata": {},
   "outputs": [],
   "source": [
    "HF_cohort_index=HF_cohort.set_index('medical_record_number', inplace=False)"
   ]
  },
  {
   "cell_type": "code",
   "execution_count": null,
   "metadata": {
    "scrolled": true
   },
   "outputs": [],
   "source": [
    "HF_cohort_index"
   ]
  },
  {
   "cell_type": "code",
   "execution_count": null,
   "metadata": {},
   "outputs": [],
   "source": [
    "#Save Cohort as Parquet\n",
    "HF_cohort_index.to_parquet('Unique_HF_ICD_Cohort.parquet')"
   ]
  },
  {
   "cell_type": "markdown",
   "metadata": {},
   "source": [
    "# Get Cohort which also contains EF Measurements\n"
   ]
  },
  {
   "cell_type": "code",
   "execution_count": null,
   "metadata": {},
   "outputs": [],
   "source": [
    "mrns = list(HF_cohort_index.index)\n",
    "condition = MRNs(mrns)\n",
    "cohort_unique_MRN=Cohort(condition)"
   ]
  },
  {
   "cell_type": "code",
   "execution_count": null,
   "metadata": {},
   "outputs": [],
   "source": [
    "#Define ejection fraction condition: \n",
    "condition=(LabValue('%ejection%'))\n",
    "cohort_EF=cohort_unique_MRN.get(condition)"
   ]
  },
  {
   "cell_type": "code",
   "execution_count": null,
   "metadata": {
    "scrolled": true
   },
   "outputs": [],
   "source": [
    "cohort_EF"
   ]
  },
  {
   "cell_type": "code",
   "execution_count": null,
   "metadata": {
    "scrolled": true
   },
   "outputs": [],
   "source": [
    "#sort entries by MRN and age in days to get the first diagnosis per patient\n",
    "cohort_EF= cohort_EF.sort_values(['medical_record_number','age_in_days'], ascending=[True,True])\n",
    "cohort_EF"
   ]
  },
  {
   "cell_type": "code",
   "execution_count": null,
   "metadata": {},
   "outputs": [],
   "source": [
    "#Save Cohort with all encounters, that inlcude a measurement of EF\n",
    "HF_cohort.to_parquet('ALL_HF_ICD_EF_Cohort.parquet')"
   ]
  },
  {
   "cell_type": "code",
   "execution_count": null,
   "metadata": {},
   "outputs": [],
   "source": [
    "#get unique MRN \n",
    "cohort_EF=cohort_EF.loc[~cohort_EF[\"medical_record_number\"].duplicated(keep='last')]"
   ]
  },
  {
   "cell_type": "code",
   "execution_count": null,
   "metadata": {},
   "outputs": [],
   "source": [
    "cohort_EF_index=cohort_EF.set_index('medical_record_number', inplace=False)"
   ]
  },
  {
   "cell_type": "code",
   "execution_count": null,
   "metadata": {
    "scrolled": true
   },
   "outputs": [],
   "source": [
    "cohort_EF_index"
   ]
  },
  {
   "cell_type": "code",
   "execution_count": null,
   "metadata": {},
   "outputs": [],
   "source": [
    "#Unique final EF Cohort: \n",
    "cohort_EF_index.to_parquet('Unique_HF_ICD_EF_Cohort.parquet')"
   ]
  },
  {
   "cell_type": "code",
   "execution_count": null,
   "metadata": {},
   "outputs": [],
   "source": [
    "#Merge Dataframes\n",
    "final_HF_ICD_Cohort=HF_cohort_index.merge(cohort_EF_index, left_on=\"medical_record_number\",right_index=True, how=\"inner\")"
   ]
  },
  {
   "cell_type": "code",
   "execution_count": null,
   "metadata": {},
   "outputs": [],
   "source": [
    "final_HF_ICD_Cohort"
   ]
  },
  {
   "cell_type": "code",
   "execution_count": null,
   "metadata": {},
   "outputs": [],
   "source": [
    "#save final ICD Cohort: \n",
    "final_HF_ICD_Cohort.to_parquet('Merged_HF_ICD_EF_Cohort.parquet')"
   ]
  }
 ],
 "metadata": {
  "kernelspec": {
   "display_name": "Python 3",
   "language": "python",
   "name": "python3"
  },
  "language_info": {
   "codemirror_mode": {
    "name": "ipython",
    "version": 3
   },
   "file_extension": ".py",
   "mimetype": "text/x-python",
   "name": "python",
   "nbconvert_exporter": "python",
   "pygments_lexer": "ipython3",
   "version": "3.7.4"
  }
 },
 "nbformat": 4,
 "nbformat_minor": 2
}
