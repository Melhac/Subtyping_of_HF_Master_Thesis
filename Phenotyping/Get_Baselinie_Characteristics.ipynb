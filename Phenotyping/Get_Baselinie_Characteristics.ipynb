{
 "cells": [
  {
   "cell_type": "markdown",
   "metadata": {},
   "source": [
    "# Get Baseline Characteristics\n",
    "This Notebook is extracting the baseline characteristics like age and gender for a specific group of MRNs."
   ]
  },
  {
   "cell_type": "code",
   "execution_count": null,
   "metadata": {},
   "outputs": [],
   "source": [
    "##### REQUIRES THE DATAFRAME FOLDER TO BE NAMED 'Cohorts', WHICH INCLUDES ALL PRECOMPUTED DATAFRAMES #####\n",
    "import fiber\n",
    "from fiber.cohort import Cohort\n",
    "from fiber.condition import Patient, MRNs\n",
    "from fiber.condition import Diagnosis\n",
    "from fiber.condition import Measurement, Encounter, Drug, TobaccoUse,LabValue\n",
    "from fiber.storage import yaml as fiberyaml\n",
    "import pandas as pd\n",
    "import pyarrow.parquet as pq\n",
    "import numpy as np\n",
    "import os\n",
    "import matplotlib.pyplot as plt\n",
    "from functools import reduce\n",
    "import json"
   ]
  },
  {
   "cell_type": "code",
   "execution_count": null,
   "metadata": {},
   "outputs": [],
   "source": [
    "#generic function get cohort \n",
    "def df_to_cohort(df):\n",
    "    mrns = list(df.index.values)\n",
    "    mrns = list(map(str, mrns))\n",
    "    condition = MRNs(mrns)\n",
    "    #print(mrns)\n",
    "    return Cohort(condition)"
   ]
  },
  {
   "cell_type": "markdown",
   "metadata": {},
   "source": [
    "# Baseline Characteristics for HF ICD &EF Cohort"
   ]
  },
  {
   "cell_type": "code",
   "execution_count": null,
   "metadata": {
    "scrolled": true
   },
   "outputs": [],
   "source": [
    "#load cohort and convert MRN to Index \n",
    "notes_ICD_EF_df=pq.read_table('ALL_Matches_1yr_HF_EF_ICD_Notes_Cohort.parquet').to_pandas()\n",
    "notes_ICD_EF_df_index=notes_ICD_EF_df.set_index('MRN', inplace=False)\n"
   ]
  },
  {
   "cell_type": "code",
   "execution_count": null,
   "metadata": {
    "scrolled": true
   },
   "outputs": [],
   "source": [
    "notes_ICD_EF_df"
   ]
  },
  {
   "cell_type": "code",
   "execution_count": null,
   "metadata": {
    "scrolled": true
   },
   "outputs": [],
   "source": [
    "# filter all patients over 90 out \n",
    "notes_ICD_EF_df_index=notes_ICD_EF_df_index.loc[notes_ICD_EF_df_index['HF_Onset_age_in_days']<32850]\n",
    "notes_ICD_EF_df_index"
   ]
  },
  {
   "cell_type": "code",
   "execution_count": null,
   "metadata": {},
   "outputs": [],
   "source": [
    "cohort_EF_Baseline = df_to_cohort(notes_ICD_EF_df_index)\n",
    "cohort_EF_Baseline"
   ]
  },
  {
   "cell_type": "code",
   "execution_count": null,
   "metadata": {},
   "outputs": [],
   "source": [
    "cohort_EF_Baseline=cohort_EF_Baseline.get(Patient())"
   ]
  },
  {
   "cell_type": "code",
   "execution_count": null,
   "metadata": {},
   "outputs": [],
   "source": [
    "cohort_EF_Baseline"
   ]
  },
  {
   "cell_type": "code",
   "execution_count": null,
   "metadata": {},
   "outputs": [],
   "source": [
    "notes_ICD_EF_df_index.index = notes_ICD_EF_df_index.index.map(str)"
   ]
  },
  {
   "cell_type": "code",
   "execution_count": null,
   "metadata": {},
   "outputs": [],
   "source": [
    "#cohort_EF_Baseline_index=cohort_EF_Baseline.set_index('medical_record_number', inplace=False)\n"
   ]
  },
  {
   "cell_type": "code",
   "execution_count": null,
   "metadata": {},
   "outputs": [],
   "source": [
    "notes_ICD_EF_df_index_baseline=notes_ICD_EF_df_index.merge(cohort_EF_Baseline, left_on='MRN',right_on='medical_record_number',how='inner')"
   ]
  },
  {
   "cell_type": "code",
   "execution_count": null,
   "metadata": {
    "scrolled": false
   },
   "outputs": [],
   "source": [
    "notes_ICD_EF_df_index_baseline"
   ]
  },
  {
   "cell_type": "code",
   "execution_count": null,
   "metadata": {},
   "outputs": [],
   "source": [
    "notes_ICD_EF_df_index_baseline.to_parquet('Baseline_Matches_1yr_HF_EF_ICD_Notes_Cohort.parquet')"
   ]
  },
  {
   "cell_type": "code",
   "execution_count": null,
   "metadata": {},
   "outputs": [],
   "source": [
    "notes_ICD_EF_df_index_baseline['race'].hist()"
   ]
  },
  {
   "cell_type": "code",
   "execution_count": null,
   "metadata": {},
   "outputs": [],
   "source": [
    "#function for statistics: \n",
    "def get_base_characteristic_value(df , characteristic , kind):    \n",
    "    if kind==\"mean\": \n",
    "        df_mean=df[characteristic].mean()\n",
    "        df_std= df[characteristic].std()\n",
    "        df_max= df[characteristic].max()\n",
    "        df_min= df[characteristic].min()\n",
    "        base_characteristics_cohort=pd.DataFrame({'Variable': [characteristic+\"_mean\", characteristic+\"_std\", characteristic+\"_max\", characteristic+\"_min\"],\n",
    "                                                  'Value': [df_mean, df_std, df_max, df_min],})\n",
    "       \n",
    "    if kind==\"count\":\n",
    "        base_characteristics_cohort=pd.DataFrame(columns=[\"Variable\",\"Value\"])\n",
    "        feature_value=df[characteristic].unique()\n",
    "        #print(feature_value)\n",
    "        for value in feature_value: \n",
    "            df_condition=df.loc[df[characteristic]==value]\n",
    "            df_percent= df_condition.shape[0]/df.shape[0]\n",
    "            #print(df_percent)\n",
    "            new_row1 = {'Variable': value+\"_total\",'Value': df_condition.shape[0]}\n",
    "            new_row2 = {'Variable': value+\"_relation\",'Value': df_percent}\n",
    "            base_characteristics_cohort=base_characteristics_cohort.append(new_row1, ignore_index=True)\n",
    "            base_characteristics_cohort=base_characteristics_cohort.append(new_row2, ignore_index=True)\n",
    "       # print(df_condition.shape[0], df_percent)\n",
    "    #print (base_characteristics_cohort)\n",
    "    return base_characteristics_cohort"
   ]
  },
  {
   "cell_type": "code",
   "execution_count": null,
   "metadata": {},
   "outputs": [],
   "source": [
    "def get_base_characteristics(df, characteristics): \n",
    "    base_characteristics_cohort=pd.DataFrame(columns=[\"Variable\",\"Value\"])\n",
    "    for characteristic in characteristics:\n",
    "        intermediate_base_characteristics_cohort=get_base_characteristic_value(df,characteristic[0],characteristic[1])\n",
    "        base_characteristics_cohort=pd.concat([base_characteristics_cohort,intermediate_base_characteristics_cohort])\n",
    "    print(base_characteristics_cohort)\n",
    "    return base_characteristics_cohort"
   ]
  },
  {
   "cell_type": "code",
   "execution_count": null,
   "metadata": {},
   "outputs": [],
   "source": [
    "base_characteristics=[\n",
    "    [ \"HF_Onset_age_in_days\",\"mean\"],\n",
    "    [\"gender\",\"count\"]\n",
    "]"
   ]
  },
  {
   "cell_type": "code",
   "execution_count": null,
   "metadata": {},
   "outputs": [],
   "source": [
    "ICD_EF_baseline=get_base_characteristics(notes_ICD_EF_df_index_baseline, base_characteristics)\n",
    "ICD_EF_baseline"
   ]
  },
  {
   "cell_type": "code",
   "execution_count": null,
   "metadata": {},
   "outputs": [],
   "source": [
    "a=pq.read_table('Cohort/Feature_Extraction/ALL_HF_cohort_unsupervised_only_after_onset_HF_ALL_all_any_all_mean_medium_cleaned.parquet').to_pandas()\n",
    "a.loc[(a['HF_Onset_age_in_days'] > 32850),'HF_Onset_age_in_days']=32850\n",
    "ICD_EF_baseline=get_base_characteristics(a, base_characteristics)\n",
    "ICD_EF_baseline"
   ]
  },
  {
   "cell_type": "code",
   "execution_count": null,
   "metadata": {},
   "outputs": [],
   "source": [
    "feature_value=notes_ICD_EF_df_index_baseline['gender'].unique()\n",
    "for value in feature_value: \n",
    "    print(notes_ICD_EF_df_index_baseline.loc[notes_ICD_EF_df_index_baseline['gender']==value].shape[0])"
   ]
  },
  {
   "cell_type": "markdown",
   "metadata": {},
   "source": [
    "#  Baseline Characteristics for HF ICD Cohort"
   ]
  },
  {
   "cell_type": "code",
   "execution_count": null,
   "metadata": {},
   "outputs": [],
   "source": [
    "#load cohort and convert MRN to Index \n",
    "notes_ICD_df=pq.read_table('ALL_Matches_1yr_HF_ICD_Notes_Cohort.parquet').to_pandas()\n",
    "notes_ICD_df_index=notes_ICD_df.set_index('MRN', inplace=False)\n"
   ]
  },
  {
   "cell_type": "code",
   "execution_count": null,
   "metadata": {
    "scrolled": true
   },
   "outputs": [],
   "source": [
    "notes_ICD_df_index"
   ]
  },
  {
   "cell_type": "code",
   "execution_count": null,
   "metadata": {
    "scrolled": true
   },
   "outputs": [],
   "source": [
    "# filter all patients over 90 out \n",
    "notes_ICD_df_index=notes_ICD_df_index.loc[notes_ICD_df_index['HF_Onset_age_in_days']<32850]\n",
    "#notes_ICD_df_index.loc[notes_ICD_df_index['HF_Onset_age_in_days']>32850]\n",
    "notes_ICD_df_index"
   ]
  },
  {
   "cell_type": "code",
   "execution_count": null,
   "metadata": {},
   "outputs": [],
   "source": [
    "cohort_ICD_Baseline = df_to_cohort(notes_ICD_df_index)\n",
    "cohort_ICD_Baseline"
   ]
  },
  {
   "cell_type": "code",
   "execution_count": null,
   "metadata": {},
   "outputs": [],
   "source": [
    "cohort_ICD_Baseline=cohort_ICD_Baseline.get(Patient())"
   ]
  },
  {
   "cell_type": "code",
   "execution_count": null,
   "metadata": {},
   "outputs": [],
   "source": [
    "cohort_ICD_Baseline"
   ]
  },
  {
   "cell_type": "code",
   "execution_count": null,
   "metadata": {},
   "outputs": [],
   "source": [
    "notes_ICD_df_index.index = notes_ICD_df_index.index.map(str)"
   ]
  },
  {
   "cell_type": "code",
   "execution_count": null,
   "metadata": {},
   "outputs": [],
   "source": [
    "notes_ICD_df_index_baseline=notes_ICD_df_index.merge(cohort_ICD_Baseline, left_on='MRN',right_on='medical_record_number',how='inner')"
   ]
  },
  {
   "cell_type": "code",
   "execution_count": null,
   "metadata": {},
   "outputs": [],
   "source": [
    "notes_ICD_df_index_baseline"
   ]
  },
  {
   "cell_type": "code",
   "execution_count": null,
   "metadata": {},
   "outputs": [],
   "source": [
    "notes_ICD_df_index_baseline.to_parquet('Baseline_Matches_1yr_HF_ICD_Notes_Cohort.parquet')"
   ]
  },
  {
   "cell_type": "code",
   "execution_count": null,
   "metadata": {},
   "outputs": [],
   "source": [
    "ICD_baseline=get_base_characteristics(notes_ICD_df_index_baseline, base_characteristics)"
   ]
  }
 ],
 "metadata": {
  "kernelspec": {
   "display_name": "Python 3",
   "language": "python",
   "name": "python3"
  },
  "language_info": {
   "codemirror_mode": {
    "name": "ipython",
    "version": 3
   },
   "file_extension": ".py",
   "mimetype": "text/x-python",
   "name": "python",
   "nbconvert_exporter": "python",
   "pygments_lexer": "ipython3",
   "version": "3.7.4"
  }
 },
 "nbformat": 4,
 "nbformat_minor": 2
}
