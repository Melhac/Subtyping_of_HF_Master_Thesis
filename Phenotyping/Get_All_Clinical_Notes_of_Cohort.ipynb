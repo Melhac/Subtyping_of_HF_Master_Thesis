{
 "cells": [
  {
   "cell_type": "markdown",
   "metadata": {},
   "source": [
    "# Get Clinical Notes of Cohort\n",
    "This Notebook is extracting the Clinical Notes for an specific set of MRN. This Clinical Notes will be used to complete the Phenotyping of the patient. "
   ]
  },
  {
   "cell_type": "code",
   "execution_count": null,
   "metadata": {},
   "outputs": [],
   "source": [
    "import re\n",
    "import os\n",
    "import re\n",
    "import json\n",
    "import spacy\n",
    "import numpy as np\n",
    "import pandas as pd\n",
    "import pyarrow.parquet as pq\n",
    "from tqdm import tqdm_notebook\n",
    "from hdbcli import dbapi\n",
    "import mysql.connector"
   ]
  },
  {
   "cell_type": "code",
   "execution_count": null,
   "metadata": {},
   "outputs": [],
   "source": [
    "#Connection to HANA\n",
    "conn_hana = dbapi.connect(\n",
    "    address='10.111.170.19',\n",
    "    port=39041,\n",
    "    user='', # put your username\n",
    "    password='' # put your password\n",
    ")\n",
    "\n",
    "cursor = conn_hana.cursor()"
   ]
  },
  {
   "cell_type": "code",
   "execution_count": null,
   "metadata": {},
   "outputs": [],
   "source": [
    "def read_json_as_dict(file):\n",
    "    with open(file, 'r') as f:\n",
    "        data = json.load(f)\n",
    "    return data\n",
    "# fetches all clinical notes from given patients MRNs.\n",
    "# it joins other tables to get more additional data of the clinical notes\n",
    "def get_patients_notes_hana(patatiens_mrns, con):\n",
    "    mrns_str = ', '.join(patatiens_mrns.map(str)) \n",
    "    notes_df = pd.read_sql('SELECT na.NOTE_ID, na.TERM_SEQUENCE, nt.MEDICAL_RECORD_NUMBER, nt.AGE_IN_DAYS, nt.NOTE_TYPE ' \n",
    "            'FROM MSDW_2018.NOTE_ANNOTATION AS na ' \n",
    "            'INNER JOIN MSDW_2018.NOTE_TYPE AS nt ON na.NOTE_ID = nt.NOTE_ID '\n",
    "            'WHERE nt.MEDICAL_RECORD_NUMBER IN ({})'.format(mrns_str), con=con)\n",
    "    #return decipher_notes(notes_df)\n",
    "    return notes_df\n",
    "\n",
    "# fetches all clinical notes from given patients MRNs.\n",
    "# it joins other tables to get more additional data of the clinical notes\n",
    "def get_patients_notes_sql(patatiens_mrns, con):\n",
    "    mrns_str = ', '.join(patatiens_mrns.apply(str)) \n",
    "    notes_df = pd.read_sql('SELECT na.NOTE_ID, na.TERM_SEQUENCE, nt.MEDICAL_RECORD_NUMBER, nt.AGE_IN_DAYS, nt.NOTE_TYPE ' \n",
    "            'FROM note_annotation AS na ' \n",
    "            'INNER JOIN note_type AS nt ON na.NOTE_ID = nt.NOTE_ID '\n",
    "            'WHERE nt.MEDICAL_RECORD_NUMBER IN ({})'.format(mrns_str), con=con)\n",
    "    #return decipher_notes(notes_df)\n",
    "    return notes_df"
   ]
  },
  {
   "cell_type": "code",
   "execution_count": null,
   "metadata": {},
   "outputs": [],
   "source": []
  },
  {
   "cell_type": "code",
   "execution_count": null,
   "metadata": {
    "scrolled": true
   },
   "outputs": [],
   "source": [
    "#Load Cohort\n",
    "HF_Cohort = pq.read_table('Unique_HF_ICD_Cohort.parquet').to_pandas()\n",
    "\n",
    "#HF_Cohort=HF_Cohort.head(100)\n",
    "#sort MRN descendind \n",
    "HF_Cohort=HF_Cohort.sort_values(by='medical_record_number', ascending=False)\n",
    "HF_Cohort"
   ]
  },
  {
   "cell_type": "code",
   "execution_count": null,
   "metadata": {},
   "outputs": [],
   "source": [
    "#get 10.000 and delete the subset of the whole frame\n",
    "HF_Cohort_10k=HF_Cohort.head(10000)\n",
    "HF_Cohort=HF_Cohort.drop(HF_Cohort_10k.index)"
   ]
  },
  {
   "cell_type": "code",
   "execution_count": null,
   "metadata": {
    "scrolled": true
   },
   "outputs": [],
   "source": [
    "HF_Cohort"
   ]
  },
  {
   "cell_type": "code",
   "execution_count": null,
   "metadata": {
    "scrolled": true
   },
   "outputs": [],
   "source": [
    "#Fetch clinical Notes of Cohort: \n",
    "\n",
    "mrns = HF_Cohort_10k.index\n",
    "notes_df = get_patients_notes_hana(patatiens_mrns=mrns, con=conn_hana)\n",
    "notes_df.columns = [x.lower() for x in notes_df.columns]\n",
    "notes_df\n",
    "notes_df.to_parquet('ALL_HF_ICD_Notes_Cohort8.parquet')"
   ]
  },
  {
   "cell_type": "code",
   "execution_count": null,
   "metadata": {
    "scrolled": true
   },
   "outputs": [],
   "source": [
    "notes_df"
   ]
  },
  {
   "cell_type": "code",
   "execution_count": null,
   "metadata": {
    "scrolled": true
   },
   "outputs": [],
   "source": [
    "#combnine the different dataframes: \n",
    "#Load all 8 Parts: \n",
    "Complete_Notes_Cohort = pq.read_table('ALL_HF_ICD_Notes_Cohort1.parquet').to_pandas()\n",
    "Notes_Cohort2 = pq.read_table('ALL_HF_ICD_Notes_Cohort2.parquet').to_pandas()\n",
    "Notes_Cohort3 = pq.read_table('ALL_HF_ICD_Notes_Cohort3.parquet').to_pandas()\n",
    "Notes_Cohort4 = pq.read_table('ALL_HF_ICD_Notes_Cohort4.parquet').to_pandas()\n",
    "Notes_Cohort5 = pq.read_table('ALL_HF_ICD_Notes_Cohort5.parquet').to_pandas()\n",
    "Notes_Cohort6 = pq.read_table('ALL_HF_ICD_Notes_Cohort6.parquet').to_pandas()\n",
    "Notes_Cohort7 = pq.read_table('ALL_HF_ICD_Notes_Cohort7.parquet').to_pandas()\n",
    "Notes_Cohort8 = pq.read_table('ALL_HF_ICD_Notes_Cohort8.parquet').to_pandas()\n",
    "Complete_Notes_Cohort=pd.concat([Complete_Notes_Cohort,Notes_Cohort2,Notes_Cohort3,Notes_Cohort4,Notes_Cohort5,Notes_Cohort6,Notes_Cohort7,Notes_Cohort8])\n",
    "Complete_Notes_Cohort"
   ]
  },
  {
   "cell_type": "code",
   "execution_count": null,
   "metadata": {},
   "outputs": [],
   "source": [
    "Complete_Notes_Cohort.to_parquet('ALL_HF_ICD_Notes_Cohort.parquet')"
   ]
  },
  {
   "cell_type": "code",
   "execution_count": null,
   "metadata": {},
   "outputs": [],
   "source": []
  },
  {
   "cell_type": "code",
   "execution_count": null,
   "metadata": {},
   "outputs": [],
   "source": [
    "#define Vocab ID that we want to look up: 'multi-organ failure','cardiac failure','chronic heart failure','ventricular failure','heart failure'\n",
    "vocab_ID= set(['33576','42931','48256','54066','1736'])"
   ]
  },
  {
   "cell_type": "code",
   "execution_count": null,
   "metadata": {},
   "outputs": [],
   "source": [
    "#Filter CLinical Notes which include Terms that are related to HF \n",
    "notes_MRN_df= pd.DataFrame(columns=['MRN','Note_ID','age_in_days','Term'])\n",
    "for index,row in Complete_Notes_Cohort.iterrows(): \n",
    "    #print(index , row['term_sequence'])\n",
    "    term_sequence=row['term_sequence']\n",
    "    #term_sequence= \"|\"+term_sequence+\"|\"\n",
    "    terms=term_sequence.split('|')\n",
    "    for term in terms: \n",
    "        if term in vocab_ID: \n",
    "            print(\"YES\",row['medical_record_number'], term)\n",
    "            new_row = {'MRN':row['medical_record_number'],'Note_ID':row['note_id'],'age_in_days':row['age_in_days'],'Term':term}\n",
    "            notes_MRN_df= notes_MRN_df.append(new_row, ignore_index=True)"
   ]
  },
  {
   "cell_type": "code",
   "execution_count": null,
   "metadata": {},
   "outputs": [],
   "source": [
    "notes_MRN_df.to_parquet('ALL_Matches_HF_ICD_Notes_Cohort.parquet')\n"
   ]
  },
  {
   "cell_type": "code",
   "execution_count": null,
   "metadata": {},
   "outputs": [],
   "source": [
    "notes_MRN_df"
   ]
  },
  {
   "cell_type": "code",
   "execution_count": null,
   "metadata": {},
   "outputs": [],
   "source": [
    "notes_MRN_df_unique=notes_MRN_df.loc[~notes_MRN_df[\"MRN\"].duplicated(keep='first')]"
   ]
  },
  {
   "cell_type": "code",
   "execution_count": null,
   "metadata": {
    "scrolled": true
   },
   "outputs": [],
   "source": [
    "notes_MRN_df_unique"
   ]
  },
  {
   "cell_type": "code",
   "execution_count": null,
   "metadata": {},
   "outputs": [],
   "source": [
    "notes_MRN_df_unique.to_parquet('Unique_Matches_HF_ICD_Notes_Cohort.parquet')"
   ]
  },
  {
   "cell_type": "markdown",
   "metadata": {},
   "source": [
    "# END of Notebook"
   ]
  },
  {
   "cell_type": "code",
   "execution_count": null,
   "metadata": {},
   "outputs": [],
   "source": [
    "#get ICD Code and terms which are within 100 days\n",
    "#load cohort: \n",
    "HF_Cohort = pq.read_table('Final_HF_ICD_EF_Cohort.parquet').to_pandas()\n",
    "#load clinical notes\n",
    "notes_MRN_df = pq.read_table('ALL_Matches_Clinical_Notes.parquet').to_pandas()"
   ]
  },
  {
   "cell_type": "code",
   "execution_count": null,
   "metadata": {
    "scrolled": true
   },
   "outputs": [],
   "source": [
    "notes_MRN_df\n"
   ]
  },
  {
   "cell_type": "code",
   "execution_count": null,
   "metadata": {},
   "outputs": [],
   "source": [
    "mrn= '2927854333'\n",
    "print(notes_MRN_df.loc[notes_MRN_df['MRN'] == int(mrn)])"
   ]
  },
  {
   "cell_type": "code",
   "execution_count": null,
   "metadata": {},
   "outputs": [],
   "source": [
    "notes_ICD_df= pd.DataFrame(columns=['MRN','age_in_days_icd','Note_ID','age_in_days','Term'])\n",
    "for index,row_icd in HF_Cohort.iterrows(): \n",
    "    mrn= index\n",
    "    age_in_days_icd= row_icd['age_in_days_x']\n",
    "    if notes_MRN_df.loc[notes_MRN_df['MRN'] == int(mrn)].empty==False:\n",
    "        #print(notes_MRN_df.loc[notes_MRN_df['MRN'] == int(mrn)])\n",
    "        notes_specific_MRN= notes_MRN_df.loc[notes_MRN_df['MRN'] == int(mrn)]\n",
    "        for index,row_note in notes_specific_MRN.iterrows(): \n",
    "            age_in_days_note= row_note['age_in_days']\n",
    "            if abs(age_in_days_note-age_in_days_icd)<=100: \n",
    "                print(age_in_days_icd)\n",
    "                new_row  = {'MRN':row_note['MRN'],'age_in_days_icd': age_in_days_icd,'Note_ID':row_note['Note_ID'],'age_in_days': age_in_days_note, 'Term':row_note['Term']}\n",
    "                notes_ICD_df= notes_ICD_df.append(new_row, ignore_index=True)\n",
    "                \n",
    "        \n",
    "    "
   ]
  },
  {
   "cell_type": "code",
   "execution_count": null,
   "metadata": {
    "scrolled": true
   },
   "outputs": [],
   "source": [
    "notes_ICD_df"
   ]
  },
  {
   "cell_type": "code",
   "execution_count": null,
   "metadata": {},
   "outputs": [],
   "source": [
    "notes_ICD_df_unique_100days=notes_ICD_df.loc[~notes_ICD_df[\"MRN\"].duplicated(keep='first')]"
   ]
  },
  {
   "cell_type": "code",
   "execution_count": null,
   "metadata": {},
   "outputs": [],
   "source": [
    "notes_ICD_df_unique_100days"
   ]
  },
  {
   "cell_type": "code",
   "execution_count": null,
   "metadata": {},
   "outputs": [],
   "source": []
  }
 ],
 "metadata": {
  "kernelspec": {
   "display_name": "Python 3",
   "language": "python",
   "name": "python3"
  },
  "language_info": {
   "codemirror_mode": {
    "name": "ipython",
    "version": 3
   },
   "file_extension": ".py",
   "mimetype": "text/x-python",
   "name": "python",
   "nbconvert_exporter": "python",
   "pygments_lexer": "ipython3",
   "version": "3.7.4"
  }
 },
 "nbformat": 4,
 "nbformat_minor": 2
}
