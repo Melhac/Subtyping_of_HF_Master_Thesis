{
 "cells": [
  {
   "cell_type": "code",
   "execution_count": null,
   "metadata": {},
   "outputs": [],
   "source": [
    "import re\n",
    "import os\n",
    "import re\n",
    "import json\n",
    "import spacy\n",
    "import numpy as np\n",
    "import pandas as pd\n",
    "import pyarrow.parquet as pq\n",
    "from tqdm import tqdm_notebook\n",
    "from hdbcli import dbapi\n",
    "import mysql.connector"
   ]
  },
  {
   "cell_type": "markdown",
   "metadata": {},
   "source": [
    "# Get the Diagnosis Date for the Cohort with ICD&EF &Term in Clinical Notes\n",
    "This Notebook is identifying the first Diagnois of Heart Failure (ICD Code or Clinical Note)"
   ]
  },
  {
   "cell_type": "code",
   "execution_count": null,
   "metadata": {},
   "outputs": [],
   "source": [
    "#Load the needed MRNS\n",
    "EF_Cohort = pq.read_table('Unique_HF_ICD_EF_Cohort.parquet').to_pandas()\n",
    "mrns = EF_Cohort.index\n",
    "mrns"
   ]
  },
  {
   "cell_type": "code",
   "execution_count": null,
   "metadata": {
    "scrolled": true
   },
   "outputs": [],
   "source": [
    "#load the all ICD diagnosis dates of the Cohort ICD & EF \n",
    "HF_Cohort=pq.read_table('ALL_HF_ICD_Cohort.parquet').to_pandas()\n",
    "HF_Cohort=HF_Cohort[HF_Cohort['medical_record_number'].isin(mrns)]\n",
    "HF_Cohort"
   ]
  },
  {
   "cell_type": "code",
   "execution_count": null,
   "metadata": {
    "scrolled": true
   },
   "outputs": [],
   "source": [
    "#load all CLinical Notes with HF related Term of the ICD EF Cohort \n",
    "Clinical_notes=pq.read_table('ALL_Matches_HF_ICD_Notes_Cohort.parquet').to_pandas()\n",
    "Clinical_notes_HF_EF=Clinical_notes[Clinical_notes['MRN'].isin(mrns)]\n",
    "Clinical_notes_HF_EF=Clinical_notes_HF_EF.sort_values(['MRN','age_in_days'], ascending=[False,True])\n",
    "Clinical_notes_HF_EF"
   ]
  },
  {
   "cell_type": "code",
   "execution_count": null,
   "metadata": {},
   "outputs": [],
   "source": [
    "def getNotesDates(mrn,age_in_days_icd) :\n",
    "    #print(remaining_MRNS_notes)\n",
    "    notes_specific_MRN= Clinical_notes_HF_EF.loc[Clinical_notes_HF_EF['MRN'] == int(mrn)]\n",
    "    #print(notes_specific_MRN)\n",
    "    for index,row_note in notes_specific_MRN.iterrows(): \n",
    "        age_in_days_note= row_note['age_in_days']\n",
    "        if abs(age_in_days_note-age_in_days_icd)<=365: \n",
    "            #print(row_note)\n",
    "            new_row  = {'MRN':row_note['MRN'],'age_in_days_icd': age_in_days_icd,'Note_ID':row_note['Note_ID'],'age_in_days': age_in_days_note, 'Term':row_note['Term']}\n",
    "            #notes_ICD_EF_df_2= notes_ICD_EF_df_2.append(new_row, ignore_index=True)\n",
    "            #print(notes_ICD_EF_df_2)\n",
    "            return [True , new_row]\n",
    "    return [False, '']"
   ]
  },
  {
   "cell_type": "code",
   "execution_count": null,
   "metadata": {},
   "outputs": [],
   "source": [
    "def getICDDates(mrn,notes_ICD_EF_df):\n",
    "    \n",
    "    ICD_Dates= HF_Cohort.loc[HF_Cohort['medical_record_number'] == str(mrn)]\n",
    "   # print(ICD_Dates)\n",
    "    for index,row_icd in ICD_Dates.iterrows(): \n",
    "        age_in_days_icd= row_icd['age_in_days']\n",
    "        #print(age_in_days_icd,\" Age\")\n",
    "        if Clinical_notes_HF_EF.loc[Clinical_notes_HF_EF['MRN'] == int(mrn)].empty==False:\n",
    "            match=getNotesDates(mrn, age_in_days_icd)\n",
    "            if match[0] == True:\n",
    "                print(match[0])\n",
    "                notes_ICD_EF_df= notes_ICD_EF_df.append(match[1], ignore_index=True)\n",
    "                #print(notes_ICD_EF_df)\n",
    "                return [True,notes_ICD_EF_df]\n",
    "    return [False,'']"
   ]
  },
  {
   "cell_type": "code",
   "execution_count": null,
   "metadata": {
    "scrolled": true
   },
   "outputs": [],
   "source": [
    "notes_ICD_EF_df= pd.DataFrame(columns=['MRN','age_in_days_icd','Note_ID','age_in_days','Term'])\n",
    "for index,row_icd in EF_Cohort.iterrows(): \n",
    "    mrn= index\n",
    "    b=getICDDates(mrn,notes_ICD_EF_df)\n",
    "    if b[0]==True:\n",
    "        notes_ICD_EF_df=b[1]\n",
    "    "
   ]
  },
  {
   "cell_type": "code",
   "execution_count": null,
   "metadata": {
    "scrolled": true
   },
   "outputs": [],
   "source": [
    "notes_ICD_EF_df"
   ]
  },
  {
   "cell_type": "code",
   "execution_count": null,
   "metadata": {},
   "outputs": [],
   "source": [
    "notes_ICD_EF_df.to_parquet('ALL_Matches_1yr_HF_EF_ICD_Notes_Cohort.parquet')"
   ]
  },
  {
   "cell_type": "code",
   "execution_count": null,
   "metadata": {},
   "outputs": [],
   "source": [
    "notes_ICD_EF_df=pq.read_table('ALL_Matches_100Days_HF_EF_ICD_Notes_Cohort.parquet').to_pandas()"
   ]
  },
  {
   "cell_type": "code",
   "execution_count": null,
   "metadata": {
    "scrolled": true
   },
   "outputs": [],
   "source": [
    "notes_ICD_EF_df"
   ]
  },
  {
   "cell_type": "code",
   "execution_count": null,
   "metadata": {},
   "outputs": [],
   "source": [
    "#Add the column HF Onset  age_in_days and type\n",
    "notes_ICD_EF_df[\"HF_Onset_age_in_days\"]=\"\"\n",
    "notes_ICD_EF_df[\"HF_Onset_Type\"]=\"\""
   ]
  },
  {
   "cell_type": "code",
   "execution_count": null,
   "metadata": {},
   "outputs": [],
   "source": [
    "for index,row in notes_ICD_EF_df.iterrows(): \n",
    "    if row['age_in_days_icd']<row['age_in_days']:\n",
    "        row['HF_Onset_age_in_days']=row['age_in_days_icd']\n",
    "        row['HF_Onset_Type']='ICD'\n",
    "    else: \n",
    "        row['HF_Onset_age_in_days']=row['age_in_days'] \n",
    "        row['HF_Onset_Type']='Note'"
   ]
  },
  {
   "cell_type": "code",
   "execution_count": null,
   "metadata": {},
   "outputs": [],
   "source": [
    "notes_ICD_EF_df.to_parquet('ALL_Matches_1yr_HF_EF_ICD_Notes_Cohort.parquet')"
   ]
  },
  {
   "cell_type": "markdown",
   "metadata": {},
   "source": [
    "# Get the Diagnosis Date for the Cohort with ICD &Term in Clinical Notes"
   ]
  },
  {
   "cell_type": "code",
   "execution_count": null,
   "metadata": {},
   "outputs": [],
   "source": [
    "#Load already matches MRNS\n",
    "EF_Cohort = pq.read_table('Unique_HF_ICD_EF_Cohort.parquet').to_pandas()\n",
    "mrns = EF_Cohort.index\n",
    "mrns"
   ]
  },
  {
   "cell_type": "code",
   "execution_count": null,
   "metadata": {
    "scrolled": true
   },
   "outputs": [],
   "source": [
    "#load the all ICD diagnosis dates of the Cohort ICD \n",
    "HF_Cohort=pq.read_table('ALL_HF_ICD_Cohort.parquet').to_pandas()\n",
    "HF_Cohort=HF_Cohort[~HF_Cohort['medical_record_number'].isin(mrns)]\n",
    "HF_Cohort"
   ]
  },
  {
   "cell_type": "code",
   "execution_count": null,
   "metadata": {
    "scrolled": true
   },
   "outputs": [],
   "source": [
    "#load all CLinical Notes with HF related Term of the ICD EF Cohort \n",
    "Clinical_notes=pq.read_table('ALL_Matches_HF_ICD_Notes_Cohort.parquet').to_pandas()\n",
    "Clinical_notes_HF=Clinical_notes[~Clinical_notes['MRN'].isin(mrns)]\n",
    "Clinical_notes_HF=Clinical_notes_HF.sort_values(['MRN','age_in_days'], ascending=[False,True])\n",
    "Clinical_notes_HF"
   ]
  },
  {
   "cell_type": "code",
   "execution_count": null,
   "metadata": {
    "scrolled": true
   },
   "outputs": [],
   "source": [
    "#get list of MRNs for iterating over\n",
    "Clinical_notes_HF_unique=Clinical_notes_HF.loc[~Clinical_notes_HF[\"MRN\"].duplicated(keep='first')]\n",
    "Clinical_notes_HF_unique"
   ]
  },
  {
   "cell_type": "code",
   "execution_count": null,
   "metadata": {},
   "outputs": [],
   "source": [
    "def getNotesDates(mrn,age_in_days_icd) :\n",
    "    #print(remaining_MRNS_notes)\n",
    "    notes_specific_MRN= Clinical_notes_HF.loc[Clinical_notes_HF['MRN'] == int(mrn)]\n",
    "    #print(notes_specific_MRN)\n",
    "    for index,row_note in notes_specific_MRN.iterrows(): \n",
    "        age_in_days_note= row_note['age_in_days']\n",
    "        if abs(age_in_days_note-age_in_days_icd)<=365: \n",
    "            #print(row_note)\n",
    "            new_row  = {'MRN':row_note['MRN'],'age_in_days_icd': age_in_days_icd,'Note_ID':row_note['Note_ID'],'age_in_days': age_in_days_note, 'Term':row_note['Term']}\n",
    "            #notes_ICD_EF_df_2= notes_ICD_EF_df_2.append(new_row, ignore_index=True)\n",
    "            #print(notes_ICD_EF_df_2)\n",
    "            return [True , new_row]\n",
    "    return [False, '']"
   ]
  },
  {
   "cell_type": "code",
   "execution_count": null,
   "metadata": {},
   "outputs": [],
   "source": [
    "def getICDDates(mrn,notes_ICD_df):\n",
    "    \n",
    "    ICD_Dates= HF_Cohort.loc[HF_Cohort['medical_record_number'] == str(mrn)]\n",
    "   # print(ICD_Dates)\n",
    "    for index,row_icd in ICD_Dates.iterrows(): \n",
    "        age_in_days_icd= row_icd['age_in_days']\n",
    "        #print(age_in_days_icd,\" Age\")\n",
    "        if Clinical_notes_HF.loc[Clinical_notes_HF['MRN'] == int(mrn)].empty==False:\n",
    "            match=getNotesDates(mrn, age_in_days_icd)\n",
    "            if match[0] == True:\n",
    "                print(match[0])\n",
    "                notes_ICD_df= notes_ICD_df.append(match[1], ignore_index=True)\n",
    "                #print(notes_ICD_df)\n",
    "                return [True,notes_ICD_df]\n",
    "    return [False,'']"
   ]
  },
  {
   "cell_type": "code",
   "execution_count": null,
   "metadata": {
    "scrolled": true
   },
   "outputs": [],
   "source": [
    "notes_ICD_df= pd.DataFrame(columns=['MRN','age_in_days_icd','Note_ID','age_in_days','Term'])\n",
    "for index,row_icd in Clinical_notes_HF_unique.iterrows(): \n",
    "    mrn= row_icd['MRN']\n",
    "    print(str(mrn))\n",
    "    b=getICDDates(mrn,notes_ICD_df)\n",
    "    if b[0]==True:\n",
    "        notes_ICD_df=b[1]\n",
    "    "
   ]
  },
  {
   "cell_type": "code",
   "execution_count": null,
   "metadata": {},
   "outputs": [],
   "source": [
    "notes_ICD_df.to_parquet('ALL_Matches_1yr_HF_ICD_Notes_Cohort.parquet')"
   ]
  },
  {
   "cell_type": "code",
   "execution_count": null,
   "metadata": {
    "scrolled": true
   },
   "outputs": [],
   "source": [
    "notes_ICD_df"
   ]
  },
  {
   "cell_type": "code",
   "execution_count": null,
   "metadata": {},
   "outputs": [],
   "source": [
    "#Add the column HF Onset  age_in_days and type\n",
    "notes_ICD_df[\"HF_Onset_age_in_days\"]=\"\"\n",
    "notes_ICD_df[\"HF_Onset_Type\"]=\"\""
   ]
  },
  {
   "cell_type": "code",
   "execution_count": null,
   "metadata": {},
   "outputs": [],
   "source": [
    "for index,row in notes_ICD_df.iterrows(): \n",
    "    if row['age_in_days_icd']<row['age_in_days']:\n",
    "        row['HF_Onset_age_in_days']=row['age_in_days_icd']\n",
    "        row['HF_Onset_Type']='ICD'\n",
    "    else: \n",
    "        row['HF_Onset_age_in_days']=row['age_in_days'] \n",
    "        row['HF_Onset_Type']='Note'"
   ]
  },
  {
   "cell_type": "code",
   "execution_count": null,
   "metadata": {
    "scrolled": true
   },
   "outputs": [],
   "source": [
    "notes_ICD_df"
   ]
  },
  {
   "cell_type": "code",
   "execution_count": null,
   "metadata": {},
   "outputs": [],
   "source": [
    "notes_ICD_df.to_parquet('ALL_Matches_1yr_HF_ICD_Notes_Cohort.parquet')"
   ]
  }
 ],
 "metadata": {
  "kernelspec": {
   "display_name": "Python 3",
   "language": "python",
   "name": "python3"
  },
  "language_info": {
   "codemirror_mode": {
    "name": "ipython",
    "version": 3
   },
   "file_extension": ".py",
   "mimetype": "text/x-python",
   "name": "python",
   "nbconvert_exporter": "python",
   "pygments_lexer": "ipython3",
   "version": "3.7.4"
  }
 },
 "nbformat": 4,
 "nbformat_minor": 2
}
