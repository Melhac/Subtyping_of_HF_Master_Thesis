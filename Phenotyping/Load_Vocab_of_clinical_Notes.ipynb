{
 "cells": [
  {
   "cell_type": "code",
   "execution_count": null,
   "metadata": {},
   "outputs": [],
   "source": [
    "import re\n",
    "import os\n",
    "import re\n",
    "import json\n",
    "import spacy\n",
    "import numpy as np\n",
    "import pandas as pd\n",
    "import pyarrow.parquet as pq\n",
    "from tqdm import tqdm_notebook\n",
    "from hdbcli import dbapi\n",
    "import mysql.connector"
   ]
  },
  {
   "cell_type": "markdown",
   "metadata": {},
   "source": [
    "# Vocabulary of the Clinical Notes\n",
    "This Notebook is loading the Vocabulary of the Clinical Notes and saving it. "
   ]
  },
  {
   "cell_type": "code",
   "execution_count": null,
   "metadata": {},
   "outputs": [],
   "source": [
    "#Connection to HANA\n",
    "conn_hana = dbapi.connect(\n",
    "    address='10.111.170.19',\n",
    "    port=39041,\n",
    "    user='hacklm01', # put your username\n",
    "    password='' # put your password\n",
    ")\n",
    "\n",
    "cursor = conn_hana.cursor()"
   ]
  },
  {
   "cell_type": "code",
   "execution_count": null,
   "metadata": {},
   "outputs": [],
   "source": [
    "#Connection to mysql\n",
    "conn_sql = mysql.connector.connect(\n",
    "    host = 'hpims.mysql.database.azure.com',\n",
    "    user = 'hacklm01@hpims', # put your username\n",
    "    passwd = '', # put your password\n",
    "    port = '3306',\n",
    "    database = 'msdw_2018_notes' # use database with clinical notes\n",
    ")"
   ]
  },
  {
   "cell_type": "code",
   "execution_count": null,
   "metadata": {},
   "outputs": [],
   "source": [
    "def save_dict_as_json(file, data):\n",
    "    with open(file, 'w') as f:\n",
    "        json.dump(data, f)\n",
    "\n",
    "def read_json_as_dict(file):\n",
    "    with open(file, 'r') as f:\n",
    "        data = json.load(f)\n",
    "    return data"
   ]
  },
  {
   "cell_type": "code",
   "execution_count": null,
   "metadata": {
    "scrolled": true
   },
   "outputs": [],
   "source": [
    "vocabulary_df = pd.read_sql('SELECT * FROM vocabulary', con=conn_sql)\n",
    "vocabulary_df.head()"
   ]
  },
  {
   "cell_type": "code",
   "execution_count": null,
   "metadata": {},
   "outputs": [],
   "source": [
    "# Build vocab dictionary\n",
    "vocab_dict = {}\n",
    "for index, row in vocabulary_df.iterrows():\n",
    "    term_id = str(row.TERM_ID)\n",
    "    term_str = row.TERM_STR\n",
    "    \n",
    "    vocab_dict[term_id] = term_str"
   ]
  },
  {
   "cell_type": "code",
   "execution_count": null,
   "metadata": {},
   "outputs": [],
   "source": [
    "print('The databse contains a vocabulary of size: ', len(vocab_dict))"
   ]
  },
  {
   "cell_type": "code",
   "execution_count": null,
   "metadata": {},
   "outputs": [],
   "source": [
    "# save dict for further use\n",
    "save_dict_as_json('vocab_dict.json', vocab_dict)"
   ]
  }
 ],
 "metadata": {
  "kernelspec": {
   "display_name": "Python 3",
   "language": "python",
   "name": "python3"
  },
  "language_info": {
   "codemirror_mode": {
    "name": "ipython",
    "version": 3
   },
   "file_extension": ".py",
   "mimetype": "text/x-python",
   "name": "python",
   "nbconvert_exporter": "python",
   "pygments_lexer": "ipython3",
   "version": "3.7.4"
  }
 },
 "nbformat": 4,
 "nbformat_minor": 2
}
